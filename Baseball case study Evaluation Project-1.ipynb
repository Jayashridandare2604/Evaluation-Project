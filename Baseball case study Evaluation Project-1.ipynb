{
 "cells": [
  {
   "cell_type": "markdown",
   "id": "ccc20abb",
   "metadata": {},
   "source": [
    "#### Evaluation Project - 1\n",
    "\n",
    "# Baseball Case Study\n",
    "\n",
    "##### Problem Statement:\n",
    "    \n",
    "This dataset utilizes data from 2014 Major League Baseball seasons in order to develop an algorithm that predicts the number of wins for a given team in the 2015 season based on several different indicators of success. There are 16 different features that will be used as the inputs to the machine learning and the output will be a value that represents the number of wins. \n",
    "\n",
    "-- Input features: Runs, At Bats, Hits, Doubles, Triples, Homeruns, Walks, Strikeouts, Stolen Bases, Runs Allowed, Earned Runs, Earned Run Average (ERA), Shutouts, Saves, Complete Games and Errors\n",
    "\n",
    "-- Output: Number of predicted wins (W)# Lets now import all the required libraries"
   ]
  },
  {
   "cell_type": "code",
   "execution_count": 1,
   "id": "d7f39f9c",
   "metadata": {},
   "outputs": [],
   "source": [
    "# Importing required library\n",
    "import numpy as np\n",
    "import pandas as pd\n",
    "import matplotlib.pyplot as plt\n",
    "import seaborn as sns\n",
    "from scipy.stats import zscore,boxcox"
   ]
  },
  {
   "cell_type": "code",
   "execution_count": 2,
   "id": "c57c5d72",
   "metadata": {},
   "outputs": [],
   "source": [
    "# Machine Learning library\n",
    "\n",
    "from sklearn.linear_model import LinearRegression\n",
    "from sklearn.preprocessing import power_transform\n",
    "from sklearn.preprocessing import StandardScaler\n",
    "from sklearn.model_selection import train_test_split\n",
    "from sklearn.metrics import mean_squared_error,mean_absolute_error,r2_score\n",
    "\n",
    "import warnings\n",
    "warnings.filterwarnings('ignore')"
   ]
  },
  {
   "cell_type": "code",
   "execution_count": 3,
   "id": "4320d66e",
   "metadata": {},
   "outputs": [
    {
     "data": {
      "text/html": [
       "<div>\n",
       "<style scoped>\n",
       "    .dataframe tbody tr th:only-of-type {\n",
       "        vertical-align: middle;\n",
       "    }\n",
       "\n",
       "    .dataframe tbody tr th {\n",
       "        vertical-align: top;\n",
       "    }\n",
       "\n",
       "    .dataframe thead th {\n",
       "        text-align: right;\n",
       "    }\n",
       "</style>\n",
       "<table border=\"1\" class=\"dataframe\">\n",
       "  <thead>\n",
       "    <tr style=\"text-align: right;\">\n",
       "      <th></th>\n",
       "      <th>W</th>\n",
       "      <th>R</th>\n",
       "      <th>AB</th>\n",
       "      <th>H</th>\n",
       "      <th>2B</th>\n",
       "      <th>3B</th>\n",
       "      <th>HR</th>\n",
       "      <th>BB</th>\n",
       "      <th>SO</th>\n",
       "      <th>SB</th>\n",
       "      <th>RA</th>\n",
       "      <th>ER</th>\n",
       "      <th>ERA</th>\n",
       "      <th>CG</th>\n",
       "      <th>SHO</th>\n",
       "      <th>SV</th>\n",
       "      <th>E</th>\n",
       "    </tr>\n",
       "  </thead>\n",
       "  <tbody>\n",
       "    <tr>\n",
       "      <th>0</th>\n",
       "      <td>95</td>\n",
       "      <td>724</td>\n",
       "      <td>5575</td>\n",
       "      <td>1497</td>\n",
       "      <td>300</td>\n",
       "      <td>42</td>\n",
       "      <td>139</td>\n",
       "      <td>383</td>\n",
       "      <td>973</td>\n",
       "      <td>104</td>\n",
       "      <td>641</td>\n",
       "      <td>601</td>\n",
       "      <td>3.73</td>\n",
       "      <td>2</td>\n",
       "      <td>8</td>\n",
       "      <td>56</td>\n",
       "      <td>88</td>\n",
       "    </tr>\n",
       "    <tr>\n",
       "      <th>1</th>\n",
       "      <td>83</td>\n",
       "      <td>696</td>\n",
       "      <td>5467</td>\n",
       "      <td>1349</td>\n",
       "      <td>277</td>\n",
       "      <td>44</td>\n",
       "      <td>156</td>\n",
       "      <td>439</td>\n",
       "      <td>1264</td>\n",
       "      <td>70</td>\n",
       "      <td>700</td>\n",
       "      <td>653</td>\n",
       "      <td>4.07</td>\n",
       "      <td>2</td>\n",
       "      <td>12</td>\n",
       "      <td>45</td>\n",
       "      <td>86</td>\n",
       "    </tr>\n",
       "    <tr>\n",
       "      <th>2</th>\n",
       "      <td>81</td>\n",
       "      <td>669</td>\n",
       "      <td>5439</td>\n",
       "      <td>1395</td>\n",
       "      <td>303</td>\n",
       "      <td>29</td>\n",
       "      <td>141</td>\n",
       "      <td>533</td>\n",
       "      <td>1157</td>\n",
       "      <td>86</td>\n",
       "      <td>640</td>\n",
       "      <td>584</td>\n",
       "      <td>3.67</td>\n",
       "      <td>11</td>\n",
       "      <td>10</td>\n",
       "      <td>38</td>\n",
       "      <td>79</td>\n",
       "    </tr>\n",
       "    <tr>\n",
       "      <th>3</th>\n",
       "      <td>76</td>\n",
       "      <td>622</td>\n",
       "      <td>5533</td>\n",
       "      <td>1381</td>\n",
       "      <td>260</td>\n",
       "      <td>27</td>\n",
       "      <td>136</td>\n",
       "      <td>404</td>\n",
       "      <td>1231</td>\n",
       "      <td>68</td>\n",
       "      <td>701</td>\n",
       "      <td>643</td>\n",
       "      <td>3.98</td>\n",
       "      <td>7</td>\n",
       "      <td>9</td>\n",
       "      <td>37</td>\n",
       "      <td>101</td>\n",
       "    </tr>\n",
       "    <tr>\n",
       "      <th>4</th>\n",
       "      <td>74</td>\n",
       "      <td>689</td>\n",
       "      <td>5605</td>\n",
       "      <td>1515</td>\n",
       "      <td>289</td>\n",
       "      <td>49</td>\n",
       "      <td>151</td>\n",
       "      <td>455</td>\n",
       "      <td>1259</td>\n",
       "      <td>83</td>\n",
       "      <td>803</td>\n",
       "      <td>746</td>\n",
       "      <td>4.64</td>\n",
       "      <td>7</td>\n",
       "      <td>12</td>\n",
       "      <td>35</td>\n",
       "      <td>86</td>\n",
       "    </tr>\n",
       "    <tr>\n",
       "      <th>5</th>\n",
       "      <td>93</td>\n",
       "      <td>891</td>\n",
       "      <td>5509</td>\n",
       "      <td>1480</td>\n",
       "      <td>308</td>\n",
       "      <td>17</td>\n",
       "      <td>232</td>\n",
       "      <td>570</td>\n",
       "      <td>1151</td>\n",
       "      <td>88</td>\n",
       "      <td>670</td>\n",
       "      <td>609</td>\n",
       "      <td>3.80</td>\n",
       "      <td>7</td>\n",
       "      <td>10</td>\n",
       "      <td>34</td>\n",
       "      <td>88</td>\n",
       "    </tr>\n",
       "    <tr>\n",
       "      <th>6</th>\n",
       "      <td>87</td>\n",
       "      <td>764</td>\n",
       "      <td>5567</td>\n",
       "      <td>1397</td>\n",
       "      <td>272</td>\n",
       "      <td>19</td>\n",
       "      <td>212</td>\n",
       "      <td>554</td>\n",
       "      <td>1227</td>\n",
       "      <td>63</td>\n",
       "      <td>698</td>\n",
       "      <td>652</td>\n",
       "      <td>4.03</td>\n",
       "      <td>3</td>\n",
       "      <td>4</td>\n",
       "      <td>48</td>\n",
       "      <td>93</td>\n",
       "    </tr>\n",
       "    <tr>\n",
       "      <th>7</th>\n",
       "      <td>81</td>\n",
       "      <td>713</td>\n",
       "      <td>5485</td>\n",
       "      <td>1370</td>\n",
       "      <td>246</td>\n",
       "      <td>20</td>\n",
       "      <td>217</td>\n",
       "      <td>418</td>\n",
       "      <td>1331</td>\n",
       "      <td>44</td>\n",
       "      <td>693</td>\n",
       "      <td>646</td>\n",
       "      <td>4.05</td>\n",
       "      <td>0</td>\n",
       "      <td>10</td>\n",
       "      <td>43</td>\n",
       "      <td>77</td>\n",
       "    </tr>\n",
       "    <tr>\n",
       "      <th>8</th>\n",
       "      <td>80</td>\n",
       "      <td>644</td>\n",
       "      <td>5485</td>\n",
       "      <td>1383</td>\n",
       "      <td>278</td>\n",
       "      <td>32</td>\n",
       "      <td>167</td>\n",
       "      <td>436</td>\n",
       "      <td>1310</td>\n",
       "      <td>87</td>\n",
       "      <td>642</td>\n",
       "      <td>604</td>\n",
       "      <td>3.74</td>\n",
       "      <td>1</td>\n",
       "      <td>12</td>\n",
       "      <td>60</td>\n",
       "      <td>95</td>\n",
       "    </tr>\n",
       "    <tr>\n",
       "      <th>9</th>\n",
       "      <td>78</td>\n",
       "      <td>748</td>\n",
       "      <td>5640</td>\n",
       "      <td>1495</td>\n",
       "      <td>294</td>\n",
       "      <td>33</td>\n",
       "      <td>161</td>\n",
       "      <td>478</td>\n",
       "      <td>1148</td>\n",
       "      <td>71</td>\n",
       "      <td>753</td>\n",
       "      <td>694</td>\n",
       "      <td>4.31</td>\n",
       "      <td>3</td>\n",
       "      <td>10</td>\n",
       "      <td>40</td>\n",
       "      <td>97</td>\n",
       "    </tr>\n",
       "    <tr>\n",
       "      <th>10</th>\n",
       "      <td>88</td>\n",
       "      <td>751</td>\n",
       "      <td>5511</td>\n",
       "      <td>1419</td>\n",
       "      <td>279</td>\n",
       "      <td>32</td>\n",
       "      <td>172</td>\n",
       "      <td>503</td>\n",
       "      <td>1233</td>\n",
       "      <td>101</td>\n",
       "      <td>733</td>\n",
       "      <td>680</td>\n",
       "      <td>4.24</td>\n",
       "      <td>5</td>\n",
       "      <td>9</td>\n",
       "      <td>45</td>\n",
       "      <td>119</td>\n",
       "    </tr>\n",
       "    <tr>\n",
       "      <th>11</th>\n",
       "      <td>86</td>\n",
       "      <td>729</td>\n",
       "      <td>5459</td>\n",
       "      <td>1363</td>\n",
       "      <td>278</td>\n",
       "      <td>26</td>\n",
       "      <td>230</td>\n",
       "      <td>486</td>\n",
       "      <td>1392</td>\n",
       "      <td>121</td>\n",
       "      <td>618</td>\n",
       "      <td>572</td>\n",
       "      <td>3.57</td>\n",
       "      <td>5</td>\n",
       "      <td>13</td>\n",
       "      <td>39</td>\n",
       "      <td>85</td>\n",
       "    </tr>\n",
       "    <tr>\n",
       "      <th>12</th>\n",
       "      <td>85</td>\n",
       "      <td>661</td>\n",
       "      <td>5417</td>\n",
       "      <td>1331</td>\n",
       "      <td>243</td>\n",
       "      <td>21</td>\n",
       "      <td>176</td>\n",
       "      <td>435</td>\n",
       "      <td>1150</td>\n",
       "      <td>52</td>\n",
       "      <td>675</td>\n",
       "      <td>630</td>\n",
       "      <td>3.94</td>\n",
       "      <td>2</td>\n",
       "      <td>12</td>\n",
       "      <td>46</td>\n",
       "      <td>93</td>\n",
       "    </tr>\n",
       "    <tr>\n",
       "      <th>13</th>\n",
       "      <td>76</td>\n",
       "      <td>656</td>\n",
       "      <td>5544</td>\n",
       "      <td>1379</td>\n",
       "      <td>262</td>\n",
       "      <td>22</td>\n",
       "      <td>198</td>\n",
       "      <td>478</td>\n",
       "      <td>1336</td>\n",
       "      <td>69</td>\n",
       "      <td>726</td>\n",
       "      <td>677</td>\n",
       "      <td>4.16</td>\n",
       "      <td>6</td>\n",
       "      <td>12</td>\n",
       "      <td>45</td>\n",
       "      <td>94</td>\n",
       "    </tr>\n",
       "    <tr>\n",
       "      <th>14</th>\n",
       "      <td>68</td>\n",
       "      <td>694</td>\n",
       "      <td>5600</td>\n",
       "      <td>1405</td>\n",
       "      <td>277</td>\n",
       "      <td>46</td>\n",
       "      <td>146</td>\n",
       "      <td>475</td>\n",
       "      <td>1119</td>\n",
       "      <td>78</td>\n",
       "      <td>729</td>\n",
       "      <td>664</td>\n",
       "      <td>4.14</td>\n",
       "      <td>5</td>\n",
       "      <td>15</td>\n",
       "      <td>28</td>\n",
       "      <td>126</td>\n",
       "    </tr>\n",
       "    <tr>\n",
       "      <th>15</th>\n",
       "      <td>100</td>\n",
       "      <td>647</td>\n",
       "      <td>5484</td>\n",
       "      <td>1386</td>\n",
       "      <td>288</td>\n",
       "      <td>39</td>\n",
       "      <td>137</td>\n",
       "      <td>506</td>\n",
       "      <td>1267</td>\n",
       "      <td>69</td>\n",
       "      <td>525</td>\n",
       "      <td>478</td>\n",
       "      <td>2.94</td>\n",
       "      <td>1</td>\n",
       "      <td>15</td>\n",
       "      <td>62</td>\n",
       "      <td>96</td>\n",
       "    </tr>\n",
       "    <tr>\n",
       "      <th>16</th>\n",
       "      <td>98</td>\n",
       "      <td>697</td>\n",
       "      <td>5631</td>\n",
       "      <td>1462</td>\n",
       "      <td>292</td>\n",
       "      <td>27</td>\n",
       "      <td>140</td>\n",
       "      <td>461</td>\n",
       "      <td>1322</td>\n",
       "      <td>98</td>\n",
       "      <td>596</td>\n",
       "      <td>532</td>\n",
       "      <td>3.21</td>\n",
       "      <td>0</td>\n",
       "      <td>13</td>\n",
       "      <td>54</td>\n",
       "      <td>122</td>\n",
       "    </tr>\n",
       "    <tr>\n",
       "      <th>17</th>\n",
       "      <td>97</td>\n",
       "      <td>689</td>\n",
       "      <td>5491</td>\n",
       "      <td>1341</td>\n",
       "      <td>272</td>\n",
       "      <td>30</td>\n",
       "      <td>171</td>\n",
       "      <td>567</td>\n",
       "      <td>1518</td>\n",
       "      <td>95</td>\n",
       "      <td>608</td>\n",
       "      <td>546</td>\n",
       "      <td>3.36</td>\n",
       "      <td>6</td>\n",
       "      <td>21</td>\n",
       "      <td>48</td>\n",
       "      <td>111</td>\n",
       "    </tr>\n",
       "    <tr>\n",
       "      <th>18</th>\n",
       "      <td>68</td>\n",
       "      <td>655</td>\n",
       "      <td>5480</td>\n",
       "      <td>1378</td>\n",
       "      <td>274</td>\n",
       "      <td>34</td>\n",
       "      <td>145</td>\n",
       "      <td>412</td>\n",
       "      <td>1299</td>\n",
       "      <td>84</td>\n",
       "      <td>737</td>\n",
       "      <td>682</td>\n",
       "      <td>4.28</td>\n",
       "      <td>1</td>\n",
       "      <td>7</td>\n",
       "      <td>40</td>\n",
       "      <td>116</td>\n",
       "    </tr>\n",
       "    <tr>\n",
       "      <th>19</th>\n",
       "      <td>64</td>\n",
       "      <td>640</td>\n",
       "      <td>5571</td>\n",
       "      <td>1382</td>\n",
       "      <td>257</td>\n",
       "      <td>27</td>\n",
       "      <td>167</td>\n",
       "      <td>496</td>\n",
       "      <td>1255</td>\n",
       "      <td>134</td>\n",
       "      <td>754</td>\n",
       "      <td>700</td>\n",
       "      <td>4.33</td>\n",
       "      <td>2</td>\n",
       "      <td>8</td>\n",
       "      <td>35</td>\n",
       "      <td>90</td>\n",
       "    </tr>\n",
       "    <tr>\n",
       "      <th>20</th>\n",
       "      <td>90</td>\n",
       "      <td>683</td>\n",
       "      <td>5527</td>\n",
       "      <td>1351</td>\n",
       "      <td>295</td>\n",
       "      <td>17</td>\n",
       "      <td>177</td>\n",
       "      <td>488</td>\n",
       "      <td>1290</td>\n",
       "      <td>51</td>\n",
       "      <td>613</td>\n",
       "      <td>557</td>\n",
       "      <td>3.43</td>\n",
       "      <td>1</td>\n",
       "      <td>14</td>\n",
       "      <td>50</td>\n",
       "      <td>88</td>\n",
       "    </tr>\n",
       "    <tr>\n",
       "      <th>21</th>\n",
       "      <td>83</td>\n",
       "      <td>703</td>\n",
       "      <td>5428</td>\n",
       "      <td>1363</td>\n",
       "      <td>265</td>\n",
       "      <td>13</td>\n",
       "      <td>177</td>\n",
       "      <td>539</td>\n",
       "      <td>1344</td>\n",
       "      <td>57</td>\n",
       "      <td>635</td>\n",
       "      <td>577</td>\n",
       "      <td>3.62</td>\n",
       "      <td>4</td>\n",
       "      <td>13</td>\n",
       "      <td>41</td>\n",
       "      <td>90</td>\n",
       "    </tr>\n",
       "    <tr>\n",
       "      <th>22</th>\n",
       "      <td>71</td>\n",
       "      <td>613</td>\n",
       "      <td>5463</td>\n",
       "      <td>1420</td>\n",
       "      <td>236</td>\n",
       "      <td>40</td>\n",
       "      <td>120</td>\n",
       "      <td>375</td>\n",
       "      <td>1150</td>\n",
       "      <td>112</td>\n",
       "      <td>678</td>\n",
       "      <td>638</td>\n",
       "      <td>4.02</td>\n",
       "      <td>0</td>\n",
       "      <td>12</td>\n",
       "      <td>35</td>\n",
       "      <td>77</td>\n",
       "    </tr>\n",
       "    <tr>\n",
       "      <th>23</th>\n",
       "      <td>67</td>\n",
       "      <td>573</td>\n",
       "      <td>5420</td>\n",
       "      <td>1361</td>\n",
       "      <td>251</td>\n",
       "      <td>18</td>\n",
       "      <td>100</td>\n",
       "      <td>471</td>\n",
       "      <td>1107</td>\n",
       "      <td>69</td>\n",
       "      <td>760</td>\n",
       "      <td>698</td>\n",
       "      <td>4.41</td>\n",
       "      <td>3</td>\n",
       "      <td>10</td>\n",
       "      <td>44</td>\n",
       "      <td>90</td>\n",
       "    </tr>\n",
       "    <tr>\n",
       "      <th>24</th>\n",
       "      <td>63</td>\n",
       "      <td>626</td>\n",
       "      <td>5529</td>\n",
       "      <td>1374</td>\n",
       "      <td>272</td>\n",
       "      <td>37</td>\n",
       "      <td>130</td>\n",
       "      <td>387</td>\n",
       "      <td>1274</td>\n",
       "      <td>88</td>\n",
       "      <td>809</td>\n",
       "      <td>749</td>\n",
       "      <td>4.69</td>\n",
       "      <td>1</td>\n",
       "      <td>7</td>\n",
       "      <td>35</td>\n",
       "      <td>117</td>\n",
       "    </tr>\n",
       "    <tr>\n",
       "      <th>25</th>\n",
       "      <td>92</td>\n",
       "      <td>667</td>\n",
       "      <td>5385</td>\n",
       "      <td>1346</td>\n",
       "      <td>263</td>\n",
       "      <td>26</td>\n",
       "      <td>187</td>\n",
       "      <td>563</td>\n",
       "      <td>1258</td>\n",
       "      <td>59</td>\n",
       "      <td>595</td>\n",
       "      <td>553</td>\n",
       "      <td>3.44</td>\n",
       "      <td>6</td>\n",
       "      <td>21</td>\n",
       "      <td>47</td>\n",
       "      <td>75</td>\n",
       "    </tr>\n",
       "    <tr>\n",
       "      <th>26</th>\n",
       "      <td>84</td>\n",
       "      <td>696</td>\n",
       "      <td>5565</td>\n",
       "      <td>1486</td>\n",
       "      <td>288</td>\n",
       "      <td>39</td>\n",
       "      <td>136</td>\n",
       "      <td>457</td>\n",
       "      <td>1159</td>\n",
       "      <td>93</td>\n",
       "      <td>627</td>\n",
       "      <td>597</td>\n",
       "      <td>3.72</td>\n",
       "      <td>7</td>\n",
       "      <td>18</td>\n",
       "      <td>41</td>\n",
       "      <td>78</td>\n",
       "    </tr>\n",
       "    <tr>\n",
       "      <th>27</th>\n",
       "      <td>79</td>\n",
       "      <td>720</td>\n",
       "      <td>5649</td>\n",
       "      <td>1494</td>\n",
       "      <td>289</td>\n",
       "      <td>48</td>\n",
       "      <td>154</td>\n",
       "      <td>490</td>\n",
       "      <td>1312</td>\n",
       "      <td>132</td>\n",
       "      <td>713</td>\n",
       "      <td>659</td>\n",
       "      <td>4.04</td>\n",
       "      <td>1</td>\n",
       "      <td>12</td>\n",
       "      <td>44</td>\n",
       "      <td>86</td>\n",
       "    </tr>\n",
       "    <tr>\n",
       "      <th>28</th>\n",
       "      <td>74</td>\n",
       "      <td>650</td>\n",
       "      <td>5457</td>\n",
       "      <td>1324</td>\n",
       "      <td>260</td>\n",
       "      <td>36</td>\n",
       "      <td>148</td>\n",
       "      <td>426</td>\n",
       "      <td>1327</td>\n",
       "      <td>82</td>\n",
       "      <td>731</td>\n",
       "      <td>655</td>\n",
       "      <td>4.09</td>\n",
       "      <td>1</td>\n",
       "      <td>6</td>\n",
       "      <td>41</td>\n",
       "      <td>92</td>\n",
       "    </tr>\n",
       "    <tr>\n",
       "      <th>29</th>\n",
       "      <td>68</td>\n",
       "      <td>737</td>\n",
       "      <td>5572</td>\n",
       "      <td>1479</td>\n",
       "      <td>274</td>\n",
       "      <td>49</td>\n",
       "      <td>186</td>\n",
       "      <td>388</td>\n",
       "      <td>1283</td>\n",
       "      <td>97</td>\n",
       "      <td>844</td>\n",
       "      <td>799</td>\n",
       "      <td>5.04</td>\n",
       "      <td>4</td>\n",
       "      <td>4</td>\n",
       "      <td>36</td>\n",
       "      <td>95</td>\n",
       "    </tr>\n",
       "  </tbody>\n",
       "</table>\n",
       "</div>"
      ],
      "text/plain": [
       "      W    R    AB     H   2B  3B   HR   BB    SO   SB   RA   ER   ERA  CG  \\\n",
       "0    95  724  5575  1497  300  42  139  383   973  104  641  601  3.73   2   \n",
       "1    83  696  5467  1349  277  44  156  439  1264   70  700  653  4.07   2   \n",
       "2    81  669  5439  1395  303  29  141  533  1157   86  640  584  3.67  11   \n",
       "3    76  622  5533  1381  260  27  136  404  1231   68  701  643  3.98   7   \n",
       "4    74  689  5605  1515  289  49  151  455  1259   83  803  746  4.64   7   \n",
       "5    93  891  5509  1480  308  17  232  570  1151   88  670  609  3.80   7   \n",
       "6    87  764  5567  1397  272  19  212  554  1227   63  698  652  4.03   3   \n",
       "7    81  713  5485  1370  246  20  217  418  1331   44  693  646  4.05   0   \n",
       "8    80  644  5485  1383  278  32  167  436  1310   87  642  604  3.74   1   \n",
       "9    78  748  5640  1495  294  33  161  478  1148   71  753  694  4.31   3   \n",
       "10   88  751  5511  1419  279  32  172  503  1233  101  733  680  4.24   5   \n",
       "11   86  729  5459  1363  278  26  230  486  1392  121  618  572  3.57   5   \n",
       "12   85  661  5417  1331  243  21  176  435  1150   52  675  630  3.94   2   \n",
       "13   76  656  5544  1379  262  22  198  478  1336   69  726  677  4.16   6   \n",
       "14   68  694  5600  1405  277  46  146  475  1119   78  729  664  4.14   5   \n",
       "15  100  647  5484  1386  288  39  137  506  1267   69  525  478  2.94   1   \n",
       "16   98  697  5631  1462  292  27  140  461  1322   98  596  532  3.21   0   \n",
       "17   97  689  5491  1341  272  30  171  567  1518   95  608  546  3.36   6   \n",
       "18   68  655  5480  1378  274  34  145  412  1299   84  737  682  4.28   1   \n",
       "19   64  640  5571  1382  257  27  167  496  1255  134  754  700  4.33   2   \n",
       "20   90  683  5527  1351  295  17  177  488  1290   51  613  557  3.43   1   \n",
       "21   83  703  5428  1363  265  13  177  539  1344   57  635  577  3.62   4   \n",
       "22   71  613  5463  1420  236  40  120  375  1150  112  678  638  4.02   0   \n",
       "23   67  573  5420  1361  251  18  100  471  1107   69  760  698  4.41   3   \n",
       "24   63  626  5529  1374  272  37  130  387  1274   88  809  749  4.69   1   \n",
       "25   92  667  5385  1346  263  26  187  563  1258   59  595  553  3.44   6   \n",
       "26   84  696  5565  1486  288  39  136  457  1159   93  627  597  3.72   7   \n",
       "27   79  720  5649  1494  289  48  154  490  1312  132  713  659  4.04   1   \n",
       "28   74  650  5457  1324  260  36  148  426  1327   82  731  655  4.09   1   \n",
       "29   68  737  5572  1479  274  49  186  388  1283   97  844  799  5.04   4   \n",
       "\n",
       "    SHO  SV    E  \n",
       "0     8  56   88  \n",
       "1    12  45   86  \n",
       "2    10  38   79  \n",
       "3     9  37  101  \n",
       "4    12  35   86  \n",
       "5    10  34   88  \n",
       "6     4  48   93  \n",
       "7    10  43   77  \n",
       "8    12  60   95  \n",
       "9    10  40   97  \n",
       "10    9  45  119  \n",
       "11   13  39   85  \n",
       "12   12  46   93  \n",
       "13   12  45   94  \n",
       "14   15  28  126  \n",
       "15   15  62   96  \n",
       "16   13  54  122  \n",
       "17   21  48  111  \n",
       "18    7  40  116  \n",
       "19    8  35   90  \n",
       "20   14  50   88  \n",
       "21   13  41   90  \n",
       "22   12  35   77  \n",
       "23   10  44   90  \n",
       "24    7  35  117  \n",
       "25   21  47   75  \n",
       "26   18  41   78  \n",
       "27   12  44   86  \n",
       "28    6  41   92  \n",
       "29    4  36   95  "
      ]
     },
     "execution_count": 3,
     "metadata": {},
     "output_type": "execute_result"
    }
   ],
   "source": [
    "#Read the datafiles and loading the datasets,trying to understand the data.\n",
    "\n",
    "df=pd.read_csv('baseball.csv') \n",
    "df"
   ]
  },
  {
   "cell_type": "code",
   "execution_count": 4,
   "id": "bb410141",
   "metadata": {},
   "outputs": [
    {
     "data": {
      "text/plain": [
       "Index(['W', 'R', 'AB', 'H', '2B', '3B', 'HR', 'BB', 'SO', 'SB', 'RA', 'ER',\n",
       "       'ERA', 'CG', 'SHO', 'SV', 'E'],\n",
       "      dtype='object')"
      ]
     },
     "execution_count": 4,
     "metadata": {},
     "output_type": "execute_result"
    }
   ],
   "source": [
    "df.columns"
   ]
  },
  {
   "cell_type": "markdown",
   "id": "00f5d493",
   "metadata": {},
   "source": [
    "### Description for Dataset"
   ]
  },
  {
   "cell_type": "markdown",
   "id": "0dd8299f",
   "metadata": {},
   "source": [
    "nput features:\n",
    "\n",
    "Runs, At Bats, Hits, Doubles, Triples, Homeruns, Walks, Strikeouts, Stolen Bases, Runs Allowed, Earned Runs, Earned Run Average (ERA), Shutouts, Saves, Complete Games and Errors\n",
    "\n",
    "    R  - Runs\n",
    "    AB - At Bats\n",
    "    H  - Hits\n",
    "    2B - Doubles\n",
    "    3B - Triples\n",
    "    HR - Homeruns\n",
    "    BB - Walks\n",
    "    SO - Strikeouts\n",
    "    SB - Stolen Bases\n",
    "    RA - Run Allowed\n",
    "    ER - Earned Runs\n",
    "    ERA - Earned Run Average (ERA)\n",
    "    CG - Complete games ( referred online)\n",
    "    SHO - Shutouts\n",
    "    SV - Saves\n",
    "    E - Errors\n",
    "    Output:\n",
    "\n",
    "Number of predicted wins (W)\n",
    "\n",
    "    W - Number of predicted wins"
   ]
  },
  {
   "cell_type": "code",
   "execution_count": 5,
   "id": "157889ce",
   "metadata": {},
   "outputs": [
    {
     "data": {
      "text/plain": [
       "(30, 17)"
      ]
     },
     "execution_count": 5,
     "metadata": {},
     "output_type": "execute_result"
    }
   ],
   "source": [
    "#knowing the shape of the datasets\n",
    "df.shape"
   ]
  },
  {
   "cell_type": "markdown",
   "id": "a6c87250",
   "metadata": {},
   "source": [
    "They are 30 rows and 17 columns is their in the dataset"
   ]
  },
  {
   "cell_type": "code",
   "execution_count": 6,
   "id": "f2a94957",
   "metadata": {},
   "outputs": [
    {
     "data": {
      "text/plain": [
       "W        int64\n",
       "R        int64\n",
       "AB       int64\n",
       "H        int64\n",
       "2B       int64\n",
       "3B       int64\n",
       "HR       int64\n",
       "BB       int64\n",
       "SO       int64\n",
       "SB       int64\n",
       "RA       int64\n",
       "ER       int64\n",
       "ERA    float64\n",
       "CG       int64\n",
       "SHO      int64\n",
       "SV       int64\n",
       "E        int64\n",
       "dtype: object"
      ]
     },
     "execution_count": 6,
     "metadata": {},
     "output_type": "execute_result"
    }
   ],
   "source": [
    "#finding the datatypes of each of the columns.\n",
    "df.dtypes"
   ]
  },
  {
   "cell_type": "markdown",
   "id": "f21fddb1",
   "metadata": {},
   "source": [
    "#### Key observation :\n",
    "\n",
    "- All value is in numeric only so no need to use label encoder\n",
    "- 16 integer and 1 float variable present in dataset.\n",
    "- No categorical value present in dataset"
   ]
  },
  {
   "cell_type": "code",
   "execution_count": 7,
   "id": "7cb29270",
   "metadata": {},
   "outputs": [
    {
     "name": "stdout",
     "output_type": "stream",
     "text": [
      "<class 'pandas.core.frame.DataFrame'>\n",
      "RangeIndex: 30 entries, 0 to 29\n",
      "Data columns (total 17 columns):\n",
      " #   Column  Non-Null Count  Dtype  \n",
      "---  ------  --------------  -----  \n",
      " 0   W       30 non-null     int64  \n",
      " 1   R       30 non-null     int64  \n",
      " 2   AB      30 non-null     int64  \n",
      " 3   H       30 non-null     int64  \n",
      " 4   2B      30 non-null     int64  \n",
      " 5   3B      30 non-null     int64  \n",
      " 6   HR      30 non-null     int64  \n",
      " 7   BB      30 non-null     int64  \n",
      " 8   SO      30 non-null     int64  \n",
      " 9   SB      30 non-null     int64  \n",
      " 10  RA      30 non-null     int64  \n",
      " 11  ER      30 non-null     int64  \n",
      " 12  ERA     30 non-null     float64\n",
      " 13  CG      30 non-null     int64  \n",
      " 14  SHO     30 non-null     int64  \n",
      " 15  SV      30 non-null     int64  \n",
      " 16  E       30 non-null     int64  \n",
      "dtypes: float64(1), int64(16)\n",
      "memory usage: 4.1 KB\n"
     ]
    }
   ],
   "source": [
    "df.info()"
   ]
  },
  {
   "cell_type": "code",
   "execution_count": 8,
   "id": "0230afc5",
   "metadata": {},
   "outputs": [
    {
     "data": {
      "text/plain": [
       "W      0\n",
       "R      0\n",
       "AB     0\n",
       "H      0\n",
       "2B     0\n",
       "3B     0\n",
       "HR     0\n",
       "BB     0\n",
       "SO     0\n",
       "SB     0\n",
       "RA     0\n",
       "ER     0\n",
       "ERA    0\n",
       "CG     0\n",
       "SHO    0\n",
       "SV     0\n",
       "E      0\n",
       "dtype: int64"
      ]
     },
     "execution_count": 8,
     "metadata": {},
     "output_type": "execute_result"
    }
   ],
   "source": [
    "# Checking any null value presends in dataset\n",
    "\n",
    "df.isnull().sum()"
   ]
  },
  {
   "cell_type": "markdown",
   "id": "7d859c86",
   "metadata": {},
   "source": [
    "No null values are present in the dataset."
   ]
  },
  {
   "cell_type": "markdown",
   "id": "493c5a50",
   "metadata": {},
   "source": [
    "## Exploratory Data Analysis (EDA)\n",
    "\n",
    "#### Summary Statistics"
   ]
  },
  {
   "cell_type": "code",
   "execution_count": 9,
   "id": "84804a62",
   "metadata": {},
   "outputs": [
    {
     "data": {
      "text/html": [
       "<div>\n",
       "<style scoped>\n",
       "    .dataframe tbody tr th:only-of-type {\n",
       "        vertical-align: middle;\n",
       "    }\n",
       "\n",
       "    .dataframe tbody tr th {\n",
       "        vertical-align: top;\n",
       "    }\n",
       "\n",
       "    .dataframe thead th {\n",
       "        text-align: right;\n",
       "    }\n",
       "</style>\n",
       "<table border=\"1\" class=\"dataframe\">\n",
       "  <thead>\n",
       "    <tr style=\"text-align: right;\">\n",
       "      <th></th>\n",
       "      <th>W</th>\n",
       "      <th>R</th>\n",
       "      <th>AB</th>\n",
       "      <th>H</th>\n",
       "      <th>2B</th>\n",
       "      <th>3B</th>\n",
       "      <th>HR</th>\n",
       "      <th>BB</th>\n",
       "      <th>SO</th>\n",
       "      <th>SB</th>\n",
       "      <th>RA</th>\n",
       "      <th>ER</th>\n",
       "      <th>ERA</th>\n",
       "      <th>CG</th>\n",
       "      <th>SHO</th>\n",
       "      <th>SV</th>\n",
       "      <th>E</th>\n",
       "    </tr>\n",
       "  </thead>\n",
       "  <tbody>\n",
       "    <tr>\n",
       "      <th>count</th>\n",
       "      <td>30.000000</td>\n",
       "      <td>30.000000</td>\n",
       "      <td>30.000000</td>\n",
       "      <td>30.000000</td>\n",
       "      <td>30.000000</td>\n",
       "      <td>30.000000</td>\n",
       "      <td>30.000000</td>\n",
       "      <td>30.000000</td>\n",
       "      <td>30.00000</td>\n",
       "      <td>30.000000</td>\n",
       "      <td>30.000000</td>\n",
       "      <td>30.000000</td>\n",
       "      <td>30.000000</td>\n",
       "      <td>30.000000</td>\n",
       "      <td>30.000000</td>\n",
       "      <td>30.000000</td>\n",
       "      <td>30.000000</td>\n",
       "    </tr>\n",
       "    <tr>\n",
       "      <th>mean</th>\n",
       "      <td>80.966667</td>\n",
       "      <td>688.233333</td>\n",
       "      <td>5516.266667</td>\n",
       "      <td>1403.533333</td>\n",
       "      <td>274.733333</td>\n",
       "      <td>31.300000</td>\n",
       "      <td>163.633333</td>\n",
       "      <td>469.100000</td>\n",
       "      <td>1248.20000</td>\n",
       "      <td>83.500000</td>\n",
       "      <td>688.233333</td>\n",
       "      <td>635.833333</td>\n",
       "      <td>3.956333</td>\n",
       "      <td>3.466667</td>\n",
       "      <td>11.300000</td>\n",
       "      <td>43.066667</td>\n",
       "      <td>94.333333</td>\n",
       "    </tr>\n",
       "    <tr>\n",
       "      <th>std</th>\n",
       "      <td>10.453455</td>\n",
       "      <td>58.761754</td>\n",
       "      <td>70.467372</td>\n",
       "      <td>57.140923</td>\n",
       "      <td>18.095405</td>\n",
       "      <td>10.452355</td>\n",
       "      <td>31.823309</td>\n",
       "      <td>57.053725</td>\n",
       "      <td>103.75947</td>\n",
       "      <td>22.815225</td>\n",
       "      <td>72.108005</td>\n",
       "      <td>70.140786</td>\n",
       "      <td>0.454089</td>\n",
       "      <td>2.763473</td>\n",
       "      <td>4.120177</td>\n",
       "      <td>7.869335</td>\n",
       "      <td>13.958889</td>\n",
       "    </tr>\n",
       "    <tr>\n",
       "      <th>min</th>\n",
       "      <td>63.000000</td>\n",
       "      <td>573.000000</td>\n",
       "      <td>5385.000000</td>\n",
       "      <td>1324.000000</td>\n",
       "      <td>236.000000</td>\n",
       "      <td>13.000000</td>\n",
       "      <td>100.000000</td>\n",
       "      <td>375.000000</td>\n",
       "      <td>973.00000</td>\n",
       "      <td>44.000000</td>\n",
       "      <td>525.000000</td>\n",
       "      <td>478.000000</td>\n",
       "      <td>2.940000</td>\n",
       "      <td>0.000000</td>\n",
       "      <td>4.000000</td>\n",
       "      <td>28.000000</td>\n",
       "      <td>75.000000</td>\n",
       "    </tr>\n",
       "    <tr>\n",
       "      <th>25%</th>\n",
       "      <td>74.000000</td>\n",
       "      <td>651.250000</td>\n",
       "      <td>5464.000000</td>\n",
       "      <td>1363.000000</td>\n",
       "      <td>262.250000</td>\n",
       "      <td>23.000000</td>\n",
       "      <td>140.250000</td>\n",
       "      <td>428.250000</td>\n",
       "      <td>1157.50000</td>\n",
       "      <td>69.000000</td>\n",
       "      <td>636.250000</td>\n",
       "      <td>587.250000</td>\n",
       "      <td>3.682500</td>\n",
       "      <td>1.000000</td>\n",
       "      <td>9.000000</td>\n",
       "      <td>37.250000</td>\n",
       "      <td>86.000000</td>\n",
       "    </tr>\n",
       "    <tr>\n",
       "      <th>50%</th>\n",
       "      <td>81.000000</td>\n",
       "      <td>689.000000</td>\n",
       "      <td>5510.000000</td>\n",
       "      <td>1382.500000</td>\n",
       "      <td>275.500000</td>\n",
       "      <td>31.000000</td>\n",
       "      <td>158.500000</td>\n",
       "      <td>473.000000</td>\n",
       "      <td>1261.50000</td>\n",
       "      <td>83.500000</td>\n",
       "      <td>695.500000</td>\n",
       "      <td>644.500000</td>\n",
       "      <td>4.025000</td>\n",
       "      <td>3.000000</td>\n",
       "      <td>12.000000</td>\n",
       "      <td>42.000000</td>\n",
       "      <td>91.000000</td>\n",
       "    </tr>\n",
       "    <tr>\n",
       "      <th>75%</th>\n",
       "      <td>87.750000</td>\n",
       "      <td>718.250000</td>\n",
       "      <td>5570.000000</td>\n",
       "      <td>1451.500000</td>\n",
       "      <td>288.750000</td>\n",
       "      <td>39.000000</td>\n",
       "      <td>177.000000</td>\n",
       "      <td>501.250000</td>\n",
       "      <td>1311.50000</td>\n",
       "      <td>96.500000</td>\n",
       "      <td>732.500000</td>\n",
       "      <td>679.250000</td>\n",
       "      <td>4.220000</td>\n",
       "      <td>5.750000</td>\n",
       "      <td>13.000000</td>\n",
       "      <td>46.750000</td>\n",
       "      <td>96.750000</td>\n",
       "    </tr>\n",
       "    <tr>\n",
       "      <th>max</th>\n",
       "      <td>100.000000</td>\n",
       "      <td>891.000000</td>\n",
       "      <td>5649.000000</td>\n",
       "      <td>1515.000000</td>\n",
       "      <td>308.000000</td>\n",
       "      <td>49.000000</td>\n",
       "      <td>232.000000</td>\n",
       "      <td>570.000000</td>\n",
       "      <td>1518.00000</td>\n",
       "      <td>134.000000</td>\n",
       "      <td>844.000000</td>\n",
       "      <td>799.000000</td>\n",
       "      <td>5.040000</td>\n",
       "      <td>11.000000</td>\n",
       "      <td>21.000000</td>\n",
       "      <td>62.000000</td>\n",
       "      <td>126.000000</td>\n",
       "    </tr>\n",
       "  </tbody>\n",
       "</table>\n",
       "</div>"
      ],
      "text/plain": [
       "                W           R           AB            H          2B  \\\n",
       "count   30.000000   30.000000    30.000000    30.000000   30.000000   \n",
       "mean    80.966667  688.233333  5516.266667  1403.533333  274.733333   \n",
       "std     10.453455   58.761754    70.467372    57.140923   18.095405   \n",
       "min     63.000000  573.000000  5385.000000  1324.000000  236.000000   \n",
       "25%     74.000000  651.250000  5464.000000  1363.000000  262.250000   \n",
       "50%     81.000000  689.000000  5510.000000  1382.500000  275.500000   \n",
       "75%     87.750000  718.250000  5570.000000  1451.500000  288.750000   \n",
       "max    100.000000  891.000000  5649.000000  1515.000000  308.000000   \n",
       "\n",
       "              3B          HR          BB          SO          SB          RA  \\\n",
       "count  30.000000   30.000000   30.000000    30.00000   30.000000   30.000000   \n",
       "mean   31.300000  163.633333  469.100000  1248.20000   83.500000  688.233333   \n",
       "std    10.452355   31.823309   57.053725   103.75947   22.815225   72.108005   \n",
       "min    13.000000  100.000000  375.000000   973.00000   44.000000  525.000000   \n",
       "25%    23.000000  140.250000  428.250000  1157.50000   69.000000  636.250000   \n",
       "50%    31.000000  158.500000  473.000000  1261.50000   83.500000  695.500000   \n",
       "75%    39.000000  177.000000  501.250000  1311.50000   96.500000  732.500000   \n",
       "max    49.000000  232.000000  570.000000  1518.00000  134.000000  844.000000   \n",
       "\n",
       "               ER        ERA         CG        SHO         SV           E  \n",
       "count   30.000000  30.000000  30.000000  30.000000  30.000000   30.000000  \n",
       "mean   635.833333   3.956333   3.466667  11.300000  43.066667   94.333333  \n",
       "std     70.140786   0.454089   2.763473   4.120177   7.869335   13.958889  \n",
       "min    478.000000   2.940000   0.000000   4.000000  28.000000   75.000000  \n",
       "25%    587.250000   3.682500   1.000000   9.000000  37.250000   86.000000  \n",
       "50%    644.500000   4.025000   3.000000  12.000000  42.000000   91.000000  \n",
       "75%    679.250000   4.220000   5.750000  13.000000  46.750000   96.750000  \n",
       "max    799.000000   5.040000  11.000000  21.000000  62.000000  126.000000  "
      ]
     },
     "execution_count": 9,
     "metadata": {},
     "output_type": "execute_result"
    }
   ],
   "source": [
    "df.describe()"
   ]
  },
  {
   "cell_type": "markdown",
   "id": "f2da51eb",
   "metadata": {},
   "source": [
    "#### Key observations:\n",
    "- In above description some of column having outlier and skewness.we will observe the data using some other techniques."
   ]
  },
  {
   "cell_type": "markdown",
   "id": "6bbf4638",
   "metadata": {},
   "source": [
    "#### Data Visualization\n",
    "\n",
    "To check missing values"
   ]
  },
  {
   "cell_type": "code",
   "execution_count": 10,
   "id": "6808455a",
   "metadata": {},
   "outputs": [
    {
     "data": {
      "text/plain": [
       "<AxesSubplot:>"
      ]
     },
     "execution_count": 10,
     "metadata": {},
     "output_type": "execute_result"
    },
    {
     "data": {
      "image/png": "[encoded data removed]",
      "text/plain": [
       "<Figure size 432x288 with 2 Axes>"
      ]
     },
     "metadata": {
      "needs_background": "light"
     },
     "output_type": "display_data"
    }
   ],
   "source": [
    "sns.heatmap(df.isnull())"
   ]
  },
  {
   "cell_type": "markdown",
   "id": "19969e41",
   "metadata": {},
   "source": [
    "Using Visualizing data plot to re-check null value and heatmap plot is showing their is no null value present in the dataset"
   ]
  },
  {
   "cell_type": "markdown",
   "id": "378c32da",
   "metadata": {},
   "source": [
    "### To check Correlation"
   ]
  },
  {
   "cell_type": "code",
   "execution_count": 11,
   "id": "1804825c",
   "metadata": {},
   "outputs": [
    {
     "data": {
      "text/html": [
       "<div>\n",
       "<style scoped>\n",
       "    .dataframe tbody tr th:only-of-type {\n",
       "        vertical-align: middle;\n",
       "    }\n",
       "\n",
       "    .dataframe tbody tr th {\n",
       "        vertical-align: top;\n",
       "    }\n",
       "\n",
       "    .dataframe thead th {\n",
       "        text-align: right;\n",
       "    }\n",
       "</style>\n",
       "<table border=\"1\" class=\"dataframe\">\n",
       "  <thead>\n",
       "    <tr style=\"text-align: right;\">\n",
       "      <th></th>\n",
       "      <th>W</th>\n",
       "      <th>R</th>\n",
       "      <th>AB</th>\n",
       "      <th>H</th>\n",
       "      <th>2B</th>\n",
       "      <th>3B</th>\n",
       "      <th>HR</th>\n",
       "      <th>BB</th>\n",
       "      <th>SO</th>\n",
       "      <th>SB</th>\n",
       "      <th>RA</th>\n",
       "      <th>ER</th>\n",
       "      <th>ERA</th>\n",
       "      <th>CG</th>\n",
       "      <th>SHO</th>\n",
       "      <th>SV</th>\n",
       "      <th>E</th>\n",
       "    </tr>\n",
       "  </thead>\n",
       "  <tbody>\n",
       "    <tr>\n",
       "      <th>W</th>\n",
       "      <td>1.000000</td>\n",
       "      <td>0.430751</td>\n",
       "      <td>-0.087947</td>\n",
       "      <td>0.037612</td>\n",
       "      <td>0.427797</td>\n",
       "      <td>-0.251118</td>\n",
       "      <td>0.307407</td>\n",
       "      <td>0.484342</td>\n",
       "      <td>0.111850</td>\n",
       "      <td>-0.157234</td>\n",
       "      <td>-0.812952</td>\n",
       "      <td>-0.809435</td>\n",
       "      <td>-0.819600</td>\n",
       "      <td>0.080533</td>\n",
       "      <td>0.471805</td>\n",
       "      <td>0.666530</td>\n",
       "      <td>-0.089485</td>\n",
       "    </tr>\n",
       "    <tr>\n",
       "      <th>R</th>\n",
       "      <td>0.430751</td>\n",
       "      <td>1.000000</td>\n",
       "      <td>0.319464</td>\n",
       "      <td>0.482856</td>\n",
       "      <td>0.560084</td>\n",
       "      <td>-0.070072</td>\n",
       "      <td>0.671283</td>\n",
       "      <td>0.402452</td>\n",
       "      <td>-0.054726</td>\n",
       "      <td>0.081367</td>\n",
       "      <td>-0.041623</td>\n",
       "      <td>-0.041245</td>\n",
       "      <td>-0.049281</td>\n",
       "      <td>0.232042</td>\n",
       "      <td>-0.103274</td>\n",
       "      <td>-0.096380</td>\n",
       "      <td>-0.023262</td>\n",
       "    </tr>\n",
       "    <tr>\n",
       "      <th>AB</th>\n",
       "      <td>-0.087947</td>\n",
       "      <td>0.319464</td>\n",
       "      <td>1.000000</td>\n",
       "      <td>0.739122</td>\n",
       "      <td>0.453370</td>\n",
       "      <td>0.435422</td>\n",
       "      <td>-0.066983</td>\n",
       "      <td>-0.136414</td>\n",
       "      <td>-0.106022</td>\n",
       "      <td>0.372618</td>\n",
       "      <td>0.316010</td>\n",
       "      <td>0.309686</td>\n",
       "      <td>0.255551</td>\n",
       "      <td>-0.080876</td>\n",
       "      <td>-0.197321</td>\n",
       "      <td>-0.106367</td>\n",
       "      <td>0.316743</td>\n",
       "    </tr>\n",
       "    <tr>\n",
       "      <th>H</th>\n",
       "      <td>0.037612</td>\n",
       "      <td>0.482856</td>\n",
       "      <td>0.739122</td>\n",
       "      <td>1.000000</td>\n",
       "      <td>0.566847</td>\n",
       "      <td>0.478694</td>\n",
       "      <td>-0.090855</td>\n",
       "      <td>-0.118281</td>\n",
       "      <td>-0.398830</td>\n",
       "      <td>0.413444</td>\n",
       "      <td>0.224324</td>\n",
       "      <td>0.252489</td>\n",
       "      <td>0.231172</td>\n",
       "      <td>0.147955</td>\n",
       "      <td>-0.145559</td>\n",
       "      <td>-0.130371</td>\n",
       "      <td>-0.033173</td>\n",
       "    </tr>\n",
       "    <tr>\n",
       "      <th>2B</th>\n",
       "      <td>0.427797</td>\n",
       "      <td>0.560084</td>\n",
       "      <td>0.453370</td>\n",
       "      <td>0.566847</td>\n",
       "      <td>1.000000</td>\n",
       "      <td>0.220490</td>\n",
       "      <td>0.056292</td>\n",
       "      <td>0.302700</td>\n",
       "      <td>-0.150752</td>\n",
       "      <td>0.195027</td>\n",
       "      <td>-0.218160</td>\n",
       "      <td>-0.235531</td>\n",
       "      <td>-0.254854</td>\n",
       "      <td>0.306675</td>\n",
       "      <td>0.057998</td>\n",
       "      <td>0.171576</td>\n",
       "      <td>0.105754</td>\n",
       "    </tr>\n",
       "    <tr>\n",
       "      <th>3B</th>\n",
       "      <td>-0.251118</td>\n",
       "      <td>-0.070072</td>\n",
       "      <td>0.435422</td>\n",
       "      <td>0.478694</td>\n",
       "      <td>0.220490</td>\n",
       "      <td>1.000000</td>\n",
       "      <td>-0.430915</td>\n",
       "      <td>-0.454949</td>\n",
       "      <td>-0.141196</td>\n",
       "      <td>0.457437</td>\n",
       "      <td>0.314125</td>\n",
       "      <td>0.340225</td>\n",
       "      <td>0.330951</td>\n",
       "      <td>-0.065898</td>\n",
       "      <td>-0.041396</td>\n",
       "      <td>-0.142370</td>\n",
       "      <td>0.126678</td>\n",
       "    </tr>\n",
       "    <tr>\n",
       "      <th>HR</th>\n",
       "      <td>0.307407</td>\n",
       "      <td>0.671283</td>\n",
       "      <td>-0.066983</td>\n",
       "      <td>-0.090855</td>\n",
       "      <td>0.056292</td>\n",
       "      <td>-0.430915</td>\n",
       "      <td>1.000000</td>\n",
       "      <td>0.425691</td>\n",
       "      <td>0.359923</td>\n",
       "      <td>-0.136567</td>\n",
       "      <td>-0.103903</td>\n",
       "      <td>-0.085922</td>\n",
       "      <td>-0.090917</td>\n",
       "      <td>0.156502</td>\n",
       "      <td>-0.019119</td>\n",
       "      <td>-0.028540</td>\n",
       "      <td>-0.207597</td>\n",
       "    </tr>\n",
       "    <tr>\n",
       "      <th>BB</th>\n",
       "      <td>0.484342</td>\n",
       "      <td>0.402452</td>\n",
       "      <td>-0.136414</td>\n",
       "      <td>-0.118281</td>\n",
       "      <td>0.302700</td>\n",
       "      <td>-0.454949</td>\n",
       "      <td>0.425691</td>\n",
       "      <td>1.000000</td>\n",
       "      <td>0.233652</td>\n",
       "      <td>-0.098347</td>\n",
       "      <td>-0.416445</td>\n",
       "      <td>-0.452663</td>\n",
       "      <td>-0.459832</td>\n",
       "      <td>0.462478</td>\n",
       "      <td>0.426004</td>\n",
       "      <td>0.099445</td>\n",
       "      <td>-0.075685</td>\n",
       "    </tr>\n",
       "    <tr>\n",
       "      <th>SO</th>\n",
       "      <td>0.111850</td>\n",
       "      <td>-0.054726</td>\n",
       "      <td>-0.106022</td>\n",
       "      <td>-0.398830</td>\n",
       "      <td>-0.150752</td>\n",
       "      <td>-0.141196</td>\n",
       "      <td>0.359923</td>\n",
       "      <td>0.233652</td>\n",
       "      <td>1.000000</td>\n",
       "      <td>0.030968</td>\n",
       "      <td>-0.129745</td>\n",
       "      <td>-0.161612</td>\n",
       "      <td>-0.180368</td>\n",
       "      <td>-0.093418</td>\n",
       "      <td>0.237721</td>\n",
       "      <td>0.126297</td>\n",
       "      <td>0.155133</td>\n",
       "    </tr>\n",
       "    <tr>\n",
       "      <th>SB</th>\n",
       "      <td>-0.157234</td>\n",
       "      <td>0.081367</td>\n",
       "      <td>0.372618</td>\n",
       "      <td>0.413444</td>\n",
       "      <td>0.195027</td>\n",
       "      <td>0.457437</td>\n",
       "      <td>-0.136567</td>\n",
       "      <td>-0.098347</td>\n",
       "      <td>0.030968</td>\n",
       "      <td>1.000000</td>\n",
       "      <td>0.132290</td>\n",
       "      <td>0.143068</td>\n",
       "      <td>0.126063</td>\n",
       "      <td>-0.020783</td>\n",
       "      <td>-0.106563</td>\n",
       "      <td>-0.183418</td>\n",
       "      <td>0.079149</td>\n",
       "    </tr>\n",
       "    <tr>\n",
       "      <th>RA</th>\n",
       "      <td>-0.812952</td>\n",
       "      <td>-0.041623</td>\n",
       "      <td>0.316010</td>\n",
       "      <td>0.224324</td>\n",
       "      <td>-0.218160</td>\n",
       "      <td>0.314125</td>\n",
       "      <td>-0.103903</td>\n",
       "      <td>-0.416445</td>\n",
       "      <td>-0.129745</td>\n",
       "      <td>0.132290</td>\n",
       "      <td>1.000000</td>\n",
       "      <td>0.991018</td>\n",
       "      <td>0.986674</td>\n",
       "      <td>-0.016659</td>\n",
       "      <td>-0.636862</td>\n",
       "      <td>-0.616224</td>\n",
       "      <td>0.198996</td>\n",
       "    </tr>\n",
       "    <tr>\n",
       "      <th>ER</th>\n",
       "      <td>-0.809435</td>\n",
       "      <td>-0.041245</td>\n",
       "      <td>0.309686</td>\n",
       "      <td>0.252489</td>\n",
       "      <td>-0.235531</td>\n",
       "      <td>0.340225</td>\n",
       "      <td>-0.085922</td>\n",
       "      <td>-0.452663</td>\n",
       "      <td>-0.161612</td>\n",
       "      <td>0.143068</td>\n",
       "      <td>0.991018</td>\n",
       "      <td>1.000000</td>\n",
       "      <td>0.997248</td>\n",
       "      <td>-0.020221</td>\n",
       "      <td>-0.630192</td>\n",
       "      <td>-0.589663</td>\n",
       "      <td>0.136921</td>\n",
       "    </tr>\n",
       "    <tr>\n",
       "      <th>ERA</th>\n",
       "      <td>-0.819600</td>\n",
       "      <td>-0.049281</td>\n",
       "      <td>0.255551</td>\n",
       "      <td>0.231172</td>\n",
       "      <td>-0.254854</td>\n",
       "      <td>0.330951</td>\n",
       "      <td>-0.090917</td>\n",
       "      <td>-0.459832</td>\n",
       "      <td>-0.180368</td>\n",
       "      <td>0.126063</td>\n",
       "      <td>0.986674</td>\n",
       "      <td>0.997248</td>\n",
       "      <td>1.000000</td>\n",
       "      <td>-0.009856</td>\n",
       "      <td>-0.630833</td>\n",
       "      <td>-0.607005</td>\n",
       "      <td>0.113137</td>\n",
       "    </tr>\n",
       "    <tr>\n",
       "      <th>CG</th>\n",
       "      <td>0.080533</td>\n",
       "      <td>0.232042</td>\n",
       "      <td>-0.080876</td>\n",
       "      <td>0.147955</td>\n",
       "      <td>0.306675</td>\n",
       "      <td>-0.065898</td>\n",
       "      <td>0.156502</td>\n",
       "      <td>0.462478</td>\n",
       "      <td>-0.093418</td>\n",
       "      <td>-0.020783</td>\n",
       "      <td>-0.016659</td>\n",
       "      <td>-0.020221</td>\n",
       "      <td>-0.009856</td>\n",
       "      <td>1.000000</td>\n",
       "      <td>0.241676</td>\n",
       "      <td>-0.367766</td>\n",
       "      <td>-0.140047</td>\n",
       "    </tr>\n",
       "    <tr>\n",
       "      <th>SHO</th>\n",
       "      <td>0.471805</td>\n",
       "      <td>-0.103274</td>\n",
       "      <td>-0.197321</td>\n",
       "      <td>-0.145559</td>\n",
       "      <td>0.057998</td>\n",
       "      <td>-0.041396</td>\n",
       "      <td>-0.019119</td>\n",
       "      <td>0.426004</td>\n",
       "      <td>0.237721</td>\n",
       "      <td>-0.106563</td>\n",
       "      <td>-0.636862</td>\n",
       "      <td>-0.630192</td>\n",
       "      <td>-0.630833</td>\n",
       "      <td>0.241676</td>\n",
       "      <td>1.000000</td>\n",
       "      <td>0.221639</td>\n",
       "      <td>-0.115716</td>\n",
       "    </tr>\n",
       "    <tr>\n",
       "      <th>SV</th>\n",
       "      <td>0.666530</td>\n",
       "      <td>-0.096380</td>\n",
       "      <td>-0.106367</td>\n",
       "      <td>-0.130371</td>\n",
       "      <td>0.171576</td>\n",
       "      <td>-0.142370</td>\n",
       "      <td>-0.028540</td>\n",
       "      <td>0.099445</td>\n",
       "      <td>0.126297</td>\n",
       "      <td>-0.183418</td>\n",
       "      <td>-0.616224</td>\n",
       "      <td>-0.589663</td>\n",
       "      <td>-0.607005</td>\n",
       "      <td>-0.367766</td>\n",
       "      <td>0.221639</td>\n",
       "      <td>1.000000</td>\n",
       "      <td>-0.025636</td>\n",
       "    </tr>\n",
       "    <tr>\n",
       "      <th>E</th>\n",
       "      <td>-0.089485</td>\n",
       "      <td>-0.023262</td>\n",
       "      <td>0.316743</td>\n",
       "      <td>-0.033173</td>\n",
       "      <td>0.105754</td>\n",
       "      <td>0.126678</td>\n",
       "      <td>-0.207597</td>\n",
       "      <td>-0.075685</td>\n",
       "      <td>0.155133</td>\n",
       "      <td>0.079149</td>\n",
       "      <td>0.198996</td>\n",
       "      <td>0.136921</td>\n",
       "      <td>0.113137</td>\n",
       "      <td>-0.140047</td>\n",
       "      <td>-0.115716</td>\n",
       "      <td>-0.025636</td>\n",
       "      <td>1.000000</td>\n",
       "    </tr>\n",
       "  </tbody>\n",
       "</table>\n",
       "</div>"
      ],
      "text/plain": [
       "            W         R        AB         H        2B        3B        HR  \\\n",
       "W    1.000000  0.430751 -0.087947  0.037612  0.427797 -0.251118  0.307407   \n",
       "R    0.430751  1.000000  0.319464  0.482856  0.560084 -0.070072  0.671283   \n",
       "AB  -0.087947  0.319464  1.000000  0.739122  0.453370  0.435422 -0.066983   \n",
       "H    0.037612  0.482856  0.739122  1.000000  0.566847  0.478694 -0.090855   \n",
       "2B   0.427797  0.560084  0.453370  0.566847  1.000000  0.220490  0.056292   \n",
       "3B  -0.251118 -0.070072  0.435422  0.478694  0.220490  1.000000 -0.430915   \n",
       "HR   0.307407  0.671283 -0.066983 -0.090855  0.056292 -0.430915  1.000000   \n",
       "BB   0.484342  0.402452 -0.136414 -0.118281  0.302700 -0.454949  0.425691   \n",
       "SO   0.111850 -0.054726 -0.106022 -0.398830 -0.150752 -0.141196  0.359923   \n",
       "SB  -0.157234  0.081367  0.372618  0.413444  0.195027  0.457437 -0.136567   \n",
       "RA  -0.812952 -0.041623  0.316010  0.224324 -0.218160  0.314125 -0.103903   \n",
       "ER  -0.809435 -0.041245  0.309686  0.252489 -0.235531  0.340225 -0.085922   \n",
       "ERA -0.819600 -0.049281  0.255551  0.231172 -0.254854  0.330951 -0.090917   \n",
       "CG   0.080533  0.232042 -0.080876  0.147955  0.306675 -0.065898  0.156502   \n",
       "SHO  0.471805 -0.103274 -0.197321 -0.145559  0.057998 -0.041396 -0.019119   \n",
       "SV   0.666530 -0.096380 -0.106367 -0.130371  0.171576 -0.142370 -0.028540   \n",
       "E   -0.089485 -0.023262  0.316743 -0.033173  0.105754  0.126678 -0.207597   \n",
       "\n",
       "           BB        SO        SB        RA        ER       ERA        CG  \\\n",
       "W    0.484342  0.111850 -0.157234 -0.812952 -0.809435 -0.819600  0.080533   \n",
       "R    0.402452 -0.054726  0.081367 -0.041623 -0.041245 -0.049281  0.232042   \n",
       "AB  -0.136414 -0.106022  0.372618  0.316010  0.309686  0.255551 -0.080876   \n",
       "H   -0.118281 -0.398830  0.413444  0.224324  0.252489  0.231172  0.147955   \n",
       "2B   0.302700 -0.150752  0.195027 -0.218160 -0.235531 -0.254854  0.306675   \n",
       "3B  -0.454949 -0.141196  0.457437  0.314125  0.340225  0.330951 -0.065898   \n",
       "HR   0.425691  0.359923 -0.136567 -0.103903 -0.085922 -0.090917  0.156502   \n",
       "BB   1.000000  0.233652 -0.098347 -0.416445 -0.452663 -0.459832  0.462478   \n",
       "SO   0.233652  1.000000  0.030968 -0.129745 -0.161612 -0.180368 -0.093418   \n",
       "SB  -0.098347  0.030968  1.000000  0.132290  0.143068  0.126063 -0.020783   \n",
       "RA  -0.416445 -0.129745  0.132290  1.000000  0.991018  0.986674 -0.016659   \n",
       "ER  -0.452663 -0.161612  0.143068  0.991018  1.000000  0.997248 -0.020221   \n",
       "ERA -0.459832 -0.180368  0.126063  0.986674  0.997248  1.000000 -0.009856   \n",
       "CG   0.462478 -0.093418 -0.020783 -0.016659 -0.020221 -0.009856  1.000000   \n",
       "SHO  0.426004  0.237721 -0.106563 -0.636862 -0.630192 -0.630833  0.241676   \n",
       "SV   0.099445  0.126297 -0.183418 -0.616224 -0.589663 -0.607005 -0.367766   \n",
       "E   -0.075685  0.155133  0.079149  0.198996  0.136921  0.113137 -0.140047   \n",
       "\n",
       "          SHO        SV         E  \n",
       "W    0.471805  0.666530 -0.089485  \n",
       "R   -0.103274 -0.096380 -0.023262  \n",
       "AB  -0.197321 -0.106367  0.316743  \n",
       "H   -0.145559 -0.130371 -0.033173  \n",
       "2B   0.057998  0.171576  0.105754  \n",
       "3B  -0.041396 -0.142370  0.126678  \n",
       "HR  -0.019119 -0.028540 -0.207597  \n",
       "BB   0.426004  0.099445 -0.075685  \n",
       "SO   0.237721  0.126297  0.155133  \n",
       "SB  -0.106563 -0.183418  0.079149  \n",
       "RA  -0.636862 -0.616224  0.198996  \n",
       "ER  -0.630192 -0.589663  0.136921  \n",
       "ERA -0.630833 -0.607005  0.113137  \n",
       "CG   0.241676 -0.367766 -0.140047  \n",
       "SHO  1.000000  0.221639 -0.115716  \n",
       "SV   0.221639  1.000000 -0.025636  \n",
       "E   -0.115716 -0.025636  1.000000  "
      ]
     },
     "execution_count": 11,
     "metadata": {},
     "output_type": "execute_result"
    }
   ],
   "source": [
    "dfcor=df.corr()\n",
    "dfcor"
   ]
  },
  {
   "cell_type": "code",
   "execution_count": 12,
   "id": "6644bc1a",
   "metadata": {},
   "outputs": [
    {
     "data": {
      "text/plain": [
       "<AxesSubplot:>"
      ]
     },
     "execution_count": 12,
     "metadata": {},
     "output_type": "execute_result"
    },
    {
     "data": {
      "image/png": "[encoded data removed]",
      "text/plain": [
       "<Figure size 1080x720 with 2 Axes>"
      ]
     },
     "metadata": {
      "needs_background": "light"
     },
     "output_type": "display_data"
    }
   ],
   "source": [
    "plt.figure(figsize=(15,10))\n",
    "sns.heatmap(dfcor,cmap='YlOrRd_r',annot=True)"
   ]
  },
  {
   "cell_type": "markdown",
   "id": "21201df7",
   "metadata": {},
   "source": [
    "#### Key observation :\n",
    "- RA ,ER,ERA is highly negative correlated with target class."
   ]
  },
  {
   "cell_type": "markdown",
   "id": "7c766cef",
   "metadata": {},
   "source": [
    "### Plotting outliers"
   ]
  },
  {
   "cell_type": "code",
   "execution_count": 13,
   "id": "7cf00b92",
   "metadata": {},
   "outputs": [
    {
     "data": {
      "text/plain": [
       "Index(['W', 'R', 'AB', 'H', '2B', '3B', 'HR', 'BB', 'SO', 'SB', 'RA', 'ER',\n",
       "       'ERA', 'CG', 'SHO', 'SV', 'E'],\n",
       "      dtype='object')"
      ]
     },
     "execution_count": 13,
     "metadata": {},
     "output_type": "execute_result"
    }
   ],
   "source": [
    "df.columns"
   ]
  },
  {
   "cell_type": "markdown",
   "id": "833ebf8f",
   "metadata": {},
   "source": [
    "#### Univariate analysis"
   ]
  },
  {
   "cell_type": "code",
   "execution_count": 14,
   "id": "7d1ad948",
   "metadata": {},
   "outputs": [
    {
     "data": {
      "text/plain": [
       "<AxesSubplot:>"
      ]
     },
     "execution_count": 14,
     "metadata": {},
     "output_type": "execute_result"
    },
    {
     "data": {
      "image/png": "[encoded data removed]",
      "text/plain": [
       "<Figure size 432x288 with 1 Axes>"
      ]
     },
     "metadata": {
      "needs_background": "light"
     },
     "output_type": "display_data"
    }
   ],
   "source": [
    "df['E'].plot.box()"
   ]
  },
  {
   "cell_type": "code",
   "execution_count": 15,
   "id": "d1f5fa2f",
   "metadata": {},
   "outputs": [
    {
     "data": {
      "text/plain": [
       "<AxesSubplot:>"
      ]
     },
     "execution_count": 15,
     "metadata": {},
     "output_type": "execute_result"
    },
    {
     "data": {
      "image/png": "[encoded data removed]",
      "text/plain": [
       "<Figure size 432x288 with 1 Axes>"
      ]
     },
     "metadata": {
      "needs_background": "light"
     },
     "output_type": "display_data"
    }
   ],
   "source": [
    "df['R'].plot.box()"
   ]
  },
  {
   "cell_type": "code",
   "execution_count": 16,
   "id": "0e9ac20e",
   "metadata": {},
   "outputs": [
    {
     "data": {
      "text/plain": [
       "<AxesSubplot:>"
      ]
     },
     "execution_count": 16,
     "metadata": {},
     "output_type": "execute_result"
    },
    {
     "data": {
      "image/png": "[encoded data removed]",
      "text/plain": [
       "<Figure size 432x288 with 1 Axes>"
      ]
     },
     "metadata": {
      "needs_background": "light"
     },
     "output_type": "display_data"
    }
   ],
   "source": [
    "df['AB'].plot.box()"
   ]
  },
  {
   "cell_type": "code",
   "execution_count": 17,
   "id": "022acac5",
   "metadata": {},
   "outputs": [
    {
     "data": {
      "text/plain": [
       "(30, 17)"
      ]
     },
     "execution_count": 17,
     "metadata": {},
     "output_type": "execute_result"
    }
   ],
   "source": [
    "df.shape"
   ]
  },
  {
   "cell_type": "code",
   "execution_count": 18,
   "id": "090545d0",
   "metadata": {},
   "outputs": [
    {
     "data": {
      "text/plain": [
       "W         AxesSubplot(0.125,0.772143;0.168478x0.107857)\n",
       "R      AxesSubplot(0.327174,0.772143;0.168478x0.107857)\n",
       "AB     AxesSubplot(0.529348,0.772143;0.168478x0.107857)\n",
       "H      AxesSubplot(0.731522,0.772143;0.168478x0.107857)\n",
       "2B        AxesSubplot(0.125,0.642714;0.168478x0.107857)\n",
       "3B     AxesSubplot(0.327174,0.642714;0.168478x0.107857)\n",
       "HR     AxesSubplot(0.529348,0.642714;0.168478x0.107857)\n",
       "BB     AxesSubplot(0.731522,0.642714;0.168478x0.107857)\n",
       "SO        AxesSubplot(0.125,0.513286;0.168478x0.107857)\n",
       "SB     AxesSubplot(0.327174,0.513286;0.168478x0.107857)\n",
       "RA     AxesSubplot(0.529348,0.513286;0.168478x0.107857)\n",
       "ER     AxesSubplot(0.731522,0.513286;0.168478x0.107857)\n",
       "ERA       AxesSubplot(0.125,0.383857;0.168478x0.107857)\n",
       "CG     AxesSubplot(0.327174,0.383857;0.168478x0.107857)\n",
       "SHO    AxesSubplot(0.529348,0.383857;0.168478x0.107857)\n",
       "SV     AxesSubplot(0.731522,0.383857;0.168478x0.107857)\n",
       "E         AxesSubplot(0.125,0.254429;0.168478x0.107857)\n",
       "dtype: object"
      ]
     },
     "execution_count": 18,
     "metadata": {},
     "output_type": "execute_result"
    },
    {
     "data": {
      "image/png": "[encoded data removed]",
      "text/plain": [
       "<Figure size 720x720 with 24 Axes>"
      ]
     },
     "metadata": {
      "needs_background": "light"
     },
     "output_type": "display_data"
    }
   ],
   "source": [
    "df.plot(kind='box',subplots=True,layout=(6,4),figsize=(10,10))"
   ]
  },
  {
   "cell_type": "markdown",
   "id": "6b51ab5c",
   "metadata": {},
   "source": [
    "#### Key observation :\n",
    "1.Below coulmn having outlier R,ERA,SHO,SV,E\n",
    "\n",
    "2.Some of the column very near to whisker SV,ERA,SHO\n",
    "\n",
    "3.Other Column dont have a outlier"
   ]
  },
  {
   "cell_type": "markdown",
   "id": "085713c5",
   "metadata": {},
   "source": [
    "### To check distribution of skewness"
   ]
  },
  {
   "cell_type": "code",
   "execution_count": 19,
   "id": "972534a7",
   "metadata": {},
   "outputs": [
    {
     "data": {
      "text/plain": [
       "W      0.047089\n",
       "R      1.200786\n",
       "AB     0.183437\n",
       "H      0.670254\n",
       "2B    -0.230650\n",
       "3B     0.129502\n",
       "HR     0.516441\n",
       "BB     0.158498\n",
       "SO    -0.156065\n",
       "SB     0.479893\n",
       "RA     0.045734\n",
       "ER     0.058710\n",
       "ERA    0.053331\n",
       "CG     0.736845\n",
       "SHO    0.565790\n",
       "SV     0.657524\n",
       "E      0.890132\n",
       "dtype: float64"
      ]
     },
     "execution_count": 19,
     "metadata": {},
     "output_type": "execute_result"
    }
   ],
   "source": [
    "df.skew()"
   ]
  },
  {
   "cell_type": "markdown",
   "id": "9dae88f6",
   "metadata": {},
   "source": [
    "#### Key observation :\n",
    "1. As per standard their is some skewness present in R, H, CG, SHO, SV, E\n",
    "2. We need to handle the skewness\n",
    "3. Checking distribution plot for more detail."
   ]
  },
  {
   "cell_type": "code",
   "execution_count": 20,
   "id": "b1b162b1",
   "metadata": {},
   "outputs": [
    {
     "data": {
      "text/plain": [
       "<AxesSubplot:xlabel='W', ylabel='Density'>"
      ]
     },
     "execution_count": 20,
     "metadata": {},
     "output_type": "execute_result"
    },
    {
     "data": {
      "image/png": "[encoded data removed]",
      "text/plain": [
       "<Figure size 432x288 with 1 Axes>"
      ]
     },
     "metadata": {
      "needs_background": "light"
     },
     "output_type": "display_data"
    }
   ],
   "source": [
    "sns.distplot(df['W'])"
   ]
  },
  {
   "cell_type": "code",
   "execution_count": 21,
   "id": "34f21346",
   "metadata": {},
   "outputs": [
    {
     "data": {
      "text/plain": [
       "<AxesSubplot:xlabel='R', ylabel='Density'>"
      ]
     },
     "execution_count": 21,
     "metadata": {},
     "output_type": "execute_result"
    },
    {
     "data": {
      "image/png": "[encoded data removed]",
      "text/plain": [
       "<Figure size 432x288 with 1 Axes>"
      ]
     },
     "metadata": {
      "needs_background": "light"
     },
     "output_type": "display_data"
    }
   ],
   "source": [
    "sns.distplot(df['R'])"
   ]
  },
  {
   "cell_type": "code",
   "execution_count": 22,
   "id": "ba6d09c5",
   "metadata": {},
   "outputs": [
    {
     "data": {
      "text/plain": [
       "<AxesSubplot:xlabel='AB', ylabel='Density'>"
      ]
     },
     "execution_count": 22,
     "metadata": {},
     "output_type": "execute_result"
    },
    {
     "data": {
      "image/png": "[encoded data removed]",
      "text/plain": [
       "<Figure size 432x288 with 1 Axes>"
      ]
     },
     "metadata": {
      "needs_background": "light"
     },
     "output_type": "display_data"
    }
   ],
   "source": [
    "sns.distplot(df['AB'])"
   ]
  },
  {
   "cell_type": "code",
   "execution_count": 23,
   "id": "d6b9978b",
   "metadata": {},
   "outputs": [
    {
     "data": {
      "text/plain": [
       "<AxesSubplot:xlabel='H', ylabel='Density'>"
      ]
     },
     "execution_count": 23,
     "metadata": {},
     "output_type": "execute_result"
    },
    {
     "data": {
      "image/png": "[encoded data removed]",
      "text/plain": [
       "<Figure size 432x288 with 1 Axes>"
      ]
     },
     "metadata": {
      "needs_background": "light"
     },
     "output_type": "display_data"
    }
   ],
   "source": [
    "sns.distplot(df['H'])"
   ]
  },
  {
   "cell_type": "code",
   "execution_count": 24,
   "id": "965d82af",
   "metadata": {},
   "outputs": [
    {
     "data": {
      "text/plain": [
       "<AxesSubplot:xlabel='2B', ylabel='Density'>"
      ]
     },
     "execution_count": 24,
     "metadata": {},
     "output_type": "execute_result"
    },
    {
     "data": {
      "image/png": "[encoded data removed]",
      "text/plain": [
       "<Figure size 432x288 with 1 Axes>"
      ]
     },
     "metadata": {
      "needs_background": "light"
     },
     "output_type": "display_data"
    }
   ],
   "source": [
    "sns.distplot(df['2B'])"
   ]
  },
  {
   "cell_type": "code",
   "execution_count": 25,
   "id": "9773b65c",
   "metadata": {},
   "outputs": [
    {
     "data": {
      "text/plain": [
       "<AxesSubplot:xlabel='3B', ylabel='Density'>"
      ]
     },
     "execution_count": 25,
     "metadata": {},
     "output_type": "execute_result"
    },
    {
     "data": {
      "image/png": "[encoded data removed]",
      "text/plain": [
       "<Figure size 432x288 with 1 Axes>"
      ]
     },
     "metadata": {
      "needs_background": "light"
     },
     "output_type": "display_data"
    }
   ],
   "source": [
    "sns.distplot(df['3B'])"
   ]
  },
  {
   "cell_type": "code",
   "execution_count": 26,
   "id": "26066c72",
   "metadata": {},
   "outputs": [
    {
     "data": {
      "text/plain": [
       "<AxesSubplot:xlabel='HR', ylabel='Density'>"
      ]
     },
     "execution_count": 26,
     "metadata": {},
     "output_type": "execute_result"
    },
    {
     "data": {
      "image/png": "[encoded data removed]",
      "text/plain": [
       "<Figure size 432x288 with 1 Axes>"
      ]
     },
     "metadata": {
      "needs_background": "light"
     },
     "output_type": "display_data"
    }
   ],
   "source": [
    "sns.distplot(df['HR'])"
   ]
  },
  {
   "cell_type": "code",
   "execution_count": 27,
   "id": "e53c2159",
   "metadata": {},
   "outputs": [
    {
     "data": {
      "text/plain": [
       "<AxesSubplot:xlabel='BB', ylabel='Density'>"
      ]
     },
     "execution_count": 27,
     "metadata": {},
     "output_type": "execute_result"
    },
    {
     "data": {
      "image/png": "[encoded data removed]",
      "text/plain": [
       "<Figure size 432x288 with 1 Axes>"
      ]
     },
     "metadata": {
      "needs_background": "light"
     },
     "output_type": "display_data"
    }
   ],
   "source": [
    "sns.distplot(df['BB'])"
   ]
  },
  {
   "cell_type": "code",
   "execution_count": 28,
   "id": "994ce519",
   "metadata": {},
   "outputs": [
    {
     "data": {
      "text/plain": [
       "<AxesSubplot:xlabel='SO', ylabel='Density'>"
      ]
     },
     "execution_count": 28,
     "metadata": {},
     "output_type": "execute_result"
    },
    {
     "data": {
      "image/png": "[encoded data removed]",
      "text/plain": [
       "<Figure size 432x288 with 1 Axes>"
      ]
     },
     "metadata": {
      "needs_background": "light"
     },
     "output_type": "display_data"
    }
   ],
   "source": [
    "sns.distplot(df['SO'])"
   ]
  },
  {
   "cell_type": "code",
   "execution_count": 29,
   "id": "ea2c5bbd",
   "metadata": {},
   "outputs": [
    {
     "data": {
      "text/plain": [
       "<AxesSubplot:xlabel='SB', ylabel='Density'>"
      ]
     },
     "execution_count": 29,
     "metadata": {},
     "output_type": "execute_result"
    },
    {
     "data": {
      "image/png": "[encoded data removed]",
      "text/plain": [
       "<Figure size 432x288 with 1 Axes>"
      ]
     },
     "metadata": {
      "needs_background": "light"
     },
     "output_type": "display_data"
    }
   ],
   "source": [
    "sns.distplot(df['SB'])"
   ]
  },
  {
   "cell_type": "code",
   "execution_count": 30,
   "id": "9f5965e1",
   "metadata": {},
   "outputs": [
    {
     "data": {
      "text/plain": [
       "<AxesSubplot:xlabel='RA', ylabel='Density'>"
      ]
     },
     "execution_count": 30,
     "metadata": {},
     "output_type": "execute_result"
    },
    {
     "data": {
      "image/png": "[encoded data removed]",
      "text/plain": [
       "<Figure size 432x288 with 1 Axes>"
      ]
     },
     "metadata": {
      "needs_background": "light"
     },
     "output_type": "display_data"
    }
   ],
   "source": [
    "sns.distplot(df['RA'])"
   ]
  },
  {
   "cell_type": "code",
   "execution_count": 31,
   "id": "5385f4a4",
   "metadata": {},
   "outputs": [
    {
     "data": {
      "text/plain": [
       "<AxesSubplot:xlabel='ER', ylabel='Density'>"
      ]
     },
     "execution_count": 31,
     "metadata": {},
     "output_type": "execute_result"
    },
    {
     "data": {
      "image/png": "[encoded data removed]",
      "text/plain": [
       "<Figure size 432x288 with 1 Axes>"
      ]
     },
     "metadata": {
      "needs_background": "light"
     },
     "output_type": "display_data"
    }
   ],
   "source": [
    "sns.distplot(df['ER'])"
   ]
  },
  {
   "cell_type": "code",
   "execution_count": 32,
   "id": "59c79a89",
   "metadata": {},
   "outputs": [
    {
     "data": {
      "text/plain": [
       "<AxesSubplot:xlabel='ERA', ylabel='Density'>"
      ]
     },
     "execution_count": 32,
     "metadata": {},
     "output_type": "execute_result"
    },
    {
     "data": {
      "image/png": "[encoded data removed]",
      "text/plain": [
       "<Figure size 432x288 with 1 Axes>"
      ]
     },
     "metadata": {
      "needs_background": "light"
     },
     "output_type": "display_data"
    }
   ],
   "source": [
    "sns.distplot(df['ERA'])"
   ]
  },
  {
   "cell_type": "code",
   "execution_count": 33,
   "id": "67c64ac2",
   "metadata": {},
   "outputs": [
    {
     "data": {
      "text/plain": [
       "<AxesSubplot:xlabel='CG', ylabel='Density'>"
      ]
     },
     "execution_count": 33,
     "metadata": {},
     "output_type": "execute_result"
    },
    {
     "data": {
      "image/png": "[encoded data removed]",
      "text/plain": [
       "<Figure size 432x288 with 1 Axes>"
      ]
     },
     "metadata": {
      "needs_background": "light"
     },
     "output_type": "display_data"
    }
   ],
   "source": [
    "sns.distplot(df['CG'])"
   ]
  },
  {
   "cell_type": "code",
   "execution_count": 34,
   "id": "b33d52b5",
   "metadata": {},
   "outputs": [
    {
     "data": {
      "text/plain": [
       "<AxesSubplot:xlabel='SHO', ylabel='Density'>"
      ]
     },
     "execution_count": 34,
     "metadata": {},
     "output_type": "execute_result"
    },
    {
     "data": {
      "image/png": "[encoded data removed]",
      "text/plain": [
       "<Figure size 432x288 with 1 Axes>"
      ]
     },
     "metadata": {
      "needs_background": "light"
     },
     "output_type": "display_data"
    }
   ],
   "source": [
    "sns.distplot(df['SHO'])"
   ]
  },
  {
   "cell_type": "code",
   "execution_count": 35,
   "id": "85265633",
   "metadata": {},
   "outputs": [
    {
     "data": {
      "text/plain": [
       "<AxesSubplot:xlabel='SV', ylabel='Density'>"
      ]
     },
     "execution_count": 35,
     "metadata": {},
     "output_type": "execute_result"
    },
    {
     "data": {
      "image/png": "[encoded data removed]",
      "text/plain": [
       "<Figure size 432x288 with 1 Axes>"
      ]
     },
     "metadata": {
      "needs_background": "light"
     },
     "output_type": "display_data"
    }
   ],
   "source": [
    "sns.distplot(df['SV'])"
   ]
  },
  {
   "cell_type": "code",
   "execution_count": 36,
   "id": "15e33958",
   "metadata": {},
   "outputs": [
    {
     "data": {
      "text/plain": [
       "<AxesSubplot:xlabel='E', ylabel='Density'>"
      ]
     },
     "execution_count": 36,
     "metadata": {},
     "output_type": "execute_result"
    },
    {
     "data": {
      "image/png": "[encoded data removed]",
      "text/plain": [
       "<Figure size 432x288 with 1 Axes>"
      ]
     },
     "metadata": {
      "needs_background": "light"
     },
     "output_type": "display_data"
    }
   ],
   "source": [
    "sns.distplot(df['E'])"
   ]
  },
  {
   "cell_type": "markdown",
   "id": "b817b80f",
   "metadata": {},
   "source": [
    "### Bivariant Analysis"
   ]
  },
  {
   "cell_type": "code",
   "execution_count": 37,
   "id": "d3c6c692",
   "metadata": {},
   "outputs": [
    {
     "data": {
      "image/png": "[encoded data removed]",
      "text/plain": [
       "<Figure size 432x288 with 1 Axes>"
      ]
     },
     "metadata": {
      "needs_background": "light"
     },
     "output_type": "display_data"
    }
   ],
   "source": [
    "plt.scatter(df.R,df.W)\n",
    "plt.xlabel(\"Runs\")\n",
    "plt.ylabel(\"WINS\")\n",
    "plt.show()"
   ]
  },
  {
   "cell_type": "code",
   "execution_count": 38,
   "id": "ec8fd689",
   "metadata": {},
   "outputs": [
    {
     "data": {
      "image/png": "[encoded data removed]",
      "text/plain": [
       "<Figure size 432x288 with 1 Axes>"
      ]
     },
     "metadata": {
      "needs_background": "light"
     },
     "output_type": "display_data"
    },
    {
     "data": {
      "image/png": "[encoded data removed]",
      "text/plain": [
       "<Figure size 432x288 with 1 Axes>"
      ]
     },
     "metadata": {
      "needs_background": "light"
     },
     "output_type": "display_data"
    },
    {
     "data": {
      "image/png": "[encoded data removed]",
      "text/plain": [
       "<Figure size 432x288 with 1 Axes>"
      ]
     },
     "metadata": {
      "needs_background": "light"
     },
     "output_type": "display_data"
    },
    {
     "data": {
      "image/png": "[encoded data removed]",
      "text/plain": [
       "<Figure size 432x288 with 1 Axes>"
      ]
     },
     "metadata": {
      "needs_background": "light"
     },
     "output_type": "display_data"
    },
    {
     "data": {
      "image/png": "[encoded data removed]",
      "text/plain": [
       "<Figure size 432x288 with 1 Axes>"
      ]
     },
     "metadata": {
      "needs_background": "light"
     },
     "output_type": "display_data"
    },
    {
     "data": {
      "image/png": "[encoded data removed]",
      "text/plain": [
       "<Figure size 432x288 with 1 Axes>"
      ]
     },
     "metadata": {
      "needs_background": "light"
     },
     "output_type": "display_data"
    },
    {
     "data": {
      "image/png": "[encoded data removed]",
      "text/plain": [
       "<Figure size 432x288 with 1 Axes>"
      ]
     },
     "metadata": {
      "needs_background": "light"
     },
     "output_type": "display_data"
    },
    {
     "data": {
      "image/png": "[encoded data removed]",
      "text/plain": [
       "<Figure size 432x288 with 1 Axes>"
      ]
     },
     "metadata": {
      "needs_background": "light"
     },
     "output_type": "display_data"
    },
    {
     "data": {
      "image/png": "[encoded data removed]",
      "text/plain": [
       "<Figure size 432x288 with 1 Axes>"
      ]
     },
     "metadata": {
      "needs_background": "light"
     },
     "output_type": "display_data"
    },
    {
     "data": {
      "image/png": "[encoded data removed]",
      "text/plain": [
       "<Figure size 432x288 with 1 Axes>"
      ]
     },
     "metadata": {
      "needs_background": "light"
     },
     "output_type": "display_data"
    },
    {
     "data": {
      "image/png": "[encoded data removed]",
      "text/plain": [
       "<Figure size 432x288 with 1 Axes>"
      ]
     },
     "metadata": {
      "needs_background": "light"
     },
     "output_type": "display_data"
    },
    {
     "data": {
      "image/png": "[encoded data removed]",
      "text/plain": [
       "<Figure size 432x288 with 1 Axes>"
      ]
     },
     "metadata": {
      "needs_background": "light"
     },
     "output_type": "display_data"
    },
    {
     "data": {
      "image/png": "[encoded data removed]",
      "text/plain": [
       "<Figure size 432x288 with 1 Axes>"
      ]
     },
     "metadata": {
      "needs_background": "light"
     },
     "output_type": "display_data"
    },
    {
     "data": {
      "image/png": "[encoded data removed]",
      "text/plain": [
       "<Figure size 432x288 with 1 Axes>"
      ]
     },
     "metadata": {
      "needs_background": "light"
     },
     "output_type": "display_data"
    },
    {
     "data": {
      "image/png": "[encoded data removed]",
      "text/plain": [
       "<Figure size 432x288 with 1 Axes>"
      ]
     },
     "metadata": {
      "needs_background": "light"
     },
     "output_type": "display_data"
    },
    {
     "data": {
      "image/png": "[encoded data removed]",
      "text/plain": [
       "<Figure size 432x288 with 1 Axes>"
      ]
     },
     "metadata": {
      "needs_background": "light"
     },
     "output_type": "display_data"
    },
    {
     "data": {
      "image/png": "[encoded data removed]",
      "text/plain": [
       "<Figure size 432x288 with 1 Axes>"
      ]
     },
     "metadata": {
      "needs_background": "light"
     },
     "output_type": "display_data"
    }
   ],
   "source": [
    "# runs relation with dataset \n",
    "\n",
    "for i in df.columns:\n",
    "    plt.figure()\n",
    "    sns.barplot(x=df[i],y=df.W)"
   ]
  },
  {
   "cell_type": "markdown",
   "id": "bf9296e1",
   "metadata": {},
   "source": [
    "Relationship between feature and target variable observed"
   ]
  },
  {
   "cell_type": "markdown",
   "id": "47d323b6",
   "metadata": {},
   "source": [
    "## Removing outlier from Data"
   ]
  },
  {
   "cell_type": "code",
   "execution_count": 39,
   "id": "85f5778f",
   "metadata": {},
   "outputs": [
    {
     "data": {
      "text/plain": [
       "array([[1.36540860e+00, 6.19077968e-01, 8.47731264e-01, 1.66368512e+00,\n",
       "        1.42017307e+00, 1.04119304e+00, 7.87298598e-01, 1.53490242e+00,\n",
       "        2.69762957e+00, 9.13883291e-01, 6.66233927e-01, 5.05110079e-01,\n",
       "        5.06955186e-01, 5.39806195e-01, 8.14628593e-01, 1.67160651e+00,\n",
       "        4.61469635e-01],\n",
       "       [1.97838300e-01, 1.34431656e-01, 7.11093535e-01, 9.70680764e-01,\n",
       "        1.27403389e-01, 1.23580856e+00, 2.43966683e-01, 5.36591904e-01,\n",
       "        1.54878442e-01, 6.01825582e-01, 1.65970766e-01, 2.48929848e-01,\n",
       "        2.54597523e-01, 5.39806195e-01, 1.72800005e-01, 2.49879323e-01,\n",
       "        6.07196888e-01],\n",
       "       [3.24325082e-03, 3.32905860e-01, 1.11523330e+00, 1.51891367e-01,\n",
       "        1.58879521e+00, 2.23807850e-01, 7.23377196e-01, 1.13914361e+00,\n",
       "        8.93981893e-01, 1.11449182e-01, 6.80339091e-01, 7.51623132e-01,\n",
       "        6.41346840e-01, 2.77264091e+00, 3.20914294e-01, 6.54856158e-01,\n",
       "        1.11724227e+00],\n",
       "       [4.83244373e-01, 1.14641931e+00, 2.41521620e-01, 4.01088140e-01,\n",
       "        8.28122030e-01, 4.18423371e-01, 8.83180700e-01, 1.16053598e+00,\n",
       "        1.68601848e-01, 6.90984928e-01, 1.80075931e-01, 1.03922169e-01,\n",
       "        5.30100415e-02, 1.30044220e+00, 5.67771443e-01, 7.84104084e-01,\n",
       "        4.85757510e-01],\n",
       "       [6.77839422e-01, 1.32700776e-02, 1.28073815e+00, 1.98408098e+00,\n",
       "        8.01891920e-01, 1.72234737e+00, 4.03770187e-01, 2.51360327e-01,\n",
       "        1.05866277e-01, 2.22898364e-02, 1.61880269e+00, 1.59750126e+00,\n",
       "        1.53131824e+00, 1.30044220e+00, 1.72800005e-01, 1.04259994e+00,\n",
       "        6.07196888e-01],\n",
       "       [1.17081355e+00, 3.50964704e+00, 1.04883891e-01, 1.36108904e+00,\n",
       "        1.86983209e+00, 1.39150098e+00, 2.18504658e+00, 1.79874163e+00,\n",
       "        9.52796491e-01, 2.00608527e-01, 2.57184162e-01, 3.89103937e-01,\n",
       "        3.50164922e-01, 1.30044220e+00, 3.20914294e-01, 1.17184786e+00,\n",
       "        4.61469635e-01],\n",
       "       [5.87028399e-01, 1.31142984e+00, 7.32262760e-01, 1.16291827e-01,\n",
       "        1.53633499e-01, 1.19688546e+00, 1.54583256e+00, 1.51351006e+00,\n",
       "        2.07811580e-01, 9.13883291e-01, 1.37760438e-01, 2.34429080e-01,\n",
       "        1.65003087e-01, 1.71756517e-01, 1.80205719e+00, 6.37623101e-01,\n",
       "        9.71515020e-02],\n",
       "       [3.24325082e-03, 4.28681202e-01, 4.51289401e-01, 5.96885604e-01,\n",
       "        1.61502532e+00, 1.09957770e+00, 1.70563607e+00, 9.10958349e-01,\n",
       "        8.11641456e-01, 1.76089707e+00, 6.72346164e-02, 1.47424473e-01,\n",
       "        2.09800305e-01, 1.27590555e+00, 3.20914294e-01, 8.61652840e-03,\n",
       "        1.26296953e+00],\n",
       "       [9.40542739e-02, 7.65625781e-01, 4.51289401e-01, 3.65488601e-01,\n",
       "        1.83610767e-01, 6.81154325e-02, 1.07601026e-01, 5.90072825e-01,\n",
       "        6.05790362e-01, 1.56028855e-01, 6.52128762e-01, 4.61607776e-01,\n",
       "        4.84556577e-01, 9.07855874e-01, 1.72800005e-01, 2.18859821e+00,\n",
       "        4.85757510e-02],\n",
       "       [2.88649323e-01, 1.03448909e+00, 1.78591286e+00, 1.62808558e+00,\n",
       "        1.08292881e+00, 1.65423193e-01, 8.41631789e-02, 1.58660065e-01,\n",
       "        9.82203790e-01, 5.57245909e-01, 9.13544474e-01, 8.43461329e-01,\n",
       "        7.92164142e-01, 1.71756517e-01, 3.20914294e-01, 3.96360306e-01,\n",
       "        1.94303004e-01],\n",
       "       [6.84325924e-01, 1.08641548e+00, 7.60167649e-02, 2.75303102e-01,\n",
       "        2.39818144e-01, 6.81154325e-02, 2.67404530e-01, 6.04334404e-01,\n",
       "        1.48996982e-01, 7.80144273e-01, 6.31441188e-01, 6.40450579e-01,\n",
       "        6.35373878e-01, 5.64342841e-01, 5.67771443e-01, 2.49879323e-01,\n",
       "        1.79730279e+00],\n",
       "       [4.89730874e-01, 7.05621952e-01, 8.26562038e-01, 7.21483991e-01,\n",
       "        1.83610767e-01, 5.15731132e-01, 2.12112518e+00, 3.01275853e-01,\n",
       "        1.40958987e+00, 1.67173773e+00, 9.90652705e-01, 9.25632346e-01,\n",
       "        8.65332931e-01, 5.64342841e-01, 4.19657154e-01, 5.25608232e-01,\n",
       "        6.80060514e-01],\n",
       "       [3.92433350e-01, 4.71376235e-01, 1.43277168e+00, 1.29107662e+00,\n",
       "        1.78364745e+00, 1.00226994e+00, 3.95247334e-01, 6.07899799e-01,\n",
       "        9.62598924e-01, 1.40425969e+00, 1.86658341e-01, 8.45878123e-02,\n",
       "        3.65843948e-02, 5.39806195e-01, 1.72800005e-01, 3.79127249e-01,\n",
       "        9.71515020e-02],\n",
       "       [4.83244373e-01, 5.57920219e-01, 4.00290812e-01, 4.36687679e-01,\n",
       "        7.15707275e-01, 9.04962175e-01, 1.09838275e+00, 1.58660065e-01,\n",
       "        8.60653621e-01, 6.46405255e-01, 5.32705038e-01, 5.96948276e-01,\n",
       "        4.56185005e-01, 9.32392519e-01, 1.72800005e-01, 2.49879323e-01,\n",
       "        2.42878755e-02],\n",
       "       [1.26162457e+00, 9.98140619e-02, 1.20857034e+00, 2.61063286e-02,\n",
       "        1.27403389e-01, 1.43042408e+00, 5.63573692e-01, 1.05179144e-01,\n",
       "        1.26647435e+00, 2.45188200e-01, 5.75020531e-01, 4.08438294e-01,\n",
       "        4.11387787e-01, 5.64342841e-01, 9.13371452e-01, 1.94733542e+00,\n",
       "        2.30734817e+00],\n",
       "       [1.85189622e+00, 7.13699391e-01, 4.65722964e-01, 3.12089292e-01,\n",
       "        7.45684543e-01, 7.49269758e-01, 8.51219999e-01, 6.57815325e-01,\n",
       "        1.84285741e-01, 6.46405255e-01, 2.30243298e+00, 2.28870452e+00,\n",
       "        2.27644530e+00, 9.07855874e-01, 9.13371452e-01, 2.44709406e+00,\n",
       "        1.21439378e-01],\n",
       "       [1.65730117e+00, 1.51740453e-01, 1.65601079e+00, 1.04069319e+00,\n",
       "        9.70514053e-01, 4.18423371e-01, 7.55337897e-01, 1.44398486e-01,\n",
       "        7.23419558e-01, 6.46405255e-01, 1.30096632e+00, 1.50566306e+00,\n",
       "        1.67168286e+00, 1.27590555e+00, 4.19657154e-01, 1.41311066e+00,\n",
       "        2.01589367e+00],\n",
       "       [1.56000365e+00, 1.32700776e-02, 3.64688024e-01, 1.11307892e+00,\n",
       "        1.53633499e-01, 1.26500089e-01, 2.35443830e-01, 1.74526071e+00,\n",
       "        2.64469643e+00, 5.12666237e-01, 1.13170435e+00, 1.30265231e+00,\n",
       "        1.33570372e+00, 9.32392519e-01, 2.39451435e+00, 6.37623101e-01,\n",
       "        1.21439378e+00],\n",
       "       [1.26162457e+00, 5.75229016e-01, 5.23457216e-01, 4.54487448e-01,\n",
       "        4.12187436e-02, 2.62730954e-01, 5.95534393e-01, 1.01792019e+00,\n",
       "        4.97963598e-01, 2.22898364e-02, 6.87861845e-01, 6.69452115e-01,\n",
       "        7.24968314e-01, 9.07855874e-01, 1.06148574e+00, 3.96360306e-01,\n",
       "        1.57871191e+00],\n",
       "       [1.65081467e+00, 8.34860969e-01, 7.89997012e-01, 3.83288370e-01,\n",
       "        9.96744163e-01, 4.18423371e-01, 1.07601026e-01, 4.79545589e-01,\n",
       "        6.66565447e-02, 2.25127347e+00, 9.27649638e-01, 9.30465935e-01,\n",
       "        8.36961360e-01, 5.39806195e-01, 8.14628593e-01, 1.04259994e+00,\n",
       "        3.15742382e-01],\n",
       "       [8.78920973e-01, 9.05827036e-02, 1.54920242e-01, 9.35081225e-01,\n",
       "        1.13913619e+00, 1.39150098e+00, 4.27208035e-01, 3.36929800e-01,\n",
       "        4.09741701e-01, 1.44883936e+00, 1.06117853e+00, 1.14314386e+00,\n",
       "        1.17891346e+00, 9.07855874e-01, 6.66514303e-01, 8.96118953e-01,\n",
       "        4.61469635e-01],\n",
       "       [1.97838300e-01, 2.55593234e-01, 1.27400249e+00, 7.21483991e-01,\n",
       "        5.47085142e-01, 1.78073202e+00, 4.27208035e-01, 1.24610545e+00,\n",
       "        9.39073085e-01, 1.18136133e+00, 7.50864912e-01, 8.53128507e-01,\n",
       "        7.53339886e-01, 1.96293162e-01, 4.19657154e-01, 2.67112380e-01,\n",
       "        3.15742382e-01],\n",
       "       [9.69731996e-01, 1.30219848e+00, 7.68827786e-01, 2.93102871e-01,\n",
       "        2.17709909e+00, 8.46577519e-01, 1.39455191e+00, 1.67751821e+00,\n",
       "        9.62598924e-01, 1.27052067e+00, 1.44342848e-01, 3.14183303e-02,\n",
       "        1.42604478e-01, 1.27590555e+00, 1.72800005e-01, 1.04259994e+00,\n",
       "        1.26296953e+00],\n",
       "       [1.35892210e+00, 1.99455036e+00, 1.38947099e+00, 7.57083530e-01,\n",
       "        1.33398843e+00, 1.29419322e+00, 2.03376593e+00, 3.38712498e-02,\n",
       "        1.38410355e+00, 6.46405255e-01, 1.01228062e+00, 9.01464400e-01,\n",
       "        1.01615023e+00, 1.71756517e-01, 3.20914294e-01, 1.20631398e-01,\n",
       "        3.15742382e-01],\n",
       "       [1.74811219e+00, 1.07718413e+00, 1.83787368e-01, 5.25686526e-01,\n",
       "        1.53633499e-01, 5.54654236e-01, 1.07494491e+00, 1.46359453e+00,\n",
       "        2.52902772e-01, 2.00608527e-01, 1.70343367e+00, 1.64100356e+00,\n",
       "        1.64331129e+00, 9.07855874e-01, 1.06148574e+00, 1.04259994e+00,\n",
       "        1.65157553e+00],\n",
       "       [1.07351602e+00, 3.67523453e-01, 1.89464570e+00, 1.02408007e+00,\n",
       "        6.59499897e-01, 5.15731132e-01, 7.46815043e-01, 1.67395282e+00,\n",
       "        9.60638438e-02, 1.09220198e+00, 1.31507148e+00, 1.20114693e+00,\n",
       "        1.15651485e+00, 9.32392519e-01, 2.39451435e+00, 5.08375175e-01,\n",
       "        1.40869678e+00],\n",
       "       [2.95135825e-01, 1.34431656e-01, 7.03395634e-01, 1.46788766e+00,\n",
       "        7.45684543e-01, 7.49269758e-01, 8.83180700e-01, 2.15706380e-01,\n",
       "        8.74377027e-01, 4.23506891e-01, 8.63706227e-01, 5.63113151e-01,\n",
       "        5.29353795e-01, 1.30044220e+00, 1.65394290e+00, 2.67112380e-01,\n",
       "        1.19010590e+00],\n",
       "       [1.91351799e-01, 5.49842780e-01, 1.91581492e+00, 1.61028582e+00,\n",
       "        8.01891920e-01, 1.62503960e+00, 3.07888085e-01, 3.72583748e-01,\n",
       "        6.25395228e-01, 2.16211413e+00, 3.49337902e-01, 3.35934455e-01,\n",
       "        1.87401696e-01, 9.07855874e-01, 1.72800005e-01, 1.20631398e-01,\n",
       "        6.07196888e-01],\n",
       "       [6.77839422e-01, 6.61773000e-01, 8.55429164e-01, 1.41567500e+00,\n",
       "        8.28122030e-01, 4.57346476e-01, 4.99652290e-01, 7.68342561e-01,\n",
       "        7.72431723e-01, 6.68695091e-02, 6.03230859e-01, 2.77931383e-01,\n",
       "        2.99394742e-01, 9.07855874e-01, 1.30834289e+00, 2.67112380e-01,\n",
       "        1.70015129e-01],\n",
       "       [1.26162457e+00, 8.44092327e-01, 8.04430575e-01, 1.34328927e+00,\n",
       "        4.12187436e-02, 1.72234737e+00, 7.14854342e-01, 1.44576756e+00,\n",
       "        3.41124670e-01, 6.01825582e-01, 2.19711442e+00, 2.36604195e+00,\n",
       "        2.42726261e+00, 1.96293162e-01, 1.80205719e+00, 9.13352010e-01,\n",
       "        4.85757510e-02]])"
      ]
     },
     "execution_count": 39,
     "metadata": {},
     "output_type": "execute_result"
    }
   ],
   "source": [
    "z=np.abs(zscore(df))\n",
    "z"
   ]
  },
  {
   "cell_type": "code",
   "execution_count": 40,
   "id": "df77e5e6",
   "metadata": {},
   "outputs": [],
   "source": [
    "df_new = df[(z<3).all(axis=1)]"
   ]
  },
  {
   "cell_type": "code",
   "execution_count": 41,
   "id": "847039d7",
   "metadata": {},
   "outputs": [
    {
     "data": {
      "text/plain": [
       "(30, 17)"
      ]
     },
     "execution_count": 41,
     "metadata": {},
     "output_type": "execute_result"
    }
   ],
   "source": [
    "df.shape"
   ]
  },
  {
   "cell_type": "code",
   "execution_count": 42,
   "id": "4520fa71",
   "metadata": {},
   "outputs": [
    {
     "data": {
      "text/plain": [
       "(29, 17)"
      ]
     },
     "execution_count": 42,
     "metadata": {},
     "output_type": "execute_result"
    }
   ],
   "source": [
    "# Checking shape of new dataset\n",
    "df_new.shape"
   ]
  },
  {
   "cell_type": "code",
   "execution_count": 43,
   "id": "702c1365",
   "metadata": {},
   "outputs": [
    {
     "data": {
      "text/plain": [
       "3.3333333333333335"
      ]
     },
     "execution_count": 43,
     "metadata": {},
     "output_type": "execute_result"
    }
   ],
   "source": [
    "# Data loss\n",
    "\n",
    "loss_percent=(30-29)/30*100\n",
    "loss_percent"
   ]
  },
  {
   "cell_type": "markdown",
   "id": "46f12e0e",
   "metadata": {},
   "source": [
    "### Removing negative correlated column"
   ]
  },
  {
   "cell_type": "code",
   "execution_count": 44,
   "id": "b65b11ea",
   "metadata": {},
   "outputs": [],
   "source": [
    "df_new.drop(['RA','ER',],axis=1,inplace=True)"
   ]
  },
  {
   "cell_type": "code",
   "execution_count": 45,
   "id": "58d67f26",
   "metadata": {},
   "outputs": [],
   "source": [
    "df_new.drop('ERA',axis=1,inplace=True)"
   ]
  },
  {
   "cell_type": "code",
   "execution_count": 46,
   "id": "5d330b20",
   "metadata": {},
   "outputs": [],
   "source": [
    "x = df_new.iloc[:,1:-1]\n",
    "y = df_new['W']"
   ]
  },
  {
   "cell_type": "code",
   "execution_count": 47,
   "id": "c408fb9d",
   "metadata": {},
   "outputs": [
    {
     "data": {
      "text/html": [
       "<div>\n",
       "<style scoped>\n",
       "    .dataframe tbody tr th:only-of-type {\n",
       "        vertical-align: middle;\n",
       "    }\n",
       "\n",
       "    .dataframe tbody tr th {\n",
       "        vertical-align: top;\n",
       "    }\n",
       "\n",
       "    .dataframe thead th {\n",
       "        text-align: right;\n",
       "    }\n",
       "</style>\n",
       "<table border=\"1\" class=\"dataframe\">\n",
       "  <thead>\n",
       "    <tr style=\"text-align: right;\">\n",
       "      <th></th>\n",
       "      <th>R</th>\n",
       "      <th>AB</th>\n",
       "      <th>H</th>\n",
       "      <th>2B</th>\n",
       "      <th>3B</th>\n",
       "      <th>HR</th>\n",
       "      <th>BB</th>\n",
       "      <th>SO</th>\n",
       "      <th>SB</th>\n",
       "      <th>CG</th>\n",
       "      <th>SHO</th>\n",
       "      <th>SV</th>\n",
       "    </tr>\n",
       "  </thead>\n",
       "  <tbody>\n",
       "    <tr>\n",
       "      <th>0</th>\n",
       "      <td>724</td>\n",
       "      <td>5575</td>\n",
       "      <td>1497</td>\n",
       "      <td>300</td>\n",
       "      <td>42</td>\n",
       "      <td>139</td>\n",
       "      <td>383</td>\n",
       "      <td>973</td>\n",
       "      <td>104</td>\n",
       "      <td>2</td>\n",
       "      <td>8</td>\n",
       "      <td>56</td>\n",
       "    </tr>\n",
       "    <tr>\n",
       "      <th>1</th>\n",
       "      <td>696</td>\n",
       "      <td>5467</td>\n",
       "      <td>1349</td>\n",
       "      <td>277</td>\n",
       "      <td>44</td>\n",
       "      <td>156</td>\n",
       "      <td>439</td>\n",
       "      <td>1264</td>\n",
       "      <td>70</td>\n",
       "      <td>2</td>\n",
       "      <td>12</td>\n",
       "      <td>45</td>\n",
       "    </tr>\n",
       "    <tr>\n",
       "      <th>2</th>\n",
       "      <td>669</td>\n",
       "      <td>5439</td>\n",
       "      <td>1395</td>\n",
       "      <td>303</td>\n",
       "      <td>29</td>\n",
       "      <td>141</td>\n",
       "      <td>533</td>\n",
       "      <td>1157</td>\n",
       "      <td>86</td>\n",
       "      <td>11</td>\n",
       "      <td>10</td>\n",
       "      <td>38</td>\n",
       "    </tr>\n",
       "    <tr>\n",
       "      <th>3</th>\n",
       "      <td>622</td>\n",
       "      <td>5533</td>\n",
       "      <td>1381</td>\n",
       "      <td>260</td>\n",
       "      <td>27</td>\n",
       "      <td>136</td>\n",
       "      <td>404</td>\n",
       "      <td>1231</td>\n",
       "      <td>68</td>\n",
       "      <td>7</td>\n",
       "      <td>9</td>\n",
       "      <td>37</td>\n",
       "    </tr>\n",
       "    <tr>\n",
       "      <th>4</th>\n",
       "      <td>689</td>\n",
       "      <td>5605</td>\n",
       "      <td>1515</td>\n",
       "      <td>289</td>\n",
       "      <td>49</td>\n",
       "      <td>151</td>\n",
       "      <td>455</td>\n",
       "      <td>1259</td>\n",
       "      <td>83</td>\n",
       "      <td>7</td>\n",
       "      <td>12</td>\n",
       "      <td>35</td>\n",
       "    </tr>\n",
       "    <tr>\n",
       "      <th>6</th>\n",
       "      <td>764</td>\n",
       "      <td>5567</td>\n",
       "      <td>1397</td>\n",
       "      <td>272</td>\n",
       "      <td>19</td>\n",
       "      <td>212</td>\n",
       "      <td>554</td>\n",
       "      <td>1227</td>\n",
       "      <td>63</td>\n",
       "      <td>3</td>\n",
       "      <td>4</td>\n",
       "      <td>48</td>\n",
       "    </tr>\n",
       "    <tr>\n",
       "      <th>7</th>\n",
       "      <td>713</td>\n",
       "      <td>5485</td>\n",
       "      <td>1370</td>\n",
       "      <td>246</td>\n",
       "      <td>20</td>\n",
       "      <td>217</td>\n",
       "      <td>418</td>\n",
       "      <td>1331</td>\n",
       "      <td>44</td>\n",
       "      <td>0</td>\n",
       "      <td>10</td>\n",
       "      <td>43</td>\n",
       "    </tr>\n",
       "    <tr>\n",
       "      <th>8</th>\n",
       "      <td>644</td>\n",
       "      <td>5485</td>\n",
       "      <td>1383</td>\n",
       "      <td>278</td>\n",
       "      <td>32</td>\n",
       "      <td>167</td>\n",
       "      <td>436</td>\n",
       "      <td>1310</td>\n",
       "      <td>87</td>\n",
       "      <td>1</td>\n",
       "      <td>12</td>\n",
       "      <td>60</td>\n",
       "    </tr>\n",
       "    <tr>\n",
       "      <th>9</th>\n",
       "      <td>748</td>\n",
       "      <td>5640</td>\n",
       "      <td>1495</td>\n",
       "      <td>294</td>\n",
       "      <td>33</td>\n",
       "      <td>161</td>\n",
       "      <td>478</td>\n",
       "      <td>1148</td>\n",
       "      <td>71</td>\n",
       "      <td>3</td>\n",
       "      <td>10</td>\n",
       "      <td>40</td>\n",
       "    </tr>\n",
       "    <tr>\n",
       "      <th>10</th>\n",
       "      <td>751</td>\n",
       "      <td>5511</td>\n",
       "      <td>1419</td>\n",
       "      <td>279</td>\n",
       "      <td>32</td>\n",
       "      <td>172</td>\n",
       "      <td>503</td>\n",
       "      <td>1233</td>\n",
       "      <td>101</td>\n",
       "      <td>5</td>\n",
       "      <td>9</td>\n",
       "      <td>45</td>\n",
       "    </tr>\n",
       "    <tr>\n",
       "      <th>11</th>\n",
       "      <td>729</td>\n",
       "      <td>5459</td>\n",
       "      <td>1363</td>\n",
       "      <td>278</td>\n",
       "      <td>26</td>\n",
       "      <td>230</td>\n",
       "      <td>486</td>\n",
       "      <td>1392</td>\n",
       "      <td>121</td>\n",
       "      <td>5</td>\n",
       "      <td>13</td>\n",
       "      <td>39</td>\n",
       "    </tr>\n",
       "    <tr>\n",
       "      <th>12</th>\n",
       "      <td>661</td>\n",
       "      <td>5417</td>\n",
       "      <td>1331</td>\n",
       "      <td>243</td>\n",
       "      <td>21</td>\n",
       "      <td>176</td>\n",
       "      <td>435</td>\n",
       "      <td>1150</td>\n",
       "      <td>52</td>\n",
       "      <td>2</td>\n",
       "      <td>12</td>\n",
       "      <td>46</td>\n",
       "    </tr>\n",
       "    <tr>\n",
       "      <th>13</th>\n",
       "      <td>656</td>\n",
       "      <td>5544</td>\n",
       "      <td>1379</td>\n",
       "      <td>262</td>\n",
       "      <td>22</td>\n",
       "      <td>198</td>\n",
       "      <td>478</td>\n",
       "      <td>1336</td>\n",
       "      <td>69</td>\n",
       "      <td>6</td>\n",
       "      <td>12</td>\n",
       "      <td>45</td>\n",
       "    </tr>\n",
       "    <tr>\n",
       "      <th>14</th>\n",
       "      <td>694</td>\n",
       "      <td>5600</td>\n",
       "      <td>1405</td>\n",
       "      <td>277</td>\n",
       "      <td>46</td>\n",
       "      <td>146</td>\n",
       "      <td>475</td>\n",
       "      <td>1119</td>\n",
       "      <td>78</td>\n",
       "      <td>5</td>\n",
       "      <td>15</td>\n",
       "      <td>28</td>\n",
       "    </tr>\n",
       "    <tr>\n",
       "      <th>15</th>\n",
       "      <td>647</td>\n",
       "      <td>5484</td>\n",
       "      <td>1386</td>\n",
       "      <td>288</td>\n",
       "      <td>39</td>\n",
       "      <td>137</td>\n",
       "      <td>506</td>\n",
       "      <td>1267</td>\n",
       "      <td>69</td>\n",
       "      <td>1</td>\n",
       "      <td>15</td>\n",
       "      <td>62</td>\n",
       "    </tr>\n",
       "    <tr>\n",
       "      <th>16</th>\n",
       "      <td>697</td>\n",
       "      <td>5631</td>\n",
       "      <td>1462</td>\n",
       "      <td>292</td>\n",
       "      <td>27</td>\n",
       "      <td>140</td>\n",
       "      <td>461</td>\n",
       "      <td>1322</td>\n",
       "      <td>98</td>\n",
       "      <td>0</td>\n",
       "      <td>13</td>\n",
       "      <td>54</td>\n",
       "    </tr>\n",
       "    <tr>\n",
       "      <th>17</th>\n",
       "      <td>689</td>\n",
       "      <td>5491</td>\n",
       "      <td>1341</td>\n",
       "      <td>272</td>\n",
       "      <td>30</td>\n",
       "      <td>171</td>\n",
       "      <td>567</td>\n",
       "      <td>1518</td>\n",
       "      <td>95</td>\n",
       "      <td>6</td>\n",
       "      <td>21</td>\n",
       "      <td>48</td>\n",
       "    </tr>\n",
       "    <tr>\n",
       "      <th>18</th>\n",
       "      <td>655</td>\n",
       "      <td>5480</td>\n",
       "      <td>1378</td>\n",
       "      <td>274</td>\n",
       "      <td>34</td>\n",
       "      <td>145</td>\n",
       "      <td>412</td>\n",
       "      <td>1299</td>\n",
       "      <td>84</td>\n",
       "      <td>1</td>\n",
       "      <td>7</td>\n",
       "      <td>40</td>\n",
       "    </tr>\n",
       "    <tr>\n",
       "      <th>19</th>\n",
       "      <td>640</td>\n",
       "      <td>5571</td>\n",
       "      <td>1382</td>\n",
       "      <td>257</td>\n",
       "      <td>27</td>\n",
       "      <td>167</td>\n",
       "      <td>496</td>\n",
       "      <td>1255</td>\n",
       "      <td>134</td>\n",
       "      <td>2</td>\n",
       "      <td>8</td>\n",
       "      <td>35</td>\n",
       "    </tr>\n",
       "    <tr>\n",
       "      <th>20</th>\n",
       "      <td>683</td>\n",
       "      <td>5527</td>\n",
       "      <td>1351</td>\n",
       "      <td>295</td>\n",
       "      <td>17</td>\n",
       "      <td>177</td>\n",
       "      <td>488</td>\n",
       "      <td>1290</td>\n",
       "      <td>51</td>\n",
       "      <td>1</td>\n",
       "      <td>14</td>\n",
       "      <td>50</td>\n",
       "    </tr>\n",
       "    <tr>\n",
       "      <th>21</th>\n",
       "      <td>703</td>\n",
       "      <td>5428</td>\n",
       "      <td>1363</td>\n",
       "      <td>265</td>\n",
       "      <td>13</td>\n",
       "      <td>177</td>\n",
       "      <td>539</td>\n",
       "      <td>1344</td>\n",
       "      <td>57</td>\n",
       "      <td>4</td>\n",
       "      <td>13</td>\n",
       "      <td>41</td>\n",
       "    </tr>\n",
       "    <tr>\n",
       "      <th>22</th>\n",
       "      <td>613</td>\n",
       "      <td>5463</td>\n",
       "      <td>1420</td>\n",
       "      <td>236</td>\n",
       "      <td>40</td>\n",
       "      <td>120</td>\n",
       "      <td>375</td>\n",
       "      <td>1150</td>\n",
       "      <td>112</td>\n",
       "      <td>0</td>\n",
       "      <td>12</td>\n",
       "      <td>35</td>\n",
       "    </tr>\n",
       "    <tr>\n",
       "      <th>23</th>\n",
       "      <td>573</td>\n",
       "      <td>5420</td>\n",
       "      <td>1361</td>\n",
       "      <td>251</td>\n",
       "      <td>18</td>\n",
       "      <td>100</td>\n",
       "      <td>471</td>\n",
       "      <td>1107</td>\n",
       "      <td>69</td>\n",
       "      <td>3</td>\n",
       "      <td>10</td>\n",
       "      <td>44</td>\n",
       "    </tr>\n",
       "    <tr>\n",
       "      <th>24</th>\n",
       "      <td>626</td>\n",
       "      <td>5529</td>\n",
       "      <td>1374</td>\n",
       "      <td>272</td>\n",
       "      <td>37</td>\n",
       "      <td>130</td>\n",
       "      <td>387</td>\n",
       "      <td>1274</td>\n",
       "      <td>88</td>\n",
       "      <td>1</td>\n",
       "      <td>7</td>\n",
       "      <td>35</td>\n",
       "    </tr>\n",
       "    <tr>\n",
       "      <th>25</th>\n",
       "      <td>667</td>\n",
       "      <td>5385</td>\n",
       "      <td>1346</td>\n",
       "      <td>263</td>\n",
       "      <td>26</td>\n",
       "      <td>187</td>\n",
       "      <td>563</td>\n",
       "      <td>1258</td>\n",
       "      <td>59</td>\n",
       "      <td>6</td>\n",
       "      <td>21</td>\n",
       "      <td>47</td>\n",
       "    </tr>\n",
       "    <tr>\n",
       "      <th>26</th>\n",
       "      <td>696</td>\n",
       "      <td>5565</td>\n",
       "      <td>1486</td>\n",
       "      <td>288</td>\n",
       "      <td>39</td>\n",
       "      <td>136</td>\n",
       "      <td>457</td>\n",
       "      <td>1159</td>\n",
       "      <td>93</td>\n",
       "      <td>7</td>\n",
       "      <td>18</td>\n",
       "      <td>41</td>\n",
       "    </tr>\n",
       "    <tr>\n",
       "      <th>27</th>\n",
       "      <td>720</td>\n",
       "      <td>5649</td>\n",
       "      <td>1494</td>\n",
       "      <td>289</td>\n",
       "      <td>48</td>\n",
       "      <td>154</td>\n",
       "      <td>490</td>\n",
       "      <td>1312</td>\n",
       "      <td>132</td>\n",
       "      <td>1</td>\n",
       "      <td>12</td>\n",
       "      <td>44</td>\n",
       "    </tr>\n",
       "    <tr>\n",
       "      <th>28</th>\n",
       "      <td>650</td>\n",
       "      <td>5457</td>\n",
       "      <td>1324</td>\n",
       "      <td>260</td>\n",
       "      <td>36</td>\n",
       "      <td>148</td>\n",
       "      <td>426</td>\n",
       "      <td>1327</td>\n",
       "      <td>82</td>\n",
       "      <td>1</td>\n",
       "      <td>6</td>\n",
       "      <td>41</td>\n",
       "    </tr>\n",
       "    <tr>\n",
       "      <th>29</th>\n",
       "      <td>737</td>\n",
       "      <td>5572</td>\n",
       "      <td>1479</td>\n",
       "      <td>274</td>\n",
       "      <td>49</td>\n",
       "      <td>186</td>\n",
       "      <td>388</td>\n",
       "      <td>1283</td>\n",
       "      <td>97</td>\n",
       "      <td>4</td>\n",
       "      <td>4</td>\n",
       "      <td>36</td>\n",
       "    </tr>\n",
       "  </tbody>\n",
       "</table>\n",
       "</div>"
      ],
      "text/plain": [
       "      R    AB     H   2B  3B   HR   BB    SO   SB  CG  SHO  SV\n",
       "0   724  5575  1497  300  42  139  383   973  104   2    8  56\n",
       "1   696  5467  1349  277  44  156  439  1264   70   2   12  45\n",
       "2   669  5439  1395  303  29  141  533  1157   86  11   10  38\n",
       "3   622  5533  1381  260  27  136  404  1231   68   7    9  37\n",
       "4   689  5605  1515  289  49  151  455  1259   83   7   12  35\n",
       "6   764  5567  1397  272  19  212  554  1227   63   3    4  48\n",
       "7   713  5485  1370  246  20  217  418  1331   44   0   10  43\n",
       "8   644  5485  1383  278  32  167  436  1310   87   1   12  60\n",
       "9   748  5640  1495  294  33  161  478  1148   71   3   10  40\n",
       "10  751  5511  1419  279  32  172  503  1233  101   5    9  45\n",
       "11  729  5459  1363  278  26  230  486  1392  121   5   13  39\n",
       "12  661  5417  1331  243  21  176  435  1150   52   2   12  46\n",
       "13  656  5544  1379  262  22  198  478  1336   69   6   12  45\n",
       "14  694  5600  1405  277  46  146  475  1119   78   5   15  28\n",
       "15  647  5484  1386  288  39  137  506  1267   69   1   15  62\n",
       "16  697  5631  1462  292  27  140  461  1322   98   0   13  54\n",
       "17  689  5491  1341  272  30  171  567  1518   95   6   21  48\n",
       "18  655  5480  1378  274  34  145  412  1299   84   1    7  40\n",
       "19  640  5571  1382  257  27  167  496  1255  134   2    8  35\n",
       "20  683  5527  1351  295  17  177  488  1290   51   1   14  50\n",
       "21  703  5428  1363  265  13  177  539  1344   57   4   13  41\n",
       "22  613  5463  1420  236  40  120  375  1150  112   0   12  35\n",
       "23  573  5420  1361  251  18  100  471  1107   69   3   10  44\n",
       "24  626  5529  1374  272  37  130  387  1274   88   1    7  35\n",
       "25  667  5385  1346  263  26  187  563  1258   59   6   21  47\n",
       "26  696  5565  1486  288  39  136  457  1159   93   7   18  41\n",
       "27  720  5649  1494  289  48  154  490  1312  132   1   12  44\n",
       "28  650  5457  1324  260  36  148  426  1327   82   1    6  41\n",
       "29  737  5572  1479  274  49  186  388  1283   97   4    4  36"
      ]
     },
     "execution_count": 47,
     "metadata": {},
     "output_type": "execute_result"
    }
   ],
   "source": [
    "x"
   ]
  },
  {
   "cell_type": "code",
   "execution_count": 48,
   "id": "4dd38bad",
   "metadata": {},
   "outputs": [
    {
     "data": {
      "text/plain": [
       "0      95\n",
       "1      83\n",
       "2      81\n",
       "3      76\n",
       "4      74\n",
       "6      87\n",
       "7      81\n",
       "8      80\n",
       "9      78\n",
       "10     88\n",
       "11     86\n",
       "12     85\n",
       "13     76\n",
       "14     68\n",
       "15    100\n",
       "16     98\n",
       "17     97\n",
       "18     68\n",
       "19     64\n",
       "20     90\n",
       "21     83\n",
       "22     71\n",
       "23     67\n",
       "24     63\n",
       "25     92\n",
       "26     84\n",
       "27     79\n",
       "28     74\n",
       "29     68\n",
       "Name: W, dtype: int64"
      ]
     },
     "execution_count": 48,
     "metadata": {},
     "output_type": "execute_result"
    }
   ],
   "source": [
    "y"
   ]
  },
  {
   "cell_type": "markdown",
   "id": "de360491",
   "metadata": {},
   "source": [
    "### Transforming Data to Remove Skewness:"
   ]
  },
  {
   "cell_type": "code",
   "execution_count": 49,
   "id": "b0e36e30",
   "metadata": {},
   "outputs": [],
   "source": [
    "df_x = power_transform(x)\n",
    "df_x = pd.DataFrame(df_x)\n",
    "x=df_x"
   ]
  },
  {
   "cell_type": "code",
   "execution_count": 50,
   "id": "e1536cca",
   "metadata": {},
   "outputs": [
    {
     "data": {
      "text/html": [
       "<div>\n",
       "<style scoped>\n",
       "    .dataframe tbody tr th:only-of-type {\n",
       "        vertical-align: middle;\n",
       "    }\n",
       "\n",
       "    .dataframe tbody tr th {\n",
       "        vertical-align: top;\n",
       "    }\n",
       "\n",
       "    .dataframe thead th {\n",
       "        text-align: right;\n",
       "    }\n",
       "</style>\n",
       "<table border=\"1\" class=\"dataframe\">\n",
       "  <thead>\n",
       "    <tr style=\"text-align: right;\">\n",
       "      <th></th>\n",
       "      <th>0</th>\n",
       "      <th>1</th>\n",
       "      <th>2</th>\n",
       "      <th>3</th>\n",
       "      <th>4</th>\n",
       "      <th>5</th>\n",
       "      <th>6</th>\n",
       "      <th>7</th>\n",
       "      <th>8</th>\n",
       "      <th>9</th>\n",
       "      <th>10</th>\n",
       "      <th>11</th>\n",
       "    </tr>\n",
       "  </thead>\n",
       "  <tbody>\n",
       "    <tr>\n",
       "      <th>0</th>\n",
       "      <td>0.962544</td>\n",
       "      <td>0.0</td>\n",
       "      <td>0.0</td>\n",
       "      <td>1.685188</td>\n",
       "      <td>1.006150</td>\n",
       "      <td>-0.741927</td>\n",
       "      <td>-1.605198</td>\n",
       "      <td>-2.550612</td>\n",
       "      <td>0.936132</td>\n",
       "      <td>-0.307098</td>\n",
       "      <td>-0.787002</td>\n",
       "      <td>1.532753</td>\n",
       "    </tr>\n",
       "    <tr>\n",
       "      <th>1</th>\n",
       "      <td>0.298863</td>\n",
       "      <td>0.0</td>\n",
       "      <td>0.0</td>\n",
       "      <td>0.138198</td>\n",
       "      <td>1.185227</td>\n",
       "      <td>-0.109958</td>\n",
       "      <td>-0.462096</td>\n",
       "      <td>0.093683</td>\n",
       "      <td>-0.516377</td>\n",
       "      <td>-0.307098</td>\n",
       "      <td>0.236737</td>\n",
       "      <td>0.312020</td>\n",
       "    </tr>\n",
       "    <tr>\n",
       "      <th>2</th>\n",
       "      <td>-0.312105</td>\n",
       "      <td>0.0</td>\n",
       "      <td>0.0</td>\n",
       "      <td>1.907385</td>\n",
       "      <td>-0.228819</td>\n",
       "      <td>-0.664354</td>\n",
       "      <td>1.232098</td>\n",
       "      <td>-0.935611</td>\n",
       "      <td>0.225038</td>\n",
       "      <td>2.011315</td>\n",
       "      <td>-0.252844</td>\n",
       "      <td>-0.664137</td>\n",
       "    </tr>\n",
       "    <tr>\n",
       "      <th>3</th>\n",
       "      <td>-1.308298</td>\n",
       "      <td>0.0</td>\n",
       "      <td>0.0</td>\n",
       "      <td>-0.837665</td>\n",
       "      <td>-0.432228</td>\n",
       "      <td>-0.860039</td>\n",
       "      <td>-1.162721</td>\n",
       "      <td>-0.230683</td>\n",
       "      <td>-0.618422</td>\n",
       "      <td>1.264463</td>\n",
       "      <td>-0.513555</td>\n",
       "      <td>-0.820689</td>\n",
       "    </tr>\n",
       "    <tr>\n",
       "      <th>4</th>\n",
       "      <td>0.137737</td>\n",
       "      <td>0.0</td>\n",
       "      <td>0.0</td>\n",
       "      <td>0.911435</td>\n",
       "      <td>1.622636</td>\n",
       "      <td>-0.289647</td>\n",
       "      <td>-0.155686</td>\n",
       "      <td>0.044143</td>\n",
       "      <td>0.095038</td>\n",
       "      <td>1.264463</td>\n",
       "      <td>0.236737</td>\n",
       "      <td>-1.149165</td>\n",
       "    </tr>\n",
       "    <tr>\n",
       "      <th>5</th>\n",
       "      <td>1.964209</td>\n",
       "      <td>0.0</td>\n",
       "      <td>0.0</td>\n",
       "      <td>-0.163010</td>\n",
       "      <td>-1.295827</td>\n",
       "      <td>1.631637</td>\n",
       "      <td>1.579494</td>\n",
       "      <td>-0.269583</td>\n",
       "      <td>-0.884526</td>\n",
       "      <td>0.121871</td>\n",
       "      <td>-2.064039</td>\n",
       "      <td>0.677176</td>\n",
       "    </tr>\n",
       "    <tr>\n",
       "      <th>6</th>\n",
       "      <td>0.698146</td>\n",
       "      <td>0.0</td>\n",
       "      <td>0.0</td>\n",
       "      <td>-1.542635</td>\n",
       "      <td>-1.182758</td>\n",
       "      <td>1.767734</td>\n",
       "      <td>-0.877217</td>\n",
       "      <td>0.770980</td>\n",
       "      <td>-2.082843</td>\n",
       "      <td>-1.732896</td>\n",
       "      <td>-0.252844</td>\n",
       "      <td>0.052325</td>\n",
       "    </tr>\n",
       "    <tr>\n",
       "      <th>7</th>\n",
       "      <td>-0.852595</td>\n",
       "      <td>0.0</td>\n",
       "      <td>0.0</td>\n",
       "      <td>0.199897</td>\n",
       "      <td>0.068703</td>\n",
       "      <td>0.269125</td>\n",
       "      <td>-0.520476</td>\n",
       "      <td>0.556008</td>\n",
       "      <td>0.267558</td>\n",
       "      <td>-0.870682</td>\n",
       "      <td>0.236737</td>\n",
       "      <td>1.908137</td>\n",
       "    </tr>\n",
       "    <tr>\n",
       "      <th>8</th>\n",
       "      <td>1.555951</td>\n",
       "      <td>0.0</td>\n",
       "      <td>0.0</td>\n",
       "      <td>1.255256</td>\n",
       "      <td>0.166017</td>\n",
       "      <td>0.065014</td>\n",
       "      <td>0.270944</td>\n",
       "      <td>-1.019210</td>\n",
       "      <td>-0.466233</td>\n",
       "      <td>0.121871</td>\n",
       "      <td>-0.252844</td>\n",
       "      <td>-0.365006</td>\n",
       "    </tr>\n",
       "    <tr>\n",
       "      <th>9</th>\n",
       "      <td>1.631727</td>\n",
       "      <td>0.0</td>\n",
       "      <td>0.0</td>\n",
       "      <td>0.262086</td>\n",
       "      <td>0.068703</td>\n",
       "      <td>0.434620</td>\n",
       "      <td>0.717576</td>\n",
       "      <td>-0.211199</td>\n",
       "      <td>0.824915</td>\n",
       "      <td>0.770649</td>\n",
       "      <td>-0.513555</td>\n",
       "      <td>0.312020</td>\n",
       "    </tr>\n",
       "    <tr>\n",
       "      <th>10</th>\n",
       "      <td>1.084297</td>\n",
       "      <td>0.0</td>\n",
       "      <td>0.0</td>\n",
       "      <td>0.199897</td>\n",
       "      <td>-0.535590</td>\n",
       "      <td>2.109761</td>\n",
       "      <td>0.415731</td>\n",
       "      <td>1.409203</td>\n",
       "      <td>1.521413</td>\n",
       "      <td>0.770649</td>\n",
       "      <td>0.468029</td>\n",
       "      <td>-0.512328</td>\n",
       "    </tr>\n",
       "    <tr>\n",
       "      <th>11</th>\n",
       "      <td>-0.487692</td>\n",
       "      <td>0.0</td>\n",
       "      <td>0.0</td>\n",
       "      <td>-1.682709</td>\n",
       "      <td>-1.071323</td>\n",
       "      <td>0.564164</td>\n",
       "      <td>-0.540002</td>\n",
       "      <td>-1.000673</td>\n",
       "      <td>-1.535760</td>\n",
       "      <td>-0.307098</td>\n",
       "      <td>0.236737</td>\n",
       "      <td>0.436838</td>\n",
       "    </tr>\n",
       "    <tr>\n",
       "      <th>12</th>\n",
       "      <td>-0.596176</td>\n",
       "      <td>0.0</td>\n",
       "      <td>0.0</td>\n",
       "      <td>-0.729847</td>\n",
       "      <td>-0.961425</td>\n",
       "      <td>1.235848</td>\n",
       "      <td>0.270944</td>\n",
       "      <td>0.822524</td>\n",
       "      <td>-0.567102</td>\n",
       "      <td>1.031663</td>\n",
       "      <td>0.236737</td>\n",
       "      <td>0.312020</td>\n",
       "    </tr>\n",
       "    <tr>\n",
       "      <th>13</th>\n",
       "      <td>0.252632</td>\n",
       "      <td>0.0</td>\n",
       "      <td>0.0</td>\n",
       "      <td>0.138198</td>\n",
       "      <td>1.361887</td>\n",
       "      <td>-0.474340</td>\n",
       "      <td>0.216181</td>\n",
       "      <td>-1.285401</td>\n",
       "      <td>-0.130312</td>\n",
       "      <td>0.770649</td>\n",
       "      <td>0.908147</td>\n",
       "      <td>-2.498840</td>\n",
       "    </tr>\n",
       "    <tr>\n",
       "      <th>14</th>\n",
       "      <td>-0.789011</td>\n",
       "      <td>0.0</td>\n",
       "      <td>0.0</td>\n",
       "      <td>0.844222</td>\n",
       "      <td>0.732678</td>\n",
       "      <td>-0.820431</td>\n",
       "      <td>0.770046</td>\n",
       "      <td>0.123475</td>\n",
       "      <td>-0.567102</td>\n",
       "      <td>-0.870682</td>\n",
       "      <td>0.908147</td>\n",
       "      <td>2.084917</td>\n",
       "    </tr>\n",
       "    <tr>\n",
       "      <th>15</th>\n",
       "      <td>0.322037</td>\n",
       "      <td>0.0</td>\n",
       "      <td>0.0</td>\n",
       "      <td>1.116168</td>\n",
       "      <td>-0.432228</td>\n",
       "      <td>-0.703026</td>\n",
       "      <td>-0.042862</td>\n",
       "      <td>0.678550</td>\n",
       "      <td>0.710994</td>\n",
       "      <td>-1.732896</td>\n",
       "      <td>0.468029</td>\n",
       "      <td>1.333006</td>\n",
       "    </tr>\n",
       "    <tr>\n",
       "      <th>16</th>\n",
       "      <td>0.137737</td>\n",
       "      <td>0.0</td>\n",
       "      <td>0.0</td>\n",
       "      <td>-0.163010</td>\n",
       "      <td>-0.128676</td>\n",
       "      <td>0.401843</td>\n",
       "      <td>1.789632</td>\n",
       "      <td>2.791487</td>\n",
       "      <td>0.594218</td>\n",
       "      <td>1.031663</td>\n",
       "      <td>2.090856</td>\n",
       "      <td>0.677176</td>\n",
       "    </tr>\n",
       "    <tr>\n",
       "      <th>17</th>\n",
       "      <td>-0.617757</td>\n",
       "      <td>0.0</td>\n",
       "      <td>0.0</td>\n",
       "      <td>-0.043976</td>\n",
       "      <td>0.262460</td>\n",
       "      <td>-0.511906</td>\n",
       "      <td>-0.998685</td>\n",
       "      <td>0.444379</td>\n",
       "      <td>0.138787</td>\n",
       "      <td>-0.870682</td>\n",
       "      <td>-1.075340</td>\n",
       "      <td>-0.365006</td>\n",
       "    </tr>\n",
       "    <tr>\n",
       "      <th>18</th>\n",
       "      <td>-0.936834</td>\n",
       "      <td>0.0</td>\n",
       "      <td>0.0</td>\n",
       "      <td>-0.996003</td>\n",
       "      <td>-0.432228</td>\n",
       "      <td>0.269125</td>\n",
       "      <td>0.594227</td>\n",
       "      <td>0.004612</td>\n",
       "      <td>1.925528</td>\n",
       "      <td>-0.307098</td>\n",
       "      <td>-0.787002</td>\n",
       "      <td>-1.149165</td>\n",
       "    </tr>\n",
       "    <tr>\n",
       "      <th>19</th>\n",
       "      <td>0.001150</td>\n",
       "      <td>0.0</td>\n",
       "      <td>0.0</td>\n",
       "      <td>1.325587</td>\n",
       "      <td>-1.527310</td>\n",
       "      <td>0.596168</td>\n",
       "      <td>0.451649</td>\n",
       "      <td>0.353547</td>\n",
       "      <td>-1.600293</td>\n",
       "      <td>-0.870682</td>\n",
       "      <td>0.691583</td>\n",
       "      <td>0.906024</td>\n",
       "    </tr>\n",
       "    <tr>\n",
       "      <th>20</th>\n",
       "      <td>0.461904</td>\n",
       "      <td>0.0</td>\n",
       "      <td>0.0</td>\n",
       "      <td>-0.564688</td>\n",
       "      <td>-2.015649</td>\n",
       "      <td>0.596168</td>\n",
       "      <td>1.332385</td>\n",
       "      <td>0.905280</td>\n",
       "      <td>-1.227262</td>\n",
       "      <td>0.472300</td>\n",
       "      <td>0.468029</td>\n",
       "      <td>-0.221934</td>\n",
       "    </tr>\n",
       "    <tr>\n",
       "      <th>21</th>\n",
       "      <td>-1.489372</td>\n",
       "      <td>0.0</td>\n",
       "      <td>0.0</td>\n",
       "      <td>-1.995042</td>\n",
       "      <td>0.824510</td>\n",
       "      <td>-1.529112</td>\n",
       "      <td>-1.778543</td>\n",
       "      <td>-1.000673</td>\n",
       "      <td>1.220510</td>\n",
       "      <td>-1.732896</td>\n",
       "      <td>0.236737</td>\n",
       "      <td>-1.149165</td>\n",
       "    </tr>\n",
       "    <tr>\n",
       "      <th>22</th>\n",
       "      <td>-2.256817</td>\n",
       "      <td>0.0</td>\n",
       "      <td>0.0</td>\n",
       "      <td>-1.300683</td>\n",
       "      <td>-1.410638</td>\n",
       "      <td>-2.478298</td>\n",
       "      <td>0.142759</td>\n",
       "      <td>-1.394124</td>\n",
       "      <td>-0.567102</td>\n",
       "      <td>0.121871</td>\n",
       "      <td>-0.252844</td>\n",
       "      <td>0.183904</td>\n",
       "    </tr>\n",
       "    <tr>\n",
       "      <th>23</th>\n",
       "      <td>-1.226825</td>\n",
       "      <td>0.0</td>\n",
       "      <td>0.0</td>\n",
       "      <td>-0.163010</td>\n",
       "      <td>0.546878</td>\n",
       "      <td>-1.102893</td>\n",
       "      <td>-1.519540</td>\n",
       "      <td>0.193184</td>\n",
       "      <td>0.309686</td>\n",
       "      <td>-0.870682</td>\n",
       "      <td>-1.075340</td>\n",
       "      <td>-1.149165</td>\n",
       "    </tr>\n",
       "    <tr>\n",
       "      <th>24</th>\n",
       "      <td>-0.356235</td>\n",
       "      <td>0.0</td>\n",
       "      <td>0.0</td>\n",
       "      <td>-0.675253</td>\n",
       "      <td>-0.535590</td>\n",
       "      <td>0.908214</td>\n",
       "      <td>1.725362</td>\n",
       "      <td>0.034252</td>\n",
       "      <td>-1.109925</td>\n",
       "      <td>1.031663</td>\n",
       "      <td>2.090856</td>\n",
       "      <td>0.558509</td>\n",
       "    </tr>\n",
       "    <tr>\n",
       "      <th>25</th>\n",
       "      <td>0.298863</td>\n",
       "      <td>0.0</td>\n",
       "      <td>0.0</td>\n",
       "      <td>0.844222</td>\n",
       "      <td>0.732678</td>\n",
       "      <td>-0.860039</td>\n",
       "      <td>-0.117955</td>\n",
       "      <td>-0.916971</td>\n",
       "      <td>0.514700</td>\n",
       "      <td>1.264463</td>\n",
       "      <td>1.521828</td>\n",
       "      <td>-0.221934</td>\n",
       "    </tr>\n",
       "    <tr>\n",
       "      <th>26</th>\n",
       "      <td>0.865849</td>\n",
       "      <td>0.0</td>\n",
       "      <td>0.0</td>\n",
       "      <td>0.911435</td>\n",
       "      <td>1.536265</td>\n",
       "      <td>-0.181252</td>\n",
       "      <td>0.487457</td>\n",
       "      <td>0.576376</td>\n",
       "      <td>1.865486</td>\n",
       "      <td>-0.870682</td>\n",
       "      <td>0.236737</td>\n",
       "      <td>0.183904</td>\n",
       "    </tr>\n",
       "    <tr>\n",
       "      <th>27</th>\n",
       "      <td>-0.725080</td>\n",
       "      <td>0.0</td>\n",
       "      <td>0.0</td>\n",
       "      <td>-0.837665</td>\n",
       "      <td>0.452861</td>\n",
       "      <td>-0.399842</td>\n",
       "      <td>-0.717273</td>\n",
       "      <td>0.729845</td>\n",
       "      <td>0.050861</td>\n",
       "      <td>-0.870682</td>\n",
       "      <td>-1.381412</td>\n",
       "      <td>-0.221934</td>\n",
       "    </tr>\n",
       "    <tr>\n",
       "      <th>28</th>\n",
       "      <td>1.281152</td>\n",
       "      <td>0.0</td>\n",
       "      <td>0.0</td>\n",
       "      <td>-0.043976</td>\n",
       "      <td>1.622636</td>\n",
       "      <td>0.877642</td>\n",
       "      <td>-1.498230</td>\n",
       "      <td>0.283212</td>\n",
       "      <td>0.672394</td>\n",
       "      <td>0.472300</td>\n",
       "      <td>-2.064039</td>\n",
       "      <td>-0.982264</td>\n",
       "    </tr>\n",
       "  </tbody>\n",
       "</table>\n",
       "</div>"
      ],
      "text/plain": [
       "          0    1    2         3         4         5         6         7   \\\n",
       "0   0.962544  0.0  0.0  1.685188  1.006150 -0.741927 -1.605198 -2.550612   \n",
       "1   0.298863  0.0  0.0  0.138198  1.185227 -0.109958 -0.462096  0.093683   \n",
       "2  -0.312105  0.0  0.0  1.907385 -0.228819 -0.664354  1.232098 -0.935611   \n",
       "3  -1.308298  0.0  0.0 -0.837665 -0.432228 -0.860039 -1.162721 -0.230683   \n",
       "4   0.137737  0.0  0.0  0.911435  1.622636 -0.289647 -0.155686  0.044143   \n",
       "5   1.964209  0.0  0.0 -0.163010 -1.295827  1.631637  1.579494 -0.269583   \n",
       "6   0.698146  0.0  0.0 -1.542635 -1.182758  1.767734 -0.877217  0.770980   \n",
       "7  -0.852595  0.0  0.0  0.199897  0.068703  0.269125 -0.520476  0.556008   \n",
       "8   1.555951  0.0  0.0  1.255256  0.166017  0.065014  0.270944 -1.019210   \n",
       "9   1.631727  0.0  0.0  0.262086  0.068703  0.434620  0.717576 -0.211199   \n",
       "10  1.084297  0.0  0.0  0.199897 -0.535590  2.109761  0.415731  1.409203   \n",
       "11 -0.487692  0.0  0.0 -1.682709 -1.071323  0.564164 -0.540002 -1.000673   \n",
       "12 -0.596176  0.0  0.0 -0.729847 -0.961425  1.235848  0.270944  0.822524   \n",
       "13  0.252632  0.0  0.0  0.138198  1.361887 -0.474340  0.216181 -1.285401   \n",
       "14 -0.789011  0.0  0.0  0.844222  0.732678 -0.820431  0.770046  0.123475   \n",
       "15  0.322037  0.0  0.0  1.116168 -0.432228 -0.703026 -0.042862  0.678550   \n",
       "16  0.137737  0.0  0.0 -0.163010 -0.128676  0.401843  1.789632  2.791487   \n",
       "17 -0.617757  0.0  0.0 -0.043976  0.262460 -0.511906 -0.998685  0.444379   \n",
       "18 -0.936834  0.0  0.0 -0.996003 -0.432228  0.269125  0.594227  0.004612   \n",
       "19  0.001150  0.0  0.0  1.325587 -1.527310  0.596168  0.451649  0.353547   \n",
       "20  0.461904  0.0  0.0 -0.564688 -2.015649  0.596168  1.332385  0.905280   \n",
       "21 -1.489372  0.0  0.0 -1.995042  0.824510 -1.529112 -1.778543 -1.000673   \n",
       "22 -2.256817  0.0  0.0 -1.300683 -1.410638 -2.478298  0.142759 -1.394124   \n",
       "23 -1.226825  0.0  0.0 -0.163010  0.546878 -1.102893 -1.519540  0.193184   \n",
       "24 -0.356235  0.0  0.0 -0.675253 -0.535590  0.908214  1.725362  0.034252   \n",
       "25  0.298863  0.0  0.0  0.844222  0.732678 -0.860039 -0.117955 -0.916971   \n",
       "26  0.865849  0.0  0.0  0.911435  1.536265 -0.181252  0.487457  0.576376   \n",
       "27 -0.725080  0.0  0.0 -0.837665  0.452861 -0.399842 -0.717273  0.729845   \n",
       "28  1.281152  0.0  0.0 -0.043976  1.622636  0.877642 -1.498230  0.283212   \n",
       "\n",
       "          8         9         10        11  \n",
       "0   0.936132 -0.307098 -0.787002  1.532753  \n",
       "1  -0.516377 -0.307098  0.236737  0.312020  \n",
       "2   0.225038  2.011315 -0.252844 -0.664137  \n",
       "3  -0.618422  1.264463 -0.513555 -0.820689  \n",
       "4   0.095038  1.264463  0.236737 -1.149165  \n",
       "5  -0.884526  0.121871 -2.064039  0.677176  \n",
       "6  -2.082843 -1.732896 -0.252844  0.052325  \n",
       "7   0.267558 -0.870682  0.236737  1.908137  \n",
       "8  -0.466233  0.121871 -0.252844 -0.365006  \n",
       "9   0.824915  0.770649 -0.513555  0.312020  \n",
       "10  1.521413  0.770649  0.468029 -0.512328  \n",
       "11 -1.535760 -0.307098  0.236737  0.436838  \n",
       "12 -0.567102  1.031663  0.236737  0.312020  \n",
       "13 -0.130312  0.770649  0.908147 -2.498840  \n",
       "14 -0.567102 -0.870682  0.908147  2.084917  \n",
       "15  0.710994 -1.732896  0.468029  1.333006  \n",
       "16  0.594218  1.031663  2.090856  0.677176  \n",
       "17  0.138787 -0.870682 -1.075340 -0.365006  \n",
       "18  1.925528 -0.307098 -0.787002 -1.149165  \n",
       "19 -1.600293 -0.870682  0.691583  0.906024  \n",
       "20 -1.227262  0.472300  0.468029 -0.221934  \n",
       "21  1.220510 -1.732896  0.236737 -1.149165  \n",
       "22 -0.567102  0.121871 -0.252844  0.183904  \n",
       "23  0.309686 -0.870682 -1.075340 -1.149165  \n",
       "24 -1.109925  1.031663  2.090856  0.558509  \n",
       "25  0.514700  1.264463  1.521828 -0.221934  \n",
       "26  1.865486 -0.870682  0.236737  0.183904  \n",
       "27  0.050861 -0.870682 -1.381412 -0.221934  \n",
       "28  0.672394  0.472300 -2.064039 -0.982264  "
      ]
     },
     "execution_count": 50,
     "metadata": {},
     "output_type": "execute_result"
    }
   ],
   "source": [
    "x"
   ]
  },
  {
   "cell_type": "code",
   "execution_count": 51,
   "id": "d37045ff",
   "metadata": {},
   "outputs": [
    {
     "data": {
      "text/plain": [
       "array([[ 9.62543504e-01,  0.00000000e+00,  0.00000000e+00,\n",
       "         1.68518793e+00,  1.00615029e+00, -7.41927000e-01,\n",
       "        -1.60519802e+00, -2.55061247e+00,  9.36131648e-01,\n",
       "        -3.07098204e-01, -7.87002186e-01,  1.53275292e+00],\n",
       "       [ 2.98863300e-01,  0.00000000e+00,  0.00000000e+00,\n",
       "         1.38197902e-01,  1.18522654e+00, -1.09958425e-01,\n",
       "        -4.62095966e-01,  9.36832915e-02, -5.16377335e-01,\n",
       "        -3.07098204e-01,  2.36736538e-01,  3.12020186e-01],\n",
       "       [-3.12105130e-01,  0.00000000e+00,  0.00000000e+00,\n",
       "         1.90738550e+00, -2.28819392e-01, -6.64354121e-01,\n",
       "         1.23209786e+00, -9.35611465e-01,  2.25038365e-01,\n",
       "         2.01131531e+00, -2.52844176e-01, -6.64136739e-01],\n",
       "       [-1.30829774e+00,  0.00000000e+00,  0.00000000e+00,\n",
       "        -8.37664770e-01, -4.32227907e-01, -8.60039342e-01,\n",
       "        -1.16272085e+00, -2.30682707e-01, -6.18421529e-01,\n",
       "         1.26446344e+00, -5.13554932e-01, -8.20688859e-01],\n",
       "       [ 1.37737301e-01,  0.00000000e+00,  0.00000000e+00,\n",
       "         9.11434794e-01,  1.62263592e+00, -2.89646675e-01,\n",
       "        -1.55685826e-01,  4.41433307e-02,  9.50377681e-02,\n",
       "         1.26446344e+00,  2.36736538e-01, -1.14916472e+00],\n",
       "       [ 1.96420873e+00,  0.00000000e+00,  0.00000000e+00,\n",
       "        -1.63010220e-01, -1.29582738e+00,  1.63163749e+00,\n",
       "         1.57949358e+00, -2.69582692e-01, -8.84525554e-01,\n",
       "         1.21870592e-01, -2.06403920e+00,  6.77176215e-01],\n",
       "       [ 6.98145564e-01,  0.00000000e+00,  0.00000000e+00,\n",
       "        -1.54263548e+00, -1.18275843e+00,  1.76773356e+00,\n",
       "        -8.77216697e-01,  7.70980104e-01, -2.08284252e+00,\n",
       "        -1.73289617e+00, -2.52844176e-01,  5.23253489e-02],\n",
       "       [-8.52595277e-01,  0.00000000e+00,  0.00000000e+00,\n",
       "         1.99896614e-01,  6.87034881e-02,  2.69125303e-01,\n",
       "        -5.20475583e-01,  5.56007529e-01,  2.67558365e-01,\n",
       "        -8.70681710e-01,  2.36736538e-01,  1.90813725e+00],\n",
       "       [ 1.55595108e+00,  0.00000000e+00,  0.00000000e+00,\n",
       "         1.25525640e+00,  1.66016920e-01,  6.50138601e-02,\n",
       "         2.70943885e-01, -1.01920973e+00, -4.66233050e-01,\n",
       "         1.21870592e-01, -2.52844176e-01, -3.65006331e-01],\n",
       "       [ 1.63172674e+00,  0.00000000e+00,  0.00000000e+00,\n",
       "         2.62085981e-01,  6.87034881e-02,  4.34619901e-01,\n",
       "         7.17575787e-01, -2.11198815e-01,  8.24915052e-01,\n",
       "         7.70648979e-01, -5.13554932e-01,  3.12020186e-01],\n",
       "       [ 1.08429715e+00,  0.00000000e+00,  0.00000000e+00,\n",
       "         1.99896614e-01, -5.35589865e-01,  2.10976140e+00,\n",
       "         4.15731318e-01,  1.40920289e+00,  1.52141342e+00,\n",
       "         7.70648979e-01,  4.68029391e-01, -5.12328248e-01],\n",
       "       [-4.87692420e-01,  0.00000000e+00,  0.00000000e+00,\n",
       "        -1.68270914e+00, -1.07132315e+00,  5.64164281e-01,\n",
       "        -5.40002291e-01, -1.00067264e+00, -1.53576005e+00,\n",
       "        -3.07098204e-01,  2.36736538e-01,  4.36837705e-01],\n",
       "       [-5.96175935e-01,  0.00000000e+00,  0.00000000e+00,\n",
       "        -7.29846682e-01, -9.61425202e-01,  1.23584791e+00,\n",
       "         2.70943885e-01,  8.22523572e-01, -5.67101779e-01,\n",
       "         1.03166276e+00,  2.36736538e-01,  3.12020186e-01],\n",
       "       [ 2.52632115e-01,  0.00000000e+00,  0.00000000e+00,\n",
       "         1.38197902e-01,  1.36188686e+00, -4.74339591e-01,\n",
       "         2.16180612e-01, -1.28540143e+00, -1.30311671e-01,\n",
       "         7.70648979e-01,  9.08147185e-01, -2.49883997e+00],\n",
       "       [-7.89011402e-01,  0.00000000e+00,  0.00000000e+00,\n",
       "         8.44221534e-01,  7.32678154e-01, -8.20430695e-01,\n",
       "         7.70046367e-01,  1.23474558e-01, -5.67101779e-01,\n",
       "        -8.70681710e-01,  9.08147185e-01,  2.08491727e+00],\n",
       "       [ 3.22037487e-01,  0.00000000e+00,  0.00000000e+00,\n",
       "         1.11616810e+00, -4.32227907e-01, -7.03025726e-01,\n",
       "        -4.28617534e-02,  6.78550021e-01,  7.10994061e-01,\n",
       "        -1.73289617e+00,  4.68029391e-01,  1.33300631e+00],\n",
       "       [ 1.37737301e-01,  0.00000000e+00,  0.00000000e+00,\n",
       "        -1.63010220e-01, -1.28676161e-01,  4.01843420e-01,\n",
       "         1.78963187e+00,  2.79148702e+00,  5.94217890e-01,\n",
       "         1.03166276e+00,  2.09085582e+00,  6.77176215e-01],\n",
       "       [-6.17756609e-01,  0.00000000e+00,  0.00000000e+00,\n",
       "        -4.39755655e-02,  2.62459743e-01, -5.11906087e-01,\n",
       "        -9.98685266e-01,  4.44378919e-01,  1.38786720e-01,\n",
       "        -8.70681710e-01, -1.07533963e+00, -3.65006331e-01],\n",
       "       [-9.36834306e-01,  0.00000000e+00,  0.00000000e+00,\n",
       "        -9.96002506e-01, -4.32227907e-01,  2.69125303e-01,\n",
       "         5.94226550e-01,  4.61238853e-03,  1.92552808e+00,\n",
       "        -3.07098204e-01, -7.87002186e-01, -1.14916472e+00],\n",
       "       [ 1.15032665e-03,  0.00000000e+00,  0.00000000e+00,\n",
       "         1.32558682e+00, -1.52730964e+00,  5.96168091e-01,\n",
       "         4.51648972e-01,  3.53547035e-01, -1.60029335e+00,\n",
       "        -8.70681710e-01,  6.91582693e-01,  9.06023678e-01],\n",
       "       [ 4.61903563e-01,  0.00000000e+00,  0.00000000e+00,\n",
       "        -5.64688157e-01, -2.01564882e+00,  5.96168091e-01,\n",
       "         1.33238489e+00,  9.05280039e-01, -1.22726215e+00,\n",
       "         4.72300348e-01,  4.68029391e-01, -2.21933710e-01],\n",
       "       [-1.48937178e+00,  0.00000000e+00,  0.00000000e+00,\n",
       "        -1.99504220e+00,  8.24510284e-01, -1.52911231e+00,\n",
       "        -1.77854272e+00, -1.00067264e+00,  1.22050964e+00,\n",
       "        -1.73289617e+00,  2.36736538e-01, -1.14916472e+00],\n",
       "       [-2.25681725e+00,  0.00000000e+00,  0.00000000e+00,\n",
       "        -1.30068346e+00, -1.41063754e+00, -2.47829793e+00,\n",
       "         1.42758514e-01, -1.39412379e+00, -5.67101779e-01,\n",
       "         1.21870592e-01, -2.52844176e-01,  1.83903886e-01],\n",
       "       [-1.22682499e+00,  0.00000000e+00,  0.00000000e+00,\n",
       "        -1.63010220e-01,  5.46877831e-01, -1.10289298e+00,\n",
       "        -1.51954034e+00,  1.93183556e-01,  3.09685564e-01,\n",
       "        -8.70681710e-01, -1.07533963e+00, -1.14916472e+00],\n",
       "       [-3.56234524e-01,  0.00000000e+00,  0.00000000e+00,\n",
       "        -6.75253462e-01, -5.35589865e-01,  9.08214214e-01,\n",
       "         1.72536184e+00,  3.42521724e-02, -1.10992538e+00,\n",
       "         1.03166276e+00,  2.09085582e+00,  5.58508906e-01],\n",
       "       [ 2.98863300e-01,  0.00000000e+00,  0.00000000e+00,\n",
       "         8.44221534e-01,  7.32678154e-01, -8.60039342e-01,\n",
       "        -1.17954659e-01, -9.16970789e-01,  5.14700397e-01,\n",
       "         1.26446344e+00,  1.52182832e+00, -2.21933710e-01],\n",
       "       [ 8.65848732e-01,  0.00000000e+00,  0.00000000e+00,\n",
       "         9.11434794e-01,  1.53626470e+00, -1.81252234e-01,\n",
       "         4.87456542e-01,  5.76375836e-01,  1.86548585e+00,\n",
       "        -8.70681710e-01,  2.36736538e-01,  1.83903886e-01],\n",
       "       [-7.25080407e-01,  0.00000000e+00,  0.00000000e+00,\n",
       "        -8.37664770e-01,  4.52860860e-01, -3.99842255e-01,\n",
       "        -7.17272959e-01,  7.29844768e-01,  5.08613716e-02,\n",
       "        -8.70681710e-01, -1.38141238e+00, -2.21933710e-01],\n",
       "       [ 1.28115156e+00,  0.00000000e+00,  0.00000000e+00,\n",
       "        -4.39755655e-02,  1.62263592e+00,  8.77641898e-01,\n",
       "        -1.49822954e+00,  2.83212126e-01,  6.72393731e-01,\n",
       "         4.72300348e-01, -2.06403920e+00, -9.82263658e-01]])"
      ]
     },
     "execution_count": 51,
     "metadata": {},
     "output_type": "execute_result"
    }
   ],
   "source": [
    "scale=StandardScaler()\n",
    "x=scale.fit_transform(x)\n",
    "x"
   ]
  },
  {
   "cell_type": "markdown",
   "id": "750db8bd",
   "metadata": {},
   "source": [
    "## Splitting the DataFrame:\n",
    "\n",
    "#### Random State"
   ]
  },
  {
   "cell_type": "code",
   "execution_count": 52,
   "id": "f0863229",
   "metadata": {},
   "outputs": [
    {
     "name": "stdout",
     "output_type": "stream",
     "text": [
      "Best random state :1 and Train r2 score:0.8550783206268826\n",
      "Best random state :1 and Test r2 score:0.6944530201712398\n",
      "\n",
      "Best random state :2 and Train r2 score:0.8173961865951549\n",
      "Best random state :2 and Test r2 score:-0.8302730889884642\n",
      "\n",
      "Best random state :3 and Train r2 score:0.819905531694192\n",
      "Best random state :3 and Test r2 score:0.7257992916491394\n",
      "\n",
      "Best random state :4 and Train r2 score:0.8536067232046677\n",
      "Best random state :4 and Test r2 score:0.6185081885899691\n",
      "\n",
      "Best random state :5 and Train r2 score:0.8806333789341637\n",
      "Best random state :5 and Test r2 score:0.2671195820874025\n",
      "\n",
      "Best random state :6 and Train r2 score:0.8800922107276877\n",
      "Best random state :6 and Test r2 score:0.662968895995536\n",
      "\n",
      "Best random state :7 and Train r2 score:0.8488482103041881\n",
      "Best random state :7 and Test r2 score:0.385007836129869\n",
      "\n",
      "Best random state :8 and Train r2 score:0.8368074421041336\n",
      "Best random state :8 and Test r2 score:0.7888158307008533\n",
      "\n",
      "Best random state :9 and Train r2 score:0.8917311638958251\n",
      "Best random state :9 and Test r2 score:0.5015820827822994\n",
      "\n",
      "Best random state :10 and Train r2 score:0.9399508558275093\n",
      "Best random state :10 and Test r2 score:-0.5117016785315356\n",
      "\n",
      "Best random state :11 and Train r2 score:0.9109079921055048\n",
      "Best random state :11 and Test r2 score:0.04886409060758978\n",
      "\n",
      "Best random state :12 and Train r2 score:0.8919471790057252\n",
      "Best random state :12 and Test r2 score:0.27977982741202034\n",
      "\n",
      "Best random state :13 and Train r2 score:0.9053501069448883\n",
      "Best random state :13 and Test r2 score:0.2739711385038114\n",
      "\n",
      "Best random state :14 and Train r2 score:0.8691195909657865\n",
      "Best random state :14 and Test r2 score:0.3701592784911558\n",
      "\n",
      "Best random state :15 and Train r2 score:0.8385272576483468\n",
      "Best random state :15 and Test r2 score:0.5735333444312205\n",
      "\n",
      "Best random state :16 and Train r2 score:0.935853543356118\n",
      "Best random state :16 and Test r2 score:-0.9249951418951783\n",
      "\n",
      "Best random state :17 and Train r2 score:0.8655760431957598\n",
      "Best random state :17 and Test r2 score:0.37673370157378305\n",
      "\n",
      "Best random state :18 and Train r2 score:0.8464959189729219\n",
      "Best random state :18 and Test r2 score:0.5330306916379306\n",
      "\n",
      "Best random state :19 and Train r2 score:0.8222691415919188\n",
      "Best random state :19 and Test r2 score:0.6766541512739408\n",
      "\n",
      "Best random state :20 and Train r2 score:0.8125292391448939\n",
      "Best random state :20 and Test r2 score:0.7647327631733323\n",
      "\n",
      "Best random state :21 and Train r2 score:0.9074770068752577\n",
      "Best random state :21 and Test r2 score:0.21000261646654284\n",
      "\n",
      "Best random state :22 and Train r2 score:0.8582939935980883\n",
      "Best random state :22 and Test r2 score:0.08616602479369417\n",
      "\n",
      "Best random state :23 and Train r2 score:0.8273528079101595\n",
      "Best random state :23 and Test r2 score:0.7812319076407751\n",
      "\n",
      "Best random state :24 and Train r2 score:0.8724832534231717\n",
      "Best random state :24 and Test r2 score:0.21676545671501202\n",
      "\n",
      "Best random state :25 and Train r2 score:0.8585981307323538\n",
      "Best random state :25 and Test r2 score:0.006513845670274243\n",
      "\n",
      "Best random state :26 and Train r2 score:0.8480002958260076\n",
      "Best random state :26 and Test r2 score:0.7275287921966029\n",
      "\n",
      "Best random state :27 and Train r2 score:0.9211873672519364\n",
      "Best random state :27 and Test r2 score:0.3819650377364705\n",
      "\n",
      "Best random state :28 and Train r2 score:0.825104563374699\n",
      "Best random state :28 and Test r2 score:0.6905298962669617\n",
      "\n",
      "Best random state :29 and Train r2 score:0.9113531542230844\n",
      "Best random state :29 and Test r2 score:-0.00552056330279993\n",
      "\n",
      "Best random state :30 and Train r2 score:0.8509857432705105\n",
      "Best random state :30 and Test r2 score:0.7298073228638456\n",
      "\n",
      "Best random state :31 and Train r2 score:0.8992425996806522\n",
      "Best random state :31 and Test r2 score:-0.3771636064858943\n",
      "\n",
      "Best random state :32 and Train r2 score:0.8113832716700267\n",
      "Best random state :32 and Test r2 score:0.7138272942200864\n",
      "\n",
      "Best random state :33 and Train r2 score:0.8407516011064432\n",
      "Best random state :33 and Test r2 score:0.624752757356998\n",
      "\n",
      "Best random state :34 and Train r2 score:0.8845358348699611\n",
      "Best random state :34 and Test r2 score:0.4113891940628409\n",
      "\n",
      "Best random state :35 and Train r2 score:0.8479990119190493\n",
      "Best random state :35 and Test r2 score:0.6952731772939855\n",
      "\n",
      "Best random state :36 and Train r2 score:0.8763162839564113\n",
      "Best random state :36 and Test r2 score:0.13325251860846032\n",
      "\n",
      "Best random state :37 and Train r2 score:0.9228618632322304\n",
      "Best random state :37 and Test r2 score:-1.5010519483247844\n",
      "\n",
      "Best random state :38 and Train r2 score:0.865249757405706\n",
      "Best random state :38 and Test r2 score:0.07773460899225426\n",
      "\n",
      "Best random state :39 and Train r2 score:0.950924251758532\n",
      "Best random state :39 and Test r2 score:-0.4038251073899046\n",
      "\n",
      "Best random state :40 and Train r2 score:0.8622524005224339\n",
      "Best random state :40 and Test r2 score:0.000688639866668006\n",
      "\n",
      "Best random state :41 and Train r2 score:0.9075199228855129\n",
      "Best random state :41 and Test r2 score:0.07243207073290969\n",
      "\n",
      "Best random state :42 and Train r2 score:0.8972340750602206\n",
      "Best random state :42 and Test r2 score:0.4655335864386756\n",
      "\n",
      "Best random state :43 and Train r2 score:0.912298794339682\n",
      "Best random state :43 and Test r2 score:-0.6141752546182444\n",
      "\n",
      "Best random state :44 and Train r2 score:0.8937411996023863\n",
      "Best random state :44 and Test r2 score:0.40562989445196374\n",
      "\n",
      "Best random state :45 and Train r2 score:0.9182495520421918\n",
      "Best random state :45 and Test r2 score:0.23426395901147656\n",
      "\n",
      "Best random state :46 and Train r2 score:0.8530713437047932\n",
      "Best random state :46 and Test r2 score:0.7043489488388704\n",
      "\n",
      "Best random state :47 and Train r2 score:0.8743188165183926\n",
      "Best random state :47 and Test r2 score:0.4345159313889384\n",
      "\n",
      "Best random state :48 and Train r2 score:0.8938482300260654\n",
      "Best random state :48 and Test r2 score:0.22262955981972332\n",
      "\n",
      "Best random state :49 and Train r2 score:0.8577760669875533\n",
      "Best random state :49 and Test r2 score:-0.3360373550365736\n",
      "\n",
      "Best random state :50 and Train r2 score:0.8221150674672104\n",
      "Best random state :50 and Test r2 score:0.7939594551235086\n",
      "\n",
      "Best random state :51 and Train r2 score:0.9359599575529463\n",
      "Best random state :51 and Test r2 score:0.3385766994336439\n",
      "\n",
      "Best random state :52 and Train r2 score:0.9378397365348585\n",
      "Best random state :52 and Test r2 score:-0.4484775378078927\n",
      "\n",
      "Best random state :53 and Train r2 score:0.8209278153298688\n",
      "Best random state :53 and Test r2 score:0.7708039490333244\n",
      "\n",
      "Best random state :54 and Train r2 score:0.9235567252009229\n",
      "Best random state :54 and Test r2 score:-1.9173875187876361\n",
      "\n",
      "Best random state :55 and Train r2 score:0.8752906481057526\n",
      "Best random state :55 and Test r2 score:-0.22644840952080347\n",
      "\n",
      "Best random state :56 and Train r2 score:0.8925893895130532\n",
      "Best random state :56 and Test r2 score:0.33714165252975803\n",
      "\n",
      "Best random state :57 and Train r2 score:0.8726441649839928\n",
      "Best random state :57 and Test r2 score:0.661136214748856\n",
      "\n",
      "Best random state :58 and Train r2 score:0.8660366574270221\n",
      "Best random state :58 and Test r2 score:0.5403932960169421\n",
      "\n",
      "Best random state :59 and Train r2 score:0.8818416438921527\n",
      "Best random state :59 and Test r2 score:0.594270386521398\n",
      "\n",
      "Best random state :60 and Train r2 score:0.8628703276962641\n",
      "Best random state :60 and Test r2 score:0.5813479554115251\n",
      "\n",
      "Best random state :61 and Train r2 score:0.9009033464069784\n",
      "Best random state :61 and Test r2 score:0.6143880780288763\n",
      "\n",
      "Best random state :62 and Train r2 score:0.9007772293724219\n",
      "Best random state :62 and Test r2 score:0.37017952259918474\n",
      "\n",
      "Best random state :63 and Train r2 score:0.9292353833605903\n",
      "Best random state :63 and Test r2 score:0.19839409248710715\n",
      "\n",
      "Best random state :64 and Train r2 score:0.877124826041193\n",
      "Best random state :64 and Test r2 score:0.48796440943256947\n",
      "\n",
      "Best random state :65 and Train r2 score:0.8219625386213906\n",
      "Best random state :65 and Test r2 score:0.8230465266163547\n",
      "\n",
      "Best random state :66 and Train r2 score:0.8598322028068799\n",
      "Best random state :66 and Test r2 score:0.5499512978604317\n",
      "\n",
      "Best random state :67 and Train r2 score:0.8212383732694157\n",
      "Best random state :67 and Test r2 score:0.7117124279740378\n",
      "\n",
      "Best random state :68 and Train r2 score:0.8850955057193273\n",
      "Best random state :68 and Test r2 score:0.24391723715352298\n",
      "\n",
      "Best random state :69 and Train r2 score:0.8603590614864745\n",
      "Best random state :69 and Test r2 score:0.30876715043383696\n",
      "\n",
      "Best random state :70 and Train r2 score:0.8462734437420446\n",
      "Best random state :70 and Test r2 score:0.7368116272479812\n",
      "\n",
      "Best random state :71 and Train r2 score:0.9319856237676132\n",
      "Best random state :71 and Test r2 score:-1.5093641421941202\n",
      "\n",
      "Best random state :72 and Train r2 score:0.9206777248261399\n",
      "Best random state :72 and Test r2 score:-2.2403552650803227\n",
      "\n",
      "Best random state :73 and Train r2 score:0.8390618218119078\n",
      "Best random state :73 and Test r2 score:0.6052614463854129\n",
      "\n",
      "Best random state :74 and Train r2 score:0.8785955234554572\n",
      "Best random state :74 and Test r2 score:-0.20040274232274569\n",
      "\n",
      "Best random state :75 and Train r2 score:0.8612262526998182\n",
      "Best random state :75 and Test r2 score:0.6963933306845426\n",
      "\n",
      "Best random state :76 and Train r2 score:0.7891174651749291\n",
      "Best random state :76 and Test r2 score:0.9185290272722267\n",
      "\n",
      "Best random state :77 and Train r2 score:0.8730794224700524\n",
      "Best random state :77 and Test r2 score:0.588355624284441\n",
      "\n",
      "Best random state :78 and Train r2 score:0.8466216932658616\n",
      "Best random state :78 and Test r2 score:0.5394527863583267\n",
      "\n",
      "Best random state :79 and Train r2 score:0.9113677258593145\n",
      "Best random state :79 and Test r2 score:0.4959225177351757\n",
      "\n",
      "Best random state :80 and Train r2 score:0.8767851985771222\n",
      "Best random state :80 and Test r2 score:0.2299916200321268\n",
      "\n",
      "Best random state :81 and Train r2 score:0.8859066001189972\n",
      "Best random state :81 and Test r2 score:0.3585613017579734\n",
      "\n",
      "Best random state :82 and Train r2 score:0.8826854468714795\n",
      "Best random state :82 and Test r2 score:0.13199465765239304\n",
      "\n",
      "Best random state :83 and Train r2 score:0.8667594479683031\n",
      "Best random state :83 and Test r2 score:0.4060945381224481\n",
      "\n",
      "Best random state :84 and Train r2 score:0.9385810541067555\n",
      "Best random state :84 and Test r2 score:-0.9716437638836126\n",
      "\n",
      "Best random state :85 and Train r2 score:0.8881377549571116\n",
      "Best random state :85 and Test r2 score:0.4661188043930137\n",
      "\n",
      "Best random state :86 and Train r2 score:0.8462651825975335\n",
      "Best random state :86 and Test r2 score:0.04597782286912733\n",
      "\n"
     ]
    },
    {
     "name": "stdout",
     "output_type": "stream",
     "text": [
      "Best random state :87 and Train r2 score:0.863487733195145\n",
      "Best random state :87 and Test r2 score:-0.16547278837729418\n",
      "\n",
      "Best random state :88 and Train r2 score:0.9475429118596443\n",
      "Best random state :88 and Test r2 score:-2.2511776528197966\n",
      "\n",
      "Best random state :89 and Train r2 score:0.8591789211440064\n",
      "Best random state :89 and Test r2 score:0.6097641626791956\n",
      "\n",
      "Best random state :90 and Train r2 score:0.8658939087991939\n",
      "Best random state :90 and Test r2 score:0.4581525944679894\n",
      "\n",
      "Best random state :91 and Train r2 score:0.9190492185868503\n",
      "Best random state :91 and Test r2 score:0.29149668214416635\n",
      "\n",
      "Best random state :92 and Train r2 score:0.9218933139577338\n",
      "Best random state :92 and Test r2 score:-0.3099011382308272\n",
      "\n",
      "Best random state :93 and Train r2 score:0.9143576037314244\n",
      "Best random state :93 and Test r2 score:-1.9595624512009362\n",
      "\n",
      "Best random state :94 and Train r2 score:0.8534758340216136\n",
      "Best random state :94 and Test r2 score:0.4293934900803491\n",
      "\n",
      "Best random state :95 and Train r2 score:0.8416164725001251\n",
      "Best random state :95 and Test r2 score:0.4751035016288301\n",
      "\n",
      "Best random state :96 and Train r2 score:0.8273151225809028\n",
      "Best random state :96 and Test r2 score:0.7375169410944524\n",
      "\n",
      "Best random state :97 and Train r2 score:0.8236368488127326\n",
      "Best random state :97 and Test r2 score:0.7442204371428509\n",
      "\n",
      "Best random state :98 and Train r2 score:0.8611976511495218\n",
      "Best random state :98 and Test r2 score:0.2898364888501481\n",
      "\n",
      "Best random state :99 and Train r2 score:0.9103533412329969\n",
      "Best random state :99 and Test r2 score:-0.14095624408519059\n",
      "\n",
      "Best random state :100 and Train r2 score:0.9051726363086786\n",
      "Best random state :100 and Test r2 score:-0.14178130445144888\n",
      "\n",
      "Best random state :101 and Train r2 score:0.9320306072637443\n",
      "Best random state :101 and Test r2 score:0.034959449113693974\n",
      "\n",
      "Best random state :102 and Train r2 score:0.8362828123333106\n",
      "Best random state :102 and Test r2 score:0.640259173682842\n",
      "\n",
      "Best random state :103 and Train r2 score:0.9106456925696681\n",
      "Best random state :103 and Test r2 score:0.23959832123553948\n",
      "\n",
      "Best random state :104 and Train r2 score:0.8605537790107141\n",
      "Best random state :104 and Test r2 score:0.5923471073247881\n",
      "\n",
      "Best random state :105 and Train r2 score:0.9323376838018609\n",
      "Best random state :105 and Test r2 score:-0.9943349524661123\n",
      "\n",
      "Best random state :106 and Train r2 score:0.8713058500254478\n",
      "Best random state :106 and Test r2 score:0.643807006282219\n",
      "\n",
      "Best random state :107 and Train r2 score:0.928656092211921\n",
      "Best random state :107 and Test r2 score:-0.7194596537313382\n",
      "\n",
      "Best random state :108 and Train r2 score:0.8211718732636344\n",
      "Best random state :108 and Test r2 score:0.4630147332150326\n",
      "\n",
      "Best random state :109 and Train r2 score:0.9699597269140462\n",
      "Best random state :109 and Test r2 score:-1.3716294448441335\n",
      "\n",
      "Best random state :110 and Train r2 score:0.8669352047255485\n",
      "Best random state :110 and Test r2 score:-0.1121397007506666\n",
      "\n",
      "Best random state :111 and Train r2 score:0.8561524731571144\n",
      "Best random state :111 and Test r2 score:0.5405745621433407\n",
      "\n",
      "Best random state :112 and Train r2 score:0.8514409217724963\n",
      "Best random state :112 and Test r2 score:0.3328522500395137\n",
      "\n",
      "Best random state :113 and Train r2 score:0.8542831901293059\n",
      "Best random state :113 and Test r2 score:-0.008646931213463382\n",
      "\n",
      "Best random state :114 and Train r2 score:0.8402941804598683\n",
      "Best random state :114 and Test r2 score:0.7426749233119214\n",
      "\n",
      "Best random state :115 and Train r2 score:0.8838594063221887\n",
      "Best random state :115 and Test r2 score:0.20551561486177694\n",
      "\n",
      "Best random state :116 and Train r2 score:0.8066043614702\n",
      "Best random state :116 and Test r2 score:0.6946603354616852\n",
      "\n",
      "Best random state :117 and Train r2 score:0.9165797769595697\n",
      "Best random state :117 and Test r2 score:0.14599217072856718\n",
      "\n",
      "Best random state :118 and Train r2 score:0.8720949542137636\n",
      "Best random state :118 and Test r2 score:0.5299161502073324\n",
      "\n",
      "Best random state :119 and Train r2 score:0.8577174408959799\n",
      "Best random state :119 and Test r2 score:0.1923408719080122\n",
      "\n",
      "Best random state :120 and Train r2 score:0.9555502509305716\n",
      "Best random state :120 and Test r2 score:-6.623442567459627\n",
      "\n",
      "Best random state :121 and Train r2 score:0.8256284472842839\n",
      "Best random state :121 and Test r2 score:0.6783516694656908\n",
      "\n",
      "Best random state :122 and Train r2 score:0.8736907733430403\n",
      "Best random state :122 and Test r2 score:0.5293042914227706\n",
      "\n",
      "Best random state :123 and Train r2 score:0.9420276046388477\n",
      "Best random state :123 and Test r2 score:-1.3695298753222027\n",
      "\n",
      "Best random state :124 and Train r2 score:0.9013001168048138\n",
      "Best random state :124 and Test r2 score:-1.2906388317506812\n",
      "\n",
      "Best random state :125 and Train r2 score:0.8710465845396251\n",
      "Best random state :125 and Test r2 score:0.35196292553270936\n",
      "\n",
      "Best random state :126 and Train r2 score:0.9618240158128494\n",
      "Best random state :126 and Test r2 score:-1.4222310926870816\n",
      "\n",
      "Best random state :127 and Train r2 score:0.9431920007497755\n",
      "Best random state :127 and Test r2 score:-0.862986894629642\n",
      "\n",
      "Best random state :128 and Train r2 score:0.9191975862328999\n",
      "Best random state :128 and Test r2 score:0.36182292543692607\n",
      "\n",
      "Best random state :129 and Train r2 score:0.8586998865513112\n",
      "Best random state :129 and Test r2 score:0.482988556823427\n",
      "\n",
      "Best random state :130 and Train r2 score:0.8109508918414513\n",
      "Best random state :130 and Test r2 score:0.7457507110965595\n",
      "\n",
      "Best random state :131 and Train r2 score:0.9035751364333298\n",
      "Best random state :131 and Test r2 score:0.3244393718906081\n",
      "\n",
      "Best random state :132 and Train r2 score:0.8580691800675185\n",
      "Best random state :132 and Test r2 score:0.6678597155119168\n",
      "\n",
      "Best random state :133 and Train r2 score:0.8423652487020992\n",
      "Best random state :133 and Test r2 score:0.6314327095071817\n",
      "\n",
      "Best random state :134 and Train r2 score:0.8663271678861245\n",
      "Best random state :134 and Test r2 score:-0.5549618958617824\n",
      "\n",
      "Best random state :135 and Train r2 score:0.861146796090321\n",
      "Best random state :135 and Test r2 score:0.3309486178640181\n",
      "\n",
      "Best random state :136 and Train r2 score:0.878029311670874\n",
      "Best random state :136 and Test r2 score:0.28366538247648254\n",
      "\n",
      "Best random state :137 and Train r2 score:0.9437356754393428\n",
      "Best random state :137 and Test r2 score:-0.05612736858695899\n",
      "\n",
      "Best random state :138 and Train r2 score:0.8502244320727738\n",
      "Best random state :138 and Test r2 score:0.5973036221320672\n",
      "\n",
      "Best random state :139 and Train r2 score:0.8713025336713579\n",
      "Best random state :139 and Test r2 score:0.4117204831190494\n",
      "\n",
      "Best random state :140 and Train r2 score:0.8374928646503408\n",
      "Best random state :140 and Test r2 score:0.8250910481974925\n",
      "\n",
      "Best random state :141 and Train r2 score:0.8666433371275284\n",
      "Best random state :141 and Test r2 score:0.6269756211251551\n",
      "\n",
      "Best random state :142 and Train r2 score:0.8323751725564188\n",
      "Best random state :142 and Test r2 score:0.701583370990054\n",
      "\n",
      "Best random state :143 and Train r2 score:0.895815804886553\n",
      "Best random state :143 and Test r2 score:0.02640994792537732\n",
      "\n",
      "Best random state :144 and Train r2 score:0.789677435502983\n",
      "Best random state :144 and Test r2 score:0.8101981625423288\n",
      "\n",
      "Best random state :145 and Train r2 score:0.8836695409131285\n",
      "Best random state :145 and Test r2 score:0.2860496878651684\n",
      "\n",
      "Best random state :146 and Train r2 score:0.8656230735310653\n",
      "Best random state :146 and Test r2 score:0.5969651540722385\n",
      "\n",
      "Best random state :147 and Train r2 score:0.9306574355572572\n",
      "Best random state :147 and Test r2 score:-0.057298695318246606\n",
      "\n",
      "Best random state :148 and Train r2 score:0.8548958083547576\n",
      "Best random state :148 and Test r2 score:0.6384919829605873\n",
      "\n",
      "Best random state :149 and Train r2 score:0.9009188667743558\n",
      "Best random state :149 and Test r2 score:-0.07207595819432067\n",
      "\n",
      "Best random state :150 and Train r2 score:0.9059761068615496\n",
      "Best random state :150 and Test r2 score:0.1844916055232919\n",
      "\n",
      "Best random state :151 and Train r2 score:0.8556692157019239\n",
      "Best random state :151 and Test r2 score:0.6118968459208625\n",
      "\n",
      "Best random state :152 and Train r2 score:0.856153461750434\n",
      "Best random state :152 and Test r2 score:0.4902303074058948\n",
      "\n",
      "Best random state :153 and Train r2 score:0.8714792176745437\n",
      "Best random state :153 and Test r2 score:0.10925297556603997\n",
      "\n",
      "Best random state :154 and Train r2 score:0.8739300380405348\n",
      "Best random state :154 and Test r2 score:0.5935512897623068\n",
      "\n",
      "Best random state :155 and Train r2 score:0.9098356168464481\n",
      "Best random state :155 and Test r2 score:0.216120540210624\n",
      "\n",
      "Best random state :156 and Train r2 score:0.9056427160507095\n",
      "Best random state :156 and Test r2 score:0.018814135402419496\n",
      "\n",
      "Best random state :157 and Train r2 score:0.9284659458955782\n",
      "Best random state :157 and Test r2 score:-1.4159045234836598\n",
      "\n",
      "Best random state :158 and Train r2 score:0.9320936659202462\n",
      "Best random state :158 and Test r2 score:-0.6286282548444766\n",
      "\n",
      "Best random state :159 and Train r2 score:0.8597387912474086\n",
      "Best random state :159 and Test r2 score:0.47027771500038895\n",
      "\n",
      "Best random state :160 and Train r2 score:0.8379118213367832\n",
      "Best random state :160 and Test r2 score:0.29573331106639256\n",
      "\n",
      "Best random state :161 and Train r2 score:0.9461963972912196\n",
      "Best random state :161 and Test r2 score:-2.2122205529123913\n",
      "\n",
      "Best random state :162 and Train r2 score:0.8605014977297326\n",
      "Best random state :162 and Test r2 score:0.6550063169709972\n",
      "\n",
      "Best random state :163 and Train r2 score:0.8277509424953171\n",
      "Best random state :163 and Test r2 score:0.8116095548653742\n",
      "\n",
      "Best random state :164 and Train r2 score:0.8852281730510276\n",
      "Best random state :164 and Test r2 score:-0.19069609205770566\n",
      "\n",
      "Best random state :165 and Train r2 score:0.8029437534235332\n",
      "Best random state :165 and Test r2 score:0.8964957824336897\n",
      "\n",
      "Best random state :166 and Train r2 score:0.8631181929950187\n",
      "Best random state :166 and Test r2 score:0.2697424836980127\n",
      "\n",
      "Best random state :167 and Train r2 score:0.8623154933688206\n",
      "Best random state :167 and Test r2 score:0.42970349399108043\n",
      "\n",
      "Best random state :168 and Train r2 score:0.8882521835310075\n",
      "Best random state :168 and Test r2 score:0.3975162996029581\n",
      "\n",
      "Best random state :169 and Train r2 score:0.8792831554467417\n",
      "Best random state :169 and Test r2 score:-0.5300631055782965\n",
      "\n",
      "Best random state :170 and Train r2 score:0.9040021546266599\n",
      "Best random state :170 and Test r2 score:-1.0212861833098916\n",
      "\n",
      "Best random state :171 and Train r2 score:0.8535452863051446\n",
      "Best random state :171 and Test r2 score:0.47599894153178546\n",
      "\n",
      "Best random state :172 and Train r2 score:0.9048920196419665\n",
      "Best random state :172 and Test r2 score:0.008969209409595669\n",
      "\n",
      "Best random state :173 and Train r2 score:0.8612074249724883\n",
      "Best random state :173 and Test r2 score:0.6018894003555653\n",
      "\n",
      "Best random state :174 and Train r2 score:0.9108761704183702\n",
      "Best random state :174 and Test r2 score:0.07671087271828192\n",
      "\n",
      "Best random state :175 and Train r2 score:0.8924255594065218\n",
      "Best random state :175 and Test r2 score:0.32836049010101986\n",
      "\n",
      "Best random state :176 and Train r2 score:0.8346132660627523\n",
      "Best random state :176 and Test r2 score:0.7877847892466657\n",
      "\n",
      "Best random state :177 and Train r2 score:0.9314177167375006\n",
      "Best random state :177 and Test r2 score:-2.1404813047935463\n",
      "\n",
      "Best random state :178 and Train r2 score:0.8337290608760369\n",
      "Best random state :178 and Test r2 score:0.7068531602835976\n",
      "\n",
      "Best random state :179 and Train r2 score:0.888131825951145\n",
      "Best random state :179 and Test r2 score:0.38387589338156614\n",
      "\n",
      "Best random state :180 and Train r2 score:0.8230348828099942\n",
      "Best random state :180 and Test r2 score:0.7401268788090296\n",
      "\n",
      "Best random state :181 and Train r2 score:0.8483930418328021\n",
      "Best random state :181 and Test r2 score:0.7160191068493691\n",
      "\n",
      "Best random state :182 and Train r2 score:0.9199489642644296\n",
      "Best random state :182 and Test r2 score:-0.20863907572122176\n",
      "\n",
      "Best random state :183 and Train r2 score:0.8766779189118951\n",
      "Best random state :183 and Test r2 score:0.2703865040483927\n",
      "\n",
      "Best random state :184 and Train r2 score:0.8677163435568543\n",
      "Best random state :184 and Test r2 score:0.6108617003774912\n",
      "\n",
      "Best random state :185 and Train r2 score:0.9092844310992815\n",
      "Best random state :185 and Test r2 score:-1.5936787763585634\n",
      "\n",
      "Best random state :186 and Train r2 score:0.8702962274450362\n",
      "Best random state :186 and Test r2 score:0.45434894141873516\n",
      "\n",
      "Best random state :187 and Train r2 score:0.901814962200749\n",
      "Best random state :187 and Test r2 score:-1.0210842220749208\n",
      "\n",
      "Best random state :188 and Train r2 score:0.8627299486357033\n",
      "Best random state :188 and Test r2 score:0.4444746030893123\n",
      "\n",
      "Best random state :189 and Train r2 score:0.7981931210826643\n",
      "Best random state :189 and Test r2 score:0.7216689344243834\n",
      "\n",
      "Best random state :190 and Train r2 score:0.8343779676109695\n",
      "Best random state :190 and Test r2 score:0.6813561446244574\n",
      "\n",
      "Best random state :191 and Train r2 score:0.836710734935959\n",
      "Best random state :191 and Test r2 score:0.7404072826800978\n",
      "\n",
      "Best random state :192 and Train r2 score:0.8298413024759907\n",
      "Best random state :192 and Test r2 score:0.6923759054014429\n",
      "\n",
      "Best random state :193 and Train r2 score:0.880318074723726\n",
      "Best random state :193 and Test r2 score:-2.2814416162139186\n",
      "\n",
      "Best random state :194 and Train r2 score:0.853611599536406\n",
      "Best random state :194 and Test r2 score:0.5310690179896316\n",
      "\n",
      "Best random state :195 and Train r2 score:0.8904026151388396\n",
      "Best random state :195 and Test r2 score:0.6290001934903782\n",
      "\n",
      "Best random state :196 and Train r2 score:0.8539819471395776\n",
      "Best random state :196 and Test r2 score:0.5499886693824172\n",
      "\n",
      "Best random state :197 and Train r2 score:0.8713706784670159\n",
      "Best random state :197 and Test r2 score:0.19074290797452398\n",
      "\n",
      "Best random state :198 and Train r2 score:0.867270492837714\n",
      "Best random state :198 and Test r2 score:0.511672316879348\n",
      "\n",
      "Best random state :199 and Train r2 score:0.8913910867625322\n",
      "Best random state :199 and Test r2 score:0.274218925421262\n",
      "\n"
     ]
    }
   ],
   "source": [
    "maxScore = 0\n",
    "maxRS = 0\n",
    "\n",
    "for i in range(1,200):\n",
    "    x_train,x_test,y_train,y_test=train_test_split(x,y,test_size=0.23,random_state=i)\n",
    "    lr = LinearRegression()\n",
    "    lr.fit(x_train,y_train)\n",
    "    pred_train = lr.predict(x_train)\n",
    "    pred_test = lr.predict(x_test)\n",
    "    print(f\"Best random state :{i} and Train r2 score:{r2_score(y_train,pred_train)}\")\n",
    "    print(f\"Best random state :{i} and Test r2 score:{r2_score(y_test,pred_test)}\")\n",
    "    print(\"\")"
   ]
  },
  {
   "cell_type": "markdown",
   "id": "2e34e7fa",
   "metadata": {},
   "source": [
    "#### Best random state :23 and Train r2 score:0.8273528079101592\n",
    "#### Best random state :23 and Test r2 score:0.7812319076407752¶"
   ]
  },
  {
   "cell_type": "code",
   "execution_count": 53,
   "id": "db44095f",
   "metadata": {},
   "outputs": [],
   "source": [
    "x_train,x_test,y_train,y_test=train_test_split(x,y,test_size=0.30,random_state=23)"
   ]
  },
  {
   "cell_type": "markdown",
   "id": "191b9414",
   "metadata": {},
   "source": [
    "## Linear Regression"
   ]
  },
  {
   "cell_type": "code",
   "execution_count": 54,
   "id": "7dbe4ebf",
   "metadata": {},
   "outputs": [],
   "source": [
    "lr = LinearRegression()\n",
    "lr.fit(x_train,y_train)\n",
    "prec =lr.predict(x_test)"
   ]
  },
  {
   "cell_type": "code",
   "execution_count": 55,
   "id": "bb9c5b76",
   "metadata": {},
   "outputs": [],
   "source": [
    "def performance(actual,prec):\n",
    "    print(\"error\")\n",
    "    print(\"Mean absolute error\",mean_absolute_error(actual,prec))\n",
    "    print(\"mean square error\",mean_squared_error(actual,prec))\n",
    "    print(\"R2 Score :\",r2_score(actual,prec))"
   ]
  },
  {
   "cell_type": "code",
   "execution_count": 56,
   "id": "730eb4a0",
   "metadata": {},
   "outputs": [
    {
     "name": "stdout",
     "output_type": "stream",
     "text": [
      "error\n",
      "Mean absolute error 4.03176543616171\n",
      "mean square error 27.986463387272035\n",
      "R2 Score : 0.8168010720568099\n"
     ]
    }
   ],
   "source": [
    "performance(y_test,prec)"
   ]
  },
  {
   "cell_type": "markdown",
   "id": "db882230",
   "metadata": {},
   "source": [
    "### CROSS Validation"
   ]
  },
  {
   "cell_type": "code",
   "execution_count": 57,
   "id": "0f698df7",
   "metadata": {},
   "outputs": [],
   "source": [
    "from sklearn.model_selection import cross_val_score"
   ]
  },
  {
   "cell_type": "code",
   "execution_count": 58,
   "id": "1d7b6f10",
   "metadata": {},
   "outputs": [
    {
     "data": {
      "text/plain": [
       "-5.944004960197793"
      ]
     },
     "execution_count": 58,
     "metadata": {},
     "output_type": "execute_result"
    }
   ],
   "source": [
    "cross_ls = cross_val_score(LinearRegression(),x,y,cv=10)\n",
    "cross_ls.mean()"
   ]
  },
  {
   "cell_type": "markdown",
   "id": "7097345a",
   "metadata": {},
   "source": [
    "#### Regularation Process"
   ]
  },
  {
   "cell_type": "code",
   "execution_count": 60,
   "id": "8125be29",
   "metadata": {},
   "outputs": [],
   "source": [
    "from sklearn.linear_model import Lasso,Ridge,ElasticNet"
   ]
  },
  {
   "cell_type": "code",
   "execution_count": 61,
   "id": "9c9ecc95",
   "metadata": {},
   "outputs": [
    {
     "name": "stdout",
     "output_type": "stream",
     "text": [
      "0.8168265237541108\n"
     ]
    }
   ],
   "source": [
    "le =Lasso(alpha=0.0001)\n",
    "le.fit(x_train,y_train)\n",
    "predict = le.predict(x_test)\n",
    "le.score(x_train,y_train)\n",
    "\n",
    "print(r2_score(y_test,predict))"
   ]
  },
  {
   "cell_type": "markdown",
   "id": "579025cb",
   "metadata": {},
   "source": [
    "#### Cross Validation"
   ]
  },
  {
   "cell_type": "code",
   "execution_count": 62,
   "id": "f04886c1",
   "metadata": {},
   "outputs": [
    {
     "data": {
      "text/plain": [
       "-5.943691740647569"
      ]
     },
     "execution_count": 62,
     "metadata": {},
     "output_type": "execute_result"
    }
   ],
   "source": [
    "cross_Val = cross_val_score(le,x,y,cv=10)\n",
    "cross_Val.mean()"
   ]
  },
  {
   "cell_type": "code",
   "execution_count": 63,
   "id": "7ea8be78",
   "metadata": {},
   "outputs": [
    {
     "data": {
      "text/plain": [
       "0.8137232776132801"
      ]
     },
     "execution_count": 63,
     "metadata": {},
     "output_type": "execute_result"
    }
   ],
   "source": [
    "# Ridge model\n",
    "rg =Ridge(alpha=0.0001)\n",
    "rg.fit(x_train,y_train)\n",
    "rg.score(x_train,y_train)"
   ]
  },
  {
   "cell_type": "markdown",
   "id": "f75e7b20",
   "metadata": {},
   "source": [
    "#### Cross Validation"
   ]
  },
  {
   "cell_type": "code",
   "execution_count": 64,
   "id": "92d64587",
   "metadata": {},
   "outputs": [
    {
     "data": {
      "text/plain": [
       "-5.943965765736463"
      ]
     },
     "execution_count": 64,
     "metadata": {},
     "output_type": "execute_result"
    }
   ],
   "source": [
    "cross_Val = cross_val_score(rg,x,y,cv=10)\n",
    "cross_Val.mean()"
   ]
  },
  {
   "cell_type": "code",
   "execution_count": 65,
   "id": "f585a432",
   "metadata": {},
   "outputs": [
    {
     "data": {
      "text/plain": [
       "0.8137232507356761"
      ]
     },
     "execution_count": 65,
     "metadata": {},
     "output_type": "execute_result"
    }
   ],
   "source": [
    "# Elastic model\n",
    "el=ElasticNet(alpha=0.0001)\n",
    "el.fit(x_train,y_train)\n",
    "el.score(x_train,y_train)"
   ]
  },
  {
   "cell_type": "code",
   "execution_count": 66,
   "id": "a19c540e",
   "metadata": {},
   "outputs": [
    {
     "data": {
      "text/plain": [
       "-5.943337716598094"
      ]
     },
     "execution_count": 66,
     "metadata": {},
     "output_type": "execute_result"
    }
   ],
   "source": [
    "cross_Val = cross_val_score(el,x,y,cv=10)\n",
    "cross_Val.mean()"
   ]
  },
  {
   "cell_type": "markdown",
   "id": "8a1965f5",
   "metadata": {},
   "source": [
    "### Model - Some other model to handle dataset"
   ]
  },
  {
   "cell_type": "code",
   "execution_count": 67,
   "id": "178fb61e",
   "metadata": {},
   "outputs": [
    {
     "name": "stdout",
     "output_type": "stream",
     "text": [
      "0.6358537742904089\n",
      "error\n",
      "Mean absolute error 4.905212383464165\n",
      "mean square error 36.60099160443789\n",
      "Cross validation -7.021812327196168\n",
      "\n",
      "0.3895161851925393\n",
      "error\n",
      "Mean absolute error 9.851454594487656\n",
      "mean square error 140.93521519982315\n",
      "Cross validation -5.847696092613177\n",
      "\n",
      "0.19200226673928955\n",
      "error\n",
      "Mean absolute error 9.691732263925418\n",
      "mean square error 138.04056011158093\n",
      "Cross validation -6.54114430244923\n",
      "\n",
      "0.2900438840905165\n",
      "error\n",
      "Mean absolute error 8.554165172205888\n",
      "mean square error 117.30892833172064\n",
      "Cross validation -4.160333456071724\n",
      "\n"
     ]
    }
   ],
   "source": [
    "from sklearn.svm import SVR\n",
    "\n",
    "kernel = ['linear', 'poly', 'rbf', 'sigmoid']\n",
    "\n",
    "for i in kernel:\n",
    "    sr = SVR(kernel=i)\n",
    "    sr.fit(x_train,y_train)\n",
    "    print(sr.score(x_train,y_train))\n",
    "    prec = sr.predict(x_test)\n",
    "    print(\"error\")\n",
    "    print(\"Mean absolute error\",mean_absolute_error(y_test,prec))\n",
    "    print(\"mean square error\",mean_squared_error(y_test,prec))\n",
    "    cross_Val = cross_val_score(sr,x,y,cv=10)\n",
    "    print(\"Cross validation\",cross_Val.mean())\n",
    "    print(\"\")"
   ]
  },
  {
   "cell_type": "markdown",
   "id": "7039fbfd",
   "metadata": {},
   "source": [
    "### Hyper Parameter Tuning"
   ]
  },
  {
   "cell_type": "code",
   "execution_count": 68,
   "id": "e19b03e3",
   "metadata": {},
   "outputs": [],
   "source": [
    "from sklearn.model_selection import GridSearchCV"
   ]
  },
  {
   "cell_type": "code",
   "execution_count": 69,
   "id": "a7888f15",
   "metadata": {},
   "outputs": [],
   "source": [
    "# Lasso Regrssion param\n",
    "\n",
    "param ={'alpha':[0.1,0.01,0.001,0.0001],\n",
    "       'selection':['cyclic', 'random']}"
   ]
  },
  {
   "cell_type": "code",
   "execution_count": 70,
   "id": "bd2774b4",
   "metadata": {},
   "outputs": [
    {
     "data": {
      "text/plain": [
       "{'alpha': 0.1, 'selection': 'random'}"
      ]
     },
     "execution_count": 70,
     "metadata": {},
     "output_type": "execute_result"
    }
   ],
   "source": [
    "lasso_hp = GridSearchCV(Lasso(),param,cv=5)\n",
    "lasso_hp.fit(x_train,y_train)\n",
    "lasso_hp.best_params_"
   ]
  },
  {
   "cell_type": "code",
   "execution_count": 71,
   "id": "2fda6bf0",
   "metadata": {},
   "outputs": [
    {
     "name": "stdout",
     "output_type": "stream",
     "text": [
      "0.8265142854627615\n"
     ]
    }
   ],
   "source": [
    "# Through alpha value it will be corrected\n",
    "le =Lasso(alpha=0.1,selection='random')\n",
    "le.fit(x_train,y_train)\n",
    "predict = le.predict(x_test)\n",
    "le.score(x_train,y_train)\n",
    "\n",
    "print(r2_score(y_test,predict))"
   ]
  },
  {
   "cell_type": "code",
   "execution_count": 72,
   "id": "5bcfd5a5",
   "metadata": {},
   "outputs": [],
   "source": [
    "# Ridge Regrssion param\n",
    "\n",
    "param_r ={'alpha':[0.1,0.01,0.001,0.0001],\n",
    "       'solver':['auto', 'svd', 'cholesky', 'lsqr', 'sparse_cg', 'sag', 'saga']}"
   ]
  },
  {
   "cell_type": "code",
   "execution_count": 73,
   "id": "9d6a7bf5",
   "metadata": {},
   "outputs": [
    {
     "data": {
      "text/plain": [
       "{'alpha': 0.1, 'solver': 'saga'}"
      ]
     },
     "execution_count": 73,
     "metadata": {},
     "output_type": "execute_result"
    }
   ],
   "source": [
    "ridge_hp = GridSearchCV(Ridge(),param_r,cv=5)\n",
    "ridge_hp.fit(x_train,y_train)\n",
    "ridge_hp.best_params_"
   ]
  },
  {
   "cell_type": "code",
   "execution_count": 74,
   "id": "9fcaa79d",
   "metadata": {},
   "outputs": [
    {
     "name": "stdout",
     "output_type": "stream",
     "text": [
      "0.8160048090102369\n"
     ]
    }
   ],
   "source": [
    "# Ridge model\n",
    "rg =Ridge(alpha=0.1,solver ='saga')\n",
    "rg.fit(x_train,y_train)\n",
    "rg.score(x_train,y_train)\n",
    "predict = rg.predict(x_test)\n",
    "\n",
    "print(r2_score(y_test,predict))"
   ]
  },
  {
   "cell_type": "markdown",
   "id": "719045c1",
   "metadata": {},
   "source": [
    "##### Lasso Regrssion model is giving higher accuracy so we are selecting this model."
   ]
  },
  {
   "cell_type": "markdown",
   "id": "8c14ab1c",
   "metadata": {},
   "source": [
    "### Model Saving:"
   ]
  },
  {
   "cell_type": "code",
   "execution_count": 75,
   "id": "d3e9896e",
   "metadata": {},
   "outputs": [
    {
     "data": {
      "text/plain": [
       "['Base_Ball_wins_prediction.obj']"
      ]
     },
     "execution_count": 75,
     "metadata": {},
     "output_type": "execute_result"
    }
   ],
   "source": [
    "import joblib\n",
    "joblib.dump(le,\"Base_Ball_wins_prediction.obj\")"
   ]
  },
  {
   "cell_type": "code",
   "execution_count": 76,
   "id": "3796fd62",
   "metadata": {},
   "outputs": [
    {
     "data": {
      "text/plain": [
       "Lasso(alpha=0.1, selection='random')"
      ]
     },
     "execution_count": 76,
     "metadata": {},
     "output_type": "execute_result"
    }
   ],
   "source": [
    "#loding model to file\n",
    "\n",
    "job=joblib.load(\"Base_Ball_wins_prediction.obj\")\n",
    "job"
   ]
  },
  {
   "cell_type": "code",
   "execution_count": null,
   "id": "452e29c4",
   "metadata": {},
   "outputs": [],
   "source": []
  },
  {
   "cell_type": "code",
   "execution_count": null,
   "id": "e5fe832e",
   "metadata": {},
   "outputs": [],
   "source": []
  }
 ],
 "metadata": {
  "kernelspec": {
   "display_name": "Python 3",
   "language": "python",
   "name": "python3"
  },
  "language_info": {
   "codemirror_mode": {
    "name": "ipython",
    "version": 3
   },
   "file_extension": ".py",
   "mimetype": "text/x-python",
   "name": "python",
   "nbconvert_exporter": "python",
   "pygments_lexer": "ipython3",
   "version": "3.8.8"
  }
 },
 "nbformat": 4,
 "nbformat_minor": 5
}
